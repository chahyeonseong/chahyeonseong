{
  "nbformat": 4,
  "nbformat_minor": 0,
  "metadata": {
    "colab": {
      "provenance": [],
      "authorship_tag": "ABX9TyPA0QylakumkBMhJOu4p+rs",
      "include_colab_link": true
    },
    "kernelspec": {
      "name": "python3",
      "display_name": "Python 3"
    },
    "language_info": {
      "name": "python"
    }
  },
  "cells": [
    {
      "cell_type": "markdown",
      "metadata": {
        "id": "view-in-github",
        "colab_type": "text"
      },
      "source": [
        "<a href=\"https://colab.research.google.com/github/chahyeonseong/chahyeonseong/blob/main/%EC%BD%94%EB%93%9C_1.ipynb\" target=\"_parent\"><img src=\"https://colab.research.google.com/assets/colab-badge.svg\" alt=\"Open In Colab\"/></a>"
      ]
    },
    {
      "cell_type": "markdown",
      "source": [
        "#빅데이터 마케팅\n",
        "#차현성\n",
        "#2022"
      ],
      "metadata": {
        "id": "wuTefVXgm2YJ"
      }
    },
    {
      "cell_type": "markdown",
      "source": [
        "#시작"
      ],
      "metadata": {
        "id": "ti5d8jOvldH2"
      }
    },
    {
      "cell_type": "code",
      "source": [
        "print(\"Hollo World!\")"
      ],
      "metadata": {
        "colab": {
          "base_uri": "https://localhost:8080/"
        },
        "id": "VXWYrdg_nE9R",
        "outputId": "f0550dad-2141-442c-f822-19f9f454c16b"
      },
      "execution_count": null,
      "outputs": [
        {
          "output_type": "stream",
          "name": "stdout",
          "text": [
            "Hollo World!\n"
          ]
        }
      ]
    },
    {
      "cell_type": "code",
      "source": [
        "#문자열에는 \"\"\n",
        "a=\"python\"\n",
        "a"
      ],
      "metadata": {
        "colab": {
          "base_uri": "https://localhost:8080/",
          "height": 35
        },
        "id": "H5ZUs8HJnNng",
        "outputId": "26757c99-2b32-4b77-fb37-d014dabe48e0"
      },
      "execution_count": null,
      "outputs": [
        {
          "output_type": "execute_result",
          "data": {
            "text/plain": [
              "'python'"
            ],
            "application/vnd.google.colaboratory.intrinsic+json": {
              "type": "string"
            }
          },
          "metadata": {},
          "execution_count": 2
        }
      ]
    },
    {
      "cell_type": "code",
      "source": [
        "#변수 지우기\n",
        "del (a)"
      ],
      "metadata": {
        "id": "VWiKx0s2nSUI"
      },
      "execution_count": null,
      "outputs": []
    },
    {
      "cell_type": "code",
      "source": [
        "#값 설정\n",
        "a=2\n",
        "b=3"
      ],
      "metadata": {
        "id": "EOKrg6_Pncua"
      },
      "execution_count": null,
      "outputs": []
    },
    {
      "cell_type": "code",
      "source": [
        "#값 도출\n",
        "print (a)"
      ],
      "metadata": {
        "colab": {
          "base_uri": "https://localhost:8080/"
        },
        "id": "i-SsPkZjnqBC",
        "outputId": "b59aaca5-2677-4d93-a28f-cf86fe3d6695"
      },
      "execution_count": null,
      "outputs": [
        {
          "output_type": "stream",
          "name": "stdout",
          "text": [
            "2\n"
          ]
        }
      ]
    },
    {
      "cell_type": "markdown",
      "source": [
        "#연산"
      ],
      "metadata": {
        "id": "h1fZBXJTln74"
      }
    },
    {
      "cell_type": "code",
      "source": [
        "a+b"
      ],
      "metadata": {
        "colab": {
          "base_uri": "https://localhost:8080/"
        },
        "id": "pJvqnogVqnfh",
        "outputId": "0ee9d8ac-bbc9-47b4-b67d-717ac88ff4fe"
      },
      "execution_count": null,
      "outputs": [
        {
          "output_type": "execute_result",
          "data": {
            "text/plain": [
              "5"
            ]
          },
          "metadata": {},
          "execution_count": 6
        }
      ]
    },
    {
      "cell_type": "code",
      "source": [
        "a-b"
      ],
      "metadata": {
        "colab": {
          "base_uri": "https://localhost:8080/"
        },
        "id": "QJx4qIHxqq9N",
        "outputId": "cc2008c2-9edd-4819-e485-04df86aa9b95"
      },
      "execution_count": null,
      "outputs": [
        {
          "output_type": "execute_result",
          "data": {
            "text/plain": [
              "-1"
            ]
          },
          "metadata": {},
          "execution_count": 7
        }
      ]
    },
    {
      "cell_type": "code",
      "source": [
        "a*b"
      ],
      "metadata": {
        "colab": {
          "base_uri": "https://localhost:8080/"
        },
        "id": "IpvOHhRNqtko",
        "outputId": "4e0e5a98-73c2-4899-d9f3-20a927bdb82e"
      },
      "execution_count": null,
      "outputs": [
        {
          "output_type": "execute_result",
          "data": {
            "text/plain": [
              "6"
            ]
          },
          "metadata": {},
          "execution_count": 8
        }
      ]
    },
    {
      "cell_type": "code",
      "source": [
        "a/b"
      ],
      "metadata": {
        "colab": {
          "base_uri": "https://localhost:8080/"
        },
        "id": "TlgDyrfqqvVU",
        "outputId": "eb48a562-3a4c-48bf-d092-bb8b93b1b934"
      },
      "execution_count": null,
      "outputs": [
        {
          "output_type": "execute_result",
          "data": {
            "text/plain": [
              "0.6666666666666666"
            ]
          },
          "metadata": {},
          "execution_count": 9
        }
      ]
    },
    {
      "cell_type": "code",
      "source": [
        "#제곱\n",
        "a**a"
      ],
      "metadata": {
        "colab": {
          "base_uri": "https://localhost:8080/"
        },
        "id": "skEx4Uoeqxux",
        "outputId": "6544fe1d-5db5-4bdc-b36a-6a64f00031c5"
      },
      "execution_count": null,
      "outputs": [
        {
          "output_type": "execute_result",
          "data": {
            "text/plain": [
              "4"
            ]
          },
          "metadata": {},
          "execution_count": 10
        }
      ]
    },
    {
      "cell_type": "code",
      "source": [
        "#루트값\n",
        "2**0.5"
      ],
      "metadata": {
        "colab": {
          "base_uri": "https://localhost:8080/"
        },
        "id": "NsLHe3gYt_oA",
        "outputId": "12b45fcb-b4f4-44b4-c5b2-ba3a317753eb"
      },
      "execution_count": null,
      "outputs": [
        {
          "output_type": "execute_result",
          "data": {
            "text/plain": [
              "1.4142135623730951"
            ]
          },
          "metadata": {},
          "execution_count": 11
        }
      ]
    },
    {
      "cell_type": "code",
      "source": [
        "#몫만 도출\n",
        "12//5"
      ],
      "metadata": {
        "colab": {
          "base_uri": "https://localhost:8080/"
        },
        "id": "0n5-HLX7q2eF",
        "outputId": "d5360d40-dec6-479e-b47c-3f178ea2a33c"
      },
      "execution_count": null,
      "outputs": [
        {
          "output_type": "execute_result",
          "data": {
            "text/plain": [
              "2"
            ]
          },
          "metadata": {},
          "execution_count": 12
        }
      ]
    },
    {
      "cell_type": "code",
      "source": [
        "#반올림\n",
        "55//6"
      ],
      "metadata": {
        "colab": {
          "base_uri": "https://localhost:8080/"
        },
        "id": "deDrmiSRrFhe",
        "outputId": "eb769196-16f9-499e-b510-51262516a4ce"
      },
      "execution_count": null,
      "outputs": [
        {
          "output_type": "execute_result",
          "data": {
            "text/plain": [
              "9"
            ]
          },
          "metadata": {},
          "execution_count": 13
        }
      ]
    },
    {
      "cell_type": "markdown",
      "source": [
        "#Type"
      ],
      "metadata": {
        "id": "8S6FduhVl0-u"
      }
    },
    {
      "cell_type": "code",
      "source": [
        "#Type\n",
        "a=1\n",
        "b=2.3\n",
        "c=-4"
      ],
      "metadata": {
        "id": "eCpXiLlDrh4u"
      },
      "execution_count": null,
      "outputs": []
    },
    {
      "cell_type": "code",
      "source": [
        "#정수\n",
        "type(a)"
      ],
      "metadata": {
        "colab": {
          "base_uri": "https://localhost:8080/"
        },
        "id": "x4k3ed1AtP9e",
        "outputId": "70cf8866-d15f-4111-d358-3755eefcc2fa"
      },
      "execution_count": null,
      "outputs": [
        {
          "output_type": "execute_result",
          "data": {
            "text/plain": [
              "int"
            ]
          },
          "metadata": {},
          "execution_count": 15
        }
      ]
    },
    {
      "cell_type": "code",
      "source": [
        "#실수\n",
        "type(b)"
      ],
      "metadata": {
        "colab": {
          "base_uri": "https://localhost:8080/"
        },
        "id": "r3sS4fd5tVOD",
        "outputId": "ae2d215c-fc8d-4ae9-ab5d-e854f1d9c0ac"
      },
      "execution_count": null,
      "outputs": [
        {
          "output_type": "execute_result",
          "data": {
            "text/plain": [
              "float"
            ]
          },
          "metadata": {},
          "execution_count": 16
        }
      ]
    },
    {
      "cell_type": "code",
      "source": [
        "#방정식\n",
        "d=a=b"
      ],
      "metadata": {
        "id": "8vCbUuAxtY-D"
      },
      "execution_count": null,
      "outputs": []
    },
    {
      "cell_type": "code",
      "source": [
        "type(int(d))"
      ],
      "metadata": {
        "colab": {
          "base_uri": "https://localhost:8080/"
        },
        "id": "-ow-GbrwteA_",
        "outputId": "7de8b450-41b5-44d7-8a2a-98f4e968709d"
      },
      "execution_count": null,
      "outputs": [
        {
          "output_type": "execute_result",
          "data": {
            "text/plain": [
              "int"
            ]
          },
          "metadata": {},
          "execution_count": 18
        }
      ]
    },
    {
      "cell_type": "markdown",
      "source": [
        "#문자열"
      ],
      "metadata": {
        "id": "OBhHFOJll99J"
      }
    },
    {
      "cell_type": "code",
      "source": [
        "#문자열\n",
        "type(F)"
      ],
      "metadata": {
        "colab": {
          "base_uri": "https://localhost:8080/",
          "height": 193
        },
        "id": "gZ0NX9KCt4r6",
        "outputId": "01498d4e-c82b-42de-e160-0f317f46e403"
      },
      "execution_count": null,
      "outputs": [
        {
          "output_type": "error",
          "ename": "NameError",
          "evalue": "ignored",
          "traceback": [
            "\u001b[0;31m---------------------------------------------------------------------------\u001b[0m",
            "\u001b[0;31mNameError\u001b[0m                                 Traceback (most recent call last)",
            "\u001b[0;32m<ipython-input-19-fcf12fd255f5>\u001b[0m in \u001b[0;36m<module>\u001b[0;34m\u001b[0m\n\u001b[1;32m      1\u001b[0m \u001b[0;31m#문자열\u001b[0m\u001b[0;34m\u001b[0m\u001b[0;34m\u001b[0m\u001b[0;34m\u001b[0m\u001b[0m\n\u001b[0;32m----> 2\u001b[0;31m \u001b[0mtype\u001b[0m\u001b[0;34m(\u001b[0m\u001b[0mF\u001b[0m\u001b[0;34m)\u001b[0m\u001b[0;34m\u001b[0m\u001b[0;34m\u001b[0m\u001b[0m\n\u001b[0m",
            "\u001b[0;31mNameError\u001b[0m: name 'F' is not defined"
          ]
        }
      ]
    },
    {
      "cell_type": "code",
      "source": [
        "#문장\n",
        "print(\"Ubion is the best\")"
      ],
      "metadata": {
        "id": "RhNe_ml2t8Jm"
      },
      "execution_count": null,
      "outputs": []
    },
    {
      "cell_type": "code",
      "source": [
        "print(\"Ubion isn't the best\")"
      ],
      "metadata": {
        "id": "Iv4A1VOVuuPt"
      },
      "execution_count": null,
      "outputs": []
    },
    {
      "cell_type": "code",
      "source": [
        "#문장 ''를 쓸 때 문장에 에러가 뜰 수 있어서,어퍼스트로피 앞에 \\를 붙여준다.\n",
        "print('ubion isn\\'t the best.')"
      ],
      "metadata": {
        "id": "-az6ueIfuxB3"
      },
      "execution_count": null,
      "outputs": []
    },
    {
      "cell_type": "code",
      "source": [
        "#문장 줄바꿈 [\\n]\n",
        "print(\"ubion is the best. \\nubion isn't the best.\")"
      ],
      "metadata": {
        "id": "gJACsAMCvSpA"
      },
      "execution_count": null,
      "outputs": []
    },
    {
      "cell_type": "code",
      "source": [
        "#문장활용\n",
        "a=\"ubion is the best.\""
      ],
      "metadata": {
        "id": "kQEYjOjPvdM1"
      },
      "execution_count": null,
      "outputs": []
    },
    {
      "cell_type": "code",
      "source": [
        "b=\"Ubion isn't the best\""
      ],
      "metadata": {
        "id": "Ru_MpIdUvp3P"
      },
      "execution_count": null,
      "outputs": []
    },
    {
      "cell_type": "code",
      "source": [
        "c=a+b"
      ],
      "metadata": {
        "id": "lU9XnXHFvsC2"
      },
      "execution_count": null,
      "outputs": []
    },
    {
      "cell_type": "code",
      "source": [
        "#위에서 만든 방정식으로 두가지문장을 붙일 수 있음\n",
        "print(c)"
      ],
      "metadata": {
        "id": "RKauc6lsv160"
      },
      "execution_count": null,
      "outputs": []
    },
    {
      "cell_type": "code",
      "source": [
        "#a가 정수x만큼 반복 됨.\n",
        "a*25"
      ],
      "metadata": {
        "id": "vE58qEl4v4ve"
      },
      "execution_count": null,
      "outputs": []
    },
    {
      "cell_type": "code",
      "source": [
        "#문장 꾸미기.\n",
        "#위의 코드 응용\n",
        "print(\"-\"*40)\n",
        "print(a*2)\n",
        "print(\"-\"*40)"
      ],
      "metadata": {
        "id": "0CgdQkQqv8ck"
      },
      "execution_count": null,
      "outputs": []
    },
    {
      "cell_type": "code",
      "source": [
        "#파이썬은 0이 기준,R은 1이 기준\n",
        "# [a:b] : a<= x <b \n",
        "# a보다 크거나 같고, b보다 작은 인덱스를 꺼내온다\n",
        "\"유비온은 최고의 교육기관이다.\"[0:3]"
      ],
      "metadata": {
        "id": "vE8iI8JMwHPi"
      },
      "execution_count": null,
      "outputs": []
    },
    {
      "cell_type": "code",
      "source": [
        "#[:]에서 0은 생략 가능, 음수도 가능\n",
        "first_name = \"HyeonseongCha\"[:10]\n",
        "print(first_name)"
      ],
      "metadata": {
        "id": "FG2gAiRVwo2z"
      },
      "execution_count": null,
      "outputs": []
    },
    {
      "cell_type": "code",
      "source": [
        "last_name= \"HyeonseongCha\"[10:]\n",
        "print(last_name)"
      ],
      "metadata": {
        "id": "Kf9TbK3Ex84b"
      },
      "execution_count": null,
      "outputs": []
    },
    {
      "cell_type": "code",
      "source": [
        "last_name= \"HyeonseongCha\"[-3:]\n",
        "print(last_name)"
      ],
      "metadata": {
        "id": "54hL5hxvyAVa"
      },
      "execution_count": null,
      "outputs": []
    },
    {
      "cell_type": "code",
      "source": [
        "#단어 길이\n",
        "name=\"hyeonseongcha\"\n",
        "len(name)"
      ],
      "metadata": {
        "id": "A_rEsXcnyuTL"
      },
      "execution_count": null,
      "outputs": []
    },
    {
      "cell_type": "code",
      "source": [
        "#단어에서 알파벳 위치 찾기\n",
        "#중복시 첫번째 것의 위치값만 도출됨.\n",
        "#찾는문자가 없는 경우 -1이 도출됨.\n",
        "#find는 문자열에만 사용 가능 -> 그 외 에러\n",
        "name.find(\"s\")"
      ],
      "metadata": {
        "id": "qHRtKpzZy6eC"
      },
      "execution_count": null,
      "outputs": []
    },
    {
      "cell_type": "code",
      "source": [
        "#index는 찾는문자가 없는 경우 value error 발생한다.\n",
        "#index는 문자열 리스트 튜플 자료에 사용 가능\n",
        "name.index(\"c\")"
      ],
      "metadata": {
        "id": "onBzzxzKcL5i"
      },
      "execution_count": null,
      "outputs": []
    },
    {
      "cell_type": "code",
      "source": [
        "#단어에서 알파벳 개수 찾기\n",
        "name.count(\"o\")"
      ],
      "metadata": {
        "id": "86B9fnGhzL2i"
      },
      "execution_count": null,
      "outputs": []
    },
    {
      "cell_type": "code",
      "source": [
        "#음절별 띄어쓰기\n",
        "a=\" \"\n",
        "a.join(\"HyeonseongCha\")"
      ],
      "metadata": {
        "id": "YzqZ7_awFO3S"
      },
      "execution_count": null,
      "outputs": []
    },
    {
      "cell_type": "code",
      "source": [
        "#단어 전체 대문자\n",
        "name.upper()"
      ],
      "metadata": {
        "id": "jMOP822BFXs4"
      },
      "execution_count": null,
      "outputs": []
    },
    {
      "cell_type": "code",
      "source": [
        "#단어 전체 소문자\n",
        "name.lower()"
      ],
      "metadata": {
        "id": "YPmc8ImeERWj"
      },
      "execution_count": null,
      "outputs": []
    },
    {
      "cell_type": "code",
      "source": [
        "name"
      ],
      "metadata": {
        "id": "-Nkp56KQVJBs"
      },
      "execution_count": null,
      "outputs": []
    },
    {
      "cell_type": "code",
      "source": [
        "name=\" hyeonseong cha \""
      ],
      "metadata": {
        "id": "tViffsfALp1k"
      },
      "execution_count": null,
      "outputs": []
    },
    {
      "cell_type": "code",
      "source": [
        "#단어 side에 띄어쓰기 없애기\n",
        "name.strip(a)"
      ],
      "metadata": {
        "id": "LKhxSRjMJjne"
      },
      "execution_count": null,
      "outputs": []
    },
    {
      "cell_type": "code",
      "source": [
        "#strip앞에 r또는l 삽입하여 위치설정 가능\n",
        "name.rstrip(a)"
      ],
      "metadata": {
        "id": "e1zrRGeUJ5Pp"
      },
      "execution_count": null,
      "outputs": []
    },
    {
      "cell_type": "code",
      "source": [
        "#문장에서 특정 단어 바꾸기\n",
        "#(\"x\",\"y\") x를 y로!\n",
        "name.replace(\"cha\",\"song\")"
      ],
      "metadata": {
        "id": "6Kq-on0bMMP6"
      },
      "execution_count": null,
      "outputs": []
    },
    {
      "cell_type": "code",
      "source": [
        "#띄어쓰기를 기준으로 나누기\n",
        "name.split()"
      ],
      "metadata": {
        "id": "OdvNDiblMepv"
      },
      "execution_count": null,
      "outputs": []
    },
    {
      "cell_type": "code",
      "source": [
        "#문장 삽입\n",
        "article1=\"저는 바로 그달 말에 이사할 예정이었습니다. 두말할 것도 없이 새 집의 첫째 조건은 ‘지상에 있을 것’이었어요. 그런데 이 집이 빠지기는 할까, 과연 나 말고 누가 이런 곳에 살고 싶어 할까 전전긍긍했습니다. 누군가 이사를 와야 제가 그 집을 나갈 수 있었으니까요. 새 계약자는 예상보다 훨씬 빠르게 나타나 주었습니다. 그런 집이나마 누군가는 여전히 필요로 하더군요. 제가 그랬듯이요\""
      ],
      "metadata": {
        "id": "ilPohnHONG-I"
      },
      "execution_count": null,
      "outputs": []
    },
    {
      "cell_type": "code",
      "source": [
        "#문장을 음절로 나누기 /영어에서는 단어별\n",
        "article1.split()"
      ],
      "metadata": {
        "id": "Ho8-8vvoUMFd"
      },
      "execution_count": null,
      "outputs": []
    },
    {
      "cell_type": "code",
      "source": [
        "#문단을 .을 기준으로 나누기 // 문장으로 나누기\n",
        "article1.split(\".\")"
      ],
      "metadata": {
        "id": "t7EbyWeUiO-J"
      },
      "execution_count": null,
      "outputs": []
    },
    {
      "cell_type": "code",
      "source": [
        "F=\"chacha\""
      ],
      "metadata": {
        "id": "mwPrMXoMtwbo"
      },
      "execution_count": null,
      "outputs": []
    },
    {
      "cell_type": "markdown",
      "source": [
        "#List & Tuple"
      ],
      "metadata": {
        "id": "Y9W6EGLRmFhx"
      }
    },
    {
      "cell_type": "code",
      "source": [
        "#값을 []에 넣으면 a의 type은 List\n",
        "a=[1,2,3,4,5]\n",
        "a"
      ],
      "metadata": {
        "id": "RmcgcpgFUjPI"
      },
      "execution_count": null,
      "outputs": []
    },
    {
      "cell_type": "code",
      "source": [
        "type(a)"
      ],
      "metadata": {
        "id": "I6AH83qDUm9T"
      },
      "execution_count": null,
      "outputs": []
    },
    {
      "cell_type": "code",
      "source": [
        "#값을 ()에 넣으면 a의 type은 tuple\n",
        "#tuple은 이후에 내재된 수(또는 str)들을 바꿀 수 없음.\n",
        "b=(1,2,3,4,5)\n",
        "b"
      ],
      "metadata": {
        "id": "pssN5xNjUpoS"
      },
      "execution_count": null,
      "outputs": []
    },
    {
      "cell_type": "code",
      "source": [
        "type(b)"
      ],
      "metadata": {
        "id": "Jhagb1RtUsCE"
      },
      "execution_count": null,
      "outputs": []
    },
    {
      "cell_type": "code",
      "source": [
        "a[3] = 4\n",
        "a"
      ],
      "metadata": {
        "id": "vckam1SlUtRk"
      },
      "execution_count": null,
      "outputs": []
    },
    {
      "cell_type": "code",
      "source": [
        "a.replace(3,4)\n",
        "a"
      ],
      "metadata": {
        "id": "V93_egnFmR33"
      },
      "execution_count": null,
      "outputs": []
    },
    {
      "cell_type": "code",
      "source": [
        "b.replace(3,4)\n",
        "b"
      ],
      "metadata": {
        "id": "_-IOpGQ1Uvw9"
      },
      "execution_count": null,
      "outputs": []
    },
    {
      "cell_type": "code",
      "source": [
        "a = [1,2,3,4,5]\n",
        "b = [\"1\",\"2\",\"3\"]\n",
        "a+b"
      ],
      "metadata": {
        "id": "tIESbKFeUxS6"
      },
      "execution_count": null,
      "outputs": []
    },
    {
      "cell_type": "code",
      "source": [
        "a*2"
      ],
      "metadata": {
        "id": "6EOHMsf4U0GY"
      },
      "execution_count": null,
      "outputs": []
    },
    {
      "cell_type": "code",
      "source": [
        "c=b*2"
      ],
      "metadata": {
        "id": "0CeTr-oSU2VA"
      },
      "execution_count": null,
      "outputs": []
    },
    {
      "cell_type": "code",
      "source": [
        "c"
      ],
      "metadata": {
        "id": "oKVw0rRLfgHN"
      },
      "execution_count": null,
      "outputs": []
    },
    {
      "cell_type": "code",
      "source": [
        "#c의 n(n+1) 값을 x로 바꾸고 싶을 때,\n",
        "c[1]=\"3\""
      ],
      "metadata": {
        "id": "6cCN2ZCyU9FJ"
      },
      "execution_count": null,
      "outputs": []
    },
    {
      "cell_type": "code",
      "source": [
        "c"
      ],
      "metadata": {
        "id": "CiWMRPoHU-dI"
      },
      "execution_count": null,
      "outputs": []
    },
    {
      "cell_type": "code",
      "source": [
        "b = (\"1\",\"2\",\"3\")"
      ],
      "metadata": {
        "id": "hbZAowpsXX3n"
      },
      "execution_count": null,
      "outputs": []
    },
    {
      "cell_type": "code",
      "source": [
        "b[2]"
      ],
      "metadata": {
        "id": "MARwpgXEXjyn"
      },
      "execution_count": null,
      "outputs": []
    },
    {
      "cell_type": "code",
      "source": [
        "len(a)"
      ],
      "metadata": {
        "id": "hhBKQuVbdzj5"
      },
      "execution_count": null,
      "outputs": []
    },
    {
      "cell_type": "markdown",
      "source": [
        "#행렬"
      ],
      "metadata": {
        "id": "vccpPslmmY-P"
      }
    },
    {
      "cell_type": "code",
      "source": [
        "#np라는 이름의 표를 넣을 때,\n",
        "import numpy as np"
      ],
      "metadata": {
        "id": "_BGpEoaFjCbw"
      },
      "execution_count": null,
      "outputs": []
    },
    {
      "cell_type": "code",
      "source": [
        "#행렬값을 넣어주고, 행렬의 배열 모양을 물어본다.\n",
        "matrix=[[1,2,3,4],[5,6,7,8],[9,10,11,12]]\n",
        "matrix\n",
        "np.array(matrix,int).shape"
      ],
      "metadata": {
        "id": "MdBwnvEhjC1R"
      },
      "execution_count": null,
      "outputs": []
    },
    {
      "cell_type": "code",
      "source": [
        "a=()"
      ],
      "metadata": {
        "id": "mDv3FB0AjEEZ"
      },
      "execution_count": null,
      "outputs": []
    },
    {
      "cell_type": "code",
      "source": [
        "b=(1,2,3)"
      ],
      "metadata": {
        "id": "pukq53ObjF1T"
      },
      "execution_count": null,
      "outputs": []
    },
    {
      "cell_type": "code",
      "source": [
        "c=(\"x\",\"y\",\"z\")"
      ],
      "metadata": {
        "id": "ZWwAm-YTjHRR"
      },
      "execution_count": null,
      "outputs": []
    },
    {
      "cell_type": "code",
      "source": [
        "d=b+c"
      ],
      "metadata": {
        "id": "S5qegUjTjIrU"
      },
      "execution_count": null,
      "outputs": []
    },
    {
      "cell_type": "code",
      "source": [
        "d"
      ],
      "metadata": {
        "id": "gon6qPWZjJuI"
      },
      "execution_count": null,
      "outputs": []
    },
    {
      "cell_type": "code",
      "source": [
        "a,b,c=(1,),(2,3),(4,5)"
      ],
      "metadata": {
        "id": "S0zxo_9ijLGD"
      },
      "execution_count": null,
      "outputs": []
    },
    {
      "cell_type": "code",
      "source": [
        "print(a)"
      ],
      "metadata": {
        "id": "bk36MQkJjMb9"
      },
      "execution_count": null,
      "outputs": []
    },
    {
      "cell_type": "code",
      "source": [
        "print(b)"
      ],
      "metadata": {
        "id": "nKjEehYzjNqE"
      },
      "execution_count": null,
      "outputs": []
    },
    {
      "cell_type": "code",
      "source": [
        "print(c)"
      ],
      "metadata": {
        "id": "ef8v27uzjO4s"
      },
      "execution_count": null,
      "outputs": []
    },
    {
      "cell_type": "code",
      "source": [
        "a=(1,2,3,4)"
      ],
      "metadata": {
        "id": "cES5NfQSjQVD"
      },
      "execution_count": null,
      "outputs": []
    },
    {
      "cell_type": "code",
      "source": [
        "a=[11, 10, 9, 8, 7, 6, 5, 4, 3, 2, 1]"
      ],
      "metadata": {
        "id": "MYgT2aBrjTE9"
      },
      "execution_count": null,
      "outputs": []
    },
    {
      "cell_type": "code",
      "source": [
        "#pop은 (x+1)의 값을 제거해줌.\n",
        "a.pop(1)\n",
        "a"
      ],
      "metadata": {
        "id": "2A_34ilMjf_S"
      },
      "execution_count": null,
      "outputs": []
    },
    {
      "cell_type": "markdown",
      "source": [
        "#Dictionary"
      ],
      "metadata": {
        "id": "Giya5jAvmzDk"
      }
    },
    {
      "cell_type": "code",
      "source": [
        "#Key:values\n",
        "a={\"달러\":1400,\"엔화\":100}\n",
        "a"
      ],
      "metadata": {
        "id": "8owNecXojjLD"
      },
      "execution_count": null,
      "outputs": []
    },
    {
      "cell_type": "code",
      "source": [
        "#a라는 집합에 있는 원소(key)를 삽입하여 그에 응하는 value값을 도출해 냄\n",
        "a[\"달러\"]"
      ],
      "metadata": {
        "id": "-HaMj8JNjmoS"
      },
      "execution_count": null,
      "outputs": []
    },
    {
      "cell_type": "code",
      "source": [
        "#\"달러\"라는 Key가 a에 있으면 value값을 구해달라는 뜻\n",
        "print(a.get(\"달러\"))"
      ],
      "metadata": {
        "id": "_e579CaQjnrF"
      },
      "execution_count": null,
      "outputs": []
    },
    {
      "cell_type": "code",
      "source": [
        "#집합 a의 원소 중 \"달려\"는 존재하지 않기 때문에\n",
        "print(a.get(\"달려\"))"
      ],
      "metadata": {
        "id": "AZOdMWBDlzly"
      },
      "execution_count": null,
      "outputs": []
    },
    {
      "cell_type": "code",
      "source": [
        "#집합a에 \"위안\"이라는 Key가 있으면, \"부근아 진짜 바보냐?\"말해달라는 요청 \n",
        "a.get(\"위안\",\"부근아 진짜 바보냐?\")"
      ],
      "metadata": {
        "id": "ZQ34sm-gjo-O"
      },
      "execution_count": null,
      "outputs": []
    },
    {
      "cell_type": "code",
      "source": [
        "#a에 \"위안\":300을 새로 추가하는 과정\n",
        "a[\"위안\"]=300"
      ],
      "metadata": {
        "id": "qRqQddj_jqZb"
      },
      "execution_count": null,
      "outputs": []
    },
    {
      "cell_type": "code",
      "source": [
        "#반영됨\n",
        "a"
      ],
      "metadata": {
        "id": "S34uKTXTjrdf"
      },
      "execution_count": null,
      "outputs": []
    },
    {
      "cell_type": "code",
      "source": [
        "#원소 중 \"엔화\"를 제외해달라는 요청\n",
        "del a[\"엔화\"]"
      ],
      "metadata": {
        "id": "InaDvdY1jshr"
      },
      "execution_count": null,
      "outputs": []
    },
    {
      "cell_type": "code",
      "source": [
        "a"
      ],
      "metadata": {
        "id": "lDt-79ljjveI"
      },
      "execution_count": null,
      "outputs": []
    },
    {
      "cell_type": "code",
      "source": [
        "a={\"달러\":1400,\"위안\":3000,\"위안\":500}"
      ],
      "metadata": {
        "id": "s1rbDt1VjzVB"
      },
      "execution_count": null,
      "outputs": []
    },
    {
      "cell_type": "code",
      "source": [
        "#중복되는 Key가 발생하면 최근 값\n",
        "a"
      ],
      "metadata": {
        "id": "LSm4sZ0zjzw7"
      },
      "execution_count": null,
      "outputs": []
    },
    {
      "cell_type": "code",
      "source": [
        "a[\"달러\"]=1500"
      ],
      "metadata": {
        "id": "c2MRHcbcj3so"
      },
      "execution_count": null,
      "outputs": []
    },
    {
      "cell_type": "code",
      "source": [
        "a"
      ],
      "metadata": {
        "id": "rVvj72kVj5We"
      },
      "execution_count": null,
      "outputs": []
    },
    {
      "cell_type": "code",
      "source": [
        "a.keys()"
      ],
      "metadata": {
        "id": "SU8TOSrUj7ba"
      },
      "execution_count": null,
      "outputs": []
    },
    {
      "cell_type": "code",
      "source": [
        "a.values()"
      ],
      "metadata": {
        "id": "A3fL3xHEj8hq"
      },
      "execution_count": null,
      "outputs": []
    },
    {
      "cell_type": "code",
      "source": [
        "#문자열에서 같은 알파벳을 묶어서 집합의 형태로 도충\n",
        "a=\"statistics\"\n",
        "s=set(a)\n",
        "s"
      ],
      "metadata": {
        "id": "t6zQ-w8ukAHs"
      },
      "execution_count": null,
      "outputs": []
    },
    {
      "cell_type": "code",
      "source": [
        "#회사로 예\n",
        "com=[\"사원\",\"대리\",\"과장\",\"팀장\",\"대리\",\"과장\"]"
      ],
      "metadata": {
        "id": "A1Kj5C5fkBjb"
      },
      "execution_count": null,
      "outputs": []
    },
    {
      "cell_type": "code",
      "source": [
        "#s_com = com의 변수들을 set의 형태로 바꿔줘\n",
        "#중복 값은 지워진다.\n",
        "s_com =set(com)"
      ],
      "metadata": {
        "id": "rysUVap2kDAN"
      },
      "execution_count": null,
      "outputs": []
    },
    {
      "cell_type": "code",
      "source": [
        "s_com"
      ],
      "metadata": {
        "id": "0bmLqHy_kEa-"
      },
      "execution_count": null,
      "outputs": []
    },
    {
      "cell_type": "markdown",
      "source": [
        "#집합"
      ],
      "metadata": {
        "id": "WDDmrt6pm_aI"
      }
    },
    {
      "cell_type": "code",
      "source": [
        "a=set([1,2,3])\n",
        "b=set([2,3,4])"
      ],
      "metadata": {
        "id": "NjPAgYGWkFcy"
      },
      "execution_count": null,
      "outputs": []
    },
    {
      "cell_type": "code",
      "source": [
        "a"
      ],
      "metadata": {
        "id": "4swYoW4GkGds"
      },
      "execution_count": null,
      "outputs": []
    },
    {
      "cell_type": "code",
      "source": [
        "b"
      ],
      "metadata": {
        "id": "LDjSVjIykHWz"
      },
      "execution_count": null,
      "outputs": []
    },
    {
      "cell_type": "code",
      "source": [
        "#교집합\n",
        "a&b"
      ],
      "metadata": {
        "id": "UQzLmVewkHnz"
      },
      "execution_count": null,
      "outputs": []
    },
    {
      "cell_type": "code",
      "source": [
        "#합집합\n",
        "a|b"
      ],
      "metadata": {
        "id": "zM15keUNkKMB"
      },
      "execution_count": null,
      "outputs": []
    },
    {
      "cell_type": "code",
      "source": [
        "#차집합\n",
        "a-b"
      ],
      "metadata": {
        "id": "be1VUVYFkLCz"
      },
      "execution_count": null,
      "outputs": []
    },
    {
      "cell_type": "code",
      "source": [
        "#집합 a에 개수 추가\n",
        "a.update([5,6,7])"
      ],
      "metadata": {
        "id": "dLjOT2RmkLmb"
      },
      "execution_count": null,
      "outputs": []
    },
    {
      "cell_type": "code",
      "source": [
        "a"
      ],
      "metadata": {
        "id": "B5ffkX8jkOex"
      },
      "execution_count": null,
      "outputs": []
    },
    {
      "cell_type": "code",
      "source": [
        "#집합 a에서 {3}제외\n",
        "a.remove(3)"
      ],
      "metadata": {
        "id": "6Ci8HiJMkPE3"
      },
      "execution_count": null,
      "outputs": []
    },
    {
      "cell_type": "code",
      "source": [
        "a"
      ],
      "metadata": {
        "id": "KsjDMDBhkQ4X"
      },
      "execution_count": null,
      "outputs": []
    },
    {
      "cell_type": "code",
      "source": [
        "#집합 a에서 {5}제외\n",
        "a.remove(5)"
      ],
      "metadata": {
        "id": "W45jlefskRV8"
      },
      "execution_count": null,
      "outputs": []
    },
    {
      "cell_type": "code",
      "source": [
        "#집합 a에서 {7}제외\n",
        "a.remove(7)"
      ],
      "metadata": {
        "id": "bqJXle0IkU-I"
      },
      "execution_count": null,
      "outputs": []
    },
    {
      "cell_type": "code",
      "source": [
        "a"
      ],
      "metadata": {
        "id": "SjruYfoQkVmD"
      },
      "execution_count": null,
      "outputs": []
    },
    {
      "cell_type": "markdown",
      "source": [
        "#가격\n"
      ],
      "metadata": {
        "id": "8_zAa1E2nH8U"
      }
    },
    {
      "cell_type": "code",
      "source": [
        "#%.2x : 소수점 아래 2자리 까지\n",
        "#음수도 활용가능\n",
        "#%d :intager - 정수\n",
        "#%f : float - 실수\n",
        "#%s : string - 문자열\n",
        "\n",
        "a=-100.66\n",
        "b=150.88\n",
        "c=200.99"
      ],
      "metadata": {
        "id": "_slIKBVHkV0t"
      },
      "execution_count": null,
      "outputs": []
    },
    {
      "cell_type": "code",
      "source": [
        "print(\"사과 한개의 가격은 %f원 입니다.\"%a)"
      ],
      "metadata": {
        "id": "4c-0-qZ3kXYX"
      },
      "execution_count": null,
      "outputs": []
    },
    {
      "cell_type": "code",
      "source": [
        "print(\"사과 두개의 가격은 %f원 입니다.\"%b)"
      ],
      "metadata": {
        "id": "Ps9zKWzDkZVE"
      },
      "execution_count": null,
      "outputs": []
    },
    {
      "cell_type": "code",
      "source": [
        "print(\"사과 세개의 가격은 %d원 입니다.\"%c)"
      ],
      "metadata": {
        "id": "4gJpXo3VkbK5"
      },
      "execution_count": null,
      "outputs": []
    },
    {
      "cell_type": "code",
      "source": [
        "# %d자리에 차례대로 %(x,y)의 값을 넣어주세요.\n",
        "print(\"사과 한개의 가격은 %d원 입니다.사과 두개의 가격은 %d원 입니다.\"%(a, b))"
      ],
      "metadata": {
        "id": "NUFMqEKwkc07"
      },
      "execution_count": null,
      "outputs": []
    },
    {
      "cell_type": "code",
      "source": [
        "#문자도 가능합니당\n",
        "d=\"차현성\"\n",
        "print(\"%s 고객님 안녕하세요\"%d)"
      ],
      "metadata": {
        "id": "liOoWILPkeWO"
      },
      "execution_count": null,
      "outputs": []
    },
    {
      "cell_type": "code",
      "source": [
        "f=\"송부근\"\n",
        "print(\"%s님아 집중하세요\"%f)\n",
        "print(\"그러다가 %d대 맞아요\"%c)"
      ],
      "metadata": {
        "id": "WksnPWYTkfmH"
      },
      "execution_count": null,
      "outputs": []
    },
    {
      "cell_type": "markdown",
      "source": [
        "#functions"
      ],
      "metadata": {
        "id": "-Y21EO6TnZJz"
      }
    },
    {
      "cell_type": "code",
      "source": [
        "#True & False\n",
        "1 >2"
      ],
      "metadata": {
        "id": "t47ldroQkg2Y"
      },
      "execution_count": null,
      "outputs": []
    },
    {
      "cell_type": "code",
      "source": [
        "1<2"
      ],
      "metadata": {
        "id": "ERTzxp9Tkii9"
      },
      "execution_count": null,
      "outputs": []
    },
    {
      "cell_type": "code",
      "source": [
        "1<-1"
      ],
      "metadata": {
        "id": "n9buwMCUkkF6"
      },
      "execution_count": null,
      "outputs": []
    },
    {
      "cell_type": "code",
      "source": [
        "#1은 True\n",
        "#0은 False\n",
        "#1/0은 오류입니다"
      ],
      "metadata": {
        "id": "wWmJUWIquRuD"
      },
      "execution_count": null,
      "outputs": []
    },
    {
      "cell_type": "code",
      "source": [
        "#and는 교집합이기 때문에 0이다.\n",
        "#0과 1은 교집합이 존재하지 않음.\n",
        "#공집합은 아니다.\n",
        "1 and 0"
      ],
      "metadata": {
        "id": "I5ZFANTtklOp"
      },
      "execution_count": null,
      "outputs": []
    },
    {
      "cell_type": "code",
      "source": [
        "#or은 합집합이다.\n",
        "#수학에서 <또는>은 '최소한 한쪽에 속함'\n",
        "#즉, +의 개념\n",
        "1 or 0"
      ],
      "metadata": {
        "id": "qqBL6JwokmsL"
      },
      "execution_count": null,
      "outputs": []
    },
    {
      "cell_type": "code",
      "source": [
        "not 1"
      ],
      "metadata": {
        "id": "OkUaNidbkpQY"
      },
      "execution_count": null,
      "outputs": []
    },
    {
      "cell_type": "code",
      "source": [
        "not 0"
      ],
      "metadata": {
        "id": "kaaswWOwkqWK"
      },
      "execution_count": null,
      "outputs": []
    },
    {
      "cell_type": "code",
      "source": [
        "#True\n",
        "#List에 존재하기 때문에 참이다.\n",
        "1 in [0,1,2,3,4]"
      ],
      "metadata": {
        "id": "N_kZit04C03q"
      },
      "execution_count": null,
      "outputs": []
    },
    {
      "cell_type": "code",
      "source": [
        "\"a\" in \"abc\""
      ],
      "metadata": {
        "id": "1NAzAsy7krOQ"
      },
      "execution_count": null,
      "outputs": []
    },
    {
      "cell_type": "code",
      "source": [
        "#List에 존재하지 않기 때문에 참\n",
        "0 not in [1,2,3,4,5,6]"
      ],
      "metadata": {
        "id": "wC-MaS4tDgzn"
      },
      "execution_count": null,
      "outputs": []
    },
    {
      "cell_type": "code",
      "source": [
        "#False\n",
        "#List에 존재하지 않기 때문에 거짓이다.\n",
        "6 in [1,2,3,4,5]"
      ],
      "metadata": {
        "id": "ia8ccALBDNe5"
      },
      "execution_count": null,
      "outputs": []
    },
    {
      "cell_type": "code",
      "source": [
        "\"a\" in \"gf\""
      ],
      "metadata": {
        "id": "RALBmW78kvSq"
      },
      "execution_count": null,
      "outputs": []
    },
    {
      "cell_type": "code",
      "source": [
        "#List에 존재하기 때문에 거짓\n",
        "1 not in [1,2,3,4,5]"
      ],
      "metadata": {
        "id": "N6AnLtSMDv0J"
      },
      "execution_count": null,
      "outputs": []
    },
    {
      "cell_type": "code",
      "source": [
        "#if 함수\n",
        "#4칸씩 띄우는 것은 위의 조건에 종속되어있다는 뜻!\n",
        "score = 60\n",
        "\n",
        "if  score>90:\n",
        "    print(\"A\")\n",
        "else: \n",
        "    if score>80:\n",
        "        print(\"B\")\n",
        "    else:\n",
        "        if score>70:\n",
        "          print(\"C\")\n",
        "        else:\n",
        "            if score>60:\n",
        "                print(\"D\")\n",
        "            else :\n",
        "                print(\"F\")"
      ],
      "metadata": {
        "id": "Ap-5Pp4Hk6T2"
      },
      "execution_count": null,
      "outputs": []
    },
    {
      "cell_type": "code",
      "source": [
        "#else: if를 줄여서 -> elif\n",
        "\n",
        "score=75\n",
        "\n",
        "if  score>90:\n",
        "    print(\"A\")\n",
        "elif score>80:\n",
        "    print(\"B\")\n",
        "elif score>70:\n",
        "    print(\"C\")\n",
        "elif score>60:\n",
        "    print(\"D\")\n",
        "else :\n",
        "    print(\"F\")"
      ],
      "metadata": {
        "id": "DkDyODIck76g"
      },
      "execution_count": null,
      "outputs": []
    },
    {
      "cell_type": "code",
      "source": [
        "#try함수\n",
        "#1/0은 오류임.(얼레벌레 수학적인 이유)\n",
        "#그래도 시도(try)를 하고 싶어서\n",
        "#1x0/0 = 1x0 = 0이라는 가정을 해보았음.\n",
        "#수학적인 오류(분모가 0인 상황이 발생함.)\n",
        "try:\n",
        "    1/0\n",
        "except:\n",
        "    print(\"분모가 0이 나왔음\")\n",
        "else:\n",
        "    print(\"분모 이상 없음\")"
      ],
      "metadata": {
        "id": "Uasi9xo7lDx3"
      },
      "execution_count": null,
      "outputs": []
    },
    {
      "cell_type": "code",
      "source": [
        "#While함수\n",
        "#0<=i<10\n",
        "#i+=1이라면, +1씩 모든 곳에 더해준 수를 구할 수 있음\n",
        "\n",
        "i=0\n",
        "while i<10:\n",
        "    i+=1\n",
        "    print(i)"
      ],
      "metadata": {
        "id": "9TGNkMxflFcu"
      },
      "execution_count": null,
      "outputs": []
    },
    {
      "cell_type": "code",
      "source": [
        "#For함수\n",
        "#최종값 10안에 들어갈 수 있는 i의 값들\n",
        "#최솟값을 음수로 지정하면 음수부터 도출 가능  \n",
        "for i in range(10):\n",
        "    print(i)"
      ],
      "metadata": {
        "id": "VaX0ZNaNlKXb"
      },
      "execution_count": null,
      "outputs": []
    },
    {
      "cell_type": "code",
      "source": [
        "j=0\n",
        "for i in range(10):\n",
        "    j+=i\n",
        "    print(j)"
      ],
      "metadata": {
        "id": "1CF67Y7LlLz_"
      },
      "execution_count": null,
      "outputs": []
    },
    {
      "cell_type": "code",
      "source": [
        "# range(초기값, 최종값, 증감값)\n",
        "# i의 값을 도출할 때,최종값까지\" \"를 넣어달라 요청\n",
        "for i in range(5,10,):\n",
        "    print(i,end=\" \")"
      ],
      "metadata": {
        "id": "xdEPvtlRlOET"
      },
      "execution_count": null,
      "outputs": []
    },
    {
      "cell_type": "code",
      "source": [
        "for i in range(5,10,2):\n",
        "    print(i,end=\" \")"
      ],
      "metadata": {
        "colab": {
          "base_uri": "https://localhost:8080/"
        },
        "id": "MHoHAZD9lQFJ",
        "outputId": "f01f40f5-0a3c-4dc4-aec6-e8f86f2417cb"
      },
      "execution_count": null,
      "outputs": [
        {
          "output_type": "stream",
          "name": "stdout",
          "text": [
            "5 7 9 "
          ]
        }
      ]
    },
    {
      "cell_type": "code",
      "source": [
        "#역순으로도 가능\n",
        "for i in range(20,0,-2):\n",
        "    print(i,end=\" \")"
      ],
      "metadata": {
        "colab": {
          "base_uri": "https://localhost:8080/"
        },
        "id": "LydZgMaqsqkL",
        "outputId": "f9f2bcfe-0e24-46ce-fcdc-2a768fc3579d"
      },
      "execution_count": null,
      "outputs": [
        {
          "output_type": "stream",
          "name": "stdout",
          "text": [
            "20 18 16 14 12 10 8 6 4 2 "
          ]
        }
      ]
    },
    {
      "cell_type": "code",
      "source": [
        "#f(a)에 대해 정의 함\n",
        "def f(a):\n",
        "    out =a/3\n",
        "    return out"
      ],
      "metadata": {
        "id": "RVZIEUoqlS6g"
      },
      "execution_count": null,
      "outputs": []
    },
    {
      "cell_type": "code",
      "source": [
        "f(30)"
      ],
      "metadata": {
        "colab": {
          "base_uri": "https://localhost:8080/"
        },
        "id": "vutGaeYylUqQ",
        "outputId": "e39b220c-130e-4a37-ac90-972134252c1d"
      },
      "execution_count": null,
      "outputs": [
        {
          "output_type": "execute_result",
          "data": {
            "text/plain": [
              "10.0"
            ]
          },
          "metadata": {},
          "execution_count": 23
        }
      ]
    },
    {
      "cell_type": "code",
      "source": [
        "#div3(a)에 대한 정의\n",
        "def div3(a):\n",
        "    out =a/5\n",
        "    return out"
      ],
      "metadata": {
        "id": "NHvpeS63lWKD"
      },
      "execution_count": null,
      "outputs": []
    },
    {
      "cell_type": "code",
      "source": [
        "div3(60)"
      ],
      "metadata": {
        "colab": {
          "base_uri": "https://localhost:8080/"
        },
        "id": "iZjhAySGlXbg",
        "outputId": "7266d5e3-b270-46f2-f116-51573283c542"
      },
      "execution_count": null,
      "outputs": [
        {
          "output_type": "execute_result",
          "data": {
            "text/plain": [
              "12.0"
            ]
          },
          "metadata": {},
          "execution_count": 25
        }
      ]
    },
    {
      "cell_type": "code",
      "source": [
        "#위의 함수들을 쉽게 설명하자면\n",
        "def f(x):\n",
        "    out =x/7\n",
        "    return out"
      ],
      "metadata": {
        "id": "Fk8NmuGlXGo0"
      },
      "execution_count": null,
      "outputs": []
    },
    {
      "cell_type": "code",
      "source": [
        "f(6)"
      ],
      "metadata": {
        "colab": {
          "base_uri": "https://localhost:8080/"
        },
        "id": "obbBE6xkuvR-",
        "outputId": "3664e72b-b3e4-40be-cc06-86fa61478712"
      },
      "execution_count": null,
      "outputs": [
        {
          "output_type": "execute_result",
          "data": {
            "text/plain": [
              "0.8571428571428571"
            ]
          },
          "metadata": {},
          "execution_count": 27
        }
      ]
    },
    {
      "cell_type": "code",
      "source": [],
      "metadata": {
        "id": "v1dbCdgLuzbW"
      },
      "execution_count": null,
      "outputs": []
    }
  ]
}