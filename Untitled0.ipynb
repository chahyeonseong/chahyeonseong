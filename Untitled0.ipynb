{
  "nbformat": 4,
  "nbformat_minor": 0,
  "metadata": {
    "colab": {
      "provenance": [],
      "authorship_tag": "ABX9TyObJQWBgS+AUvYQmLMpJWed",
      "include_colab_link": true
    },
    "kernelspec": {
      "name": "python3",
      "display_name": "Python 3"
    },
    "language_info": {
      "name": "python"
    }
  },
  "cells": [
    {
      "cell_type": "markdown",
      "metadata": {
        "id": "view-in-github",
        "colab_type": "text"
      },
      "source": [
        "<a href=\"https://colab.research.google.com/github/chahyeonseong/chahyeonseong/blob/main/Untitled0.ipynb\" target=\"_parent\"><img src=\"https://colab.research.google.com/assets/colab-badge.svg\" alt=\"Open In Colab\"/></a>"
      ]
    },
    {
      "cell_type": "markdown",
      "source": [
        "#빅데이터 마케팅\n",
        "#차현성\n",
        "#2022-2023"
      ],
      "metadata": {
        "id": "wuTefVXgm2YJ"
      }
    },
    {
      "cell_type": "code",
      "source": [
        "print(\"Hollo World!\")"
      ],
      "metadata": {
        "colab": {
          "base_uri": "https://localhost:8080/"
        },
        "id": "VXWYrdg_nE9R",
        "outputId": "ffef60a8-c30b-402d-db91-2b5337edb399"
      },
      "execution_count": 20,
      "outputs": [
        {
          "output_type": "stream",
          "name": "stdout",
          "text": [
            "Hollo World!\n"
          ]
        }
      ]
    },
    {
      "cell_type": "code",
      "source": [
        "a=\"python\"\n",
        "a"
      ],
      "metadata": {
        "colab": {
          "base_uri": "https://localhost:8080/",
          "height": 35
        },
        "id": "H5ZUs8HJnNng",
        "outputId": "188738a9-ef37-47b2-e8ed-d8581fde6186"
      },
      "execution_count": 21,
      "outputs": [
        {
          "output_type": "execute_result",
          "data": {
            "text/plain": [
              "'python'"
            ],
            "application/vnd.google.colaboratory.intrinsic+json": {
              "type": "string"
            }
          },
          "metadata": {},
          "execution_count": 21
        }
      ]
    },
    {
      "cell_type": "code",
      "source": [
        "#변수 지우기\n",
        "del (a)"
      ],
      "metadata": {
        "id": "VWiKx0s2nSUI"
      },
      "execution_count": 22,
      "outputs": []
    },
    {
      "cell_type": "code",
      "source": [
        "#값 설정\n",
        "a=2\n",
        "b=3"
      ],
      "metadata": {
        "id": "EOKrg6_Pncua"
      },
      "execution_count": 25,
      "outputs": []
    },
    {
      "cell_type": "code",
      "source": [
        "#값 도출\n",
        "print (a)"
      ],
      "metadata": {
        "colab": {
          "base_uri": "https://localhost:8080/"
        },
        "id": "i-SsPkZjnqBC",
        "outputId": "3756e01e-535b-4482-b2e8-2335ea59d749"
      },
      "execution_count": 26,
      "outputs": [
        {
          "output_type": "stream",
          "name": "stdout",
          "text": [
            "2\n"
          ]
        }
      ]
    },
    {
      "cell_type": "code",
      "source": [
        "#연산"
      ],
      "metadata": {
        "id": "8r4gIdO1nt_B"
      },
      "execution_count": 28,
      "outputs": []
    },
    {
      "cell_type": "code",
      "source": [
        "a+b"
      ],
      "metadata": {
        "colab": {
          "base_uri": "https://localhost:8080/"
        },
        "id": "pJvqnogVqnfh",
        "outputId": "a537813d-351d-4a6d-9cea-cad9577054fd"
      },
      "execution_count": 29,
      "outputs": [
        {
          "output_type": "execute_result",
          "data": {
            "text/plain": [
              "5"
            ]
          },
          "metadata": {},
          "execution_count": 29
        }
      ]
    },
    {
      "cell_type": "code",
      "source": [
        "a-b"
      ],
      "metadata": {
        "colab": {
          "base_uri": "https://localhost:8080/"
        },
        "id": "QJx4qIHxqq9N",
        "outputId": "1b5c29b4-6e40-4c83-a167-6f65c99dafe1"
      },
      "execution_count": 30,
      "outputs": [
        {
          "output_type": "execute_result",
          "data": {
            "text/plain": [
              "-1"
            ]
          },
          "metadata": {},
          "execution_count": 30
        }
      ]
    },
    {
      "cell_type": "code",
      "source": [
        "a*b"
      ],
      "metadata": {
        "colab": {
          "base_uri": "https://localhost:8080/"
        },
        "id": "IpvOHhRNqtko",
        "outputId": "a4999737-542e-4265-806c-9a63a1a6d7bf"
      },
      "execution_count": 31,
      "outputs": [
        {
          "output_type": "execute_result",
          "data": {
            "text/plain": [
              "6"
            ]
          },
          "metadata": {},
          "execution_count": 31
        }
      ]
    },
    {
      "cell_type": "code",
      "source": [
        "a/b"
      ],
      "metadata": {
        "colab": {
          "base_uri": "https://localhost:8080/"
        },
        "id": "TlgDyrfqqvVU",
        "outputId": "49623ac1-c5aa-48a5-9975-92282852ba43"
      },
      "execution_count": 32,
      "outputs": [
        {
          "output_type": "execute_result",
          "data": {
            "text/plain": [
              "0.6666666666666666"
            ]
          },
          "metadata": {},
          "execution_count": 32
        }
      ]
    },
    {
      "cell_type": "code",
      "source": [
        "#제곱\n",
        "a**a"
      ],
      "metadata": {
        "colab": {
          "base_uri": "https://localhost:8080/"
        },
        "id": "skEx4Uoeqxux",
        "outputId": "fcc723a9-e40b-4e90-8195-7bd3542cc1bc"
      },
      "execution_count": 33,
      "outputs": [
        {
          "output_type": "execute_result",
          "data": {
            "text/plain": [
              "4"
            ]
          },
          "metadata": {},
          "execution_count": 33
        }
      ]
    },
    {
      "cell_type": "code",
      "source": [
        "#루트값\n",
        "2**0.5"
      ],
      "metadata": {
        "colab": {
          "base_uri": "https://localhost:8080/"
        },
        "id": "NsLHe3gYt_oA",
        "outputId": "37be06a5-4277-438a-a8db-bf96d21d4a17"
      },
      "execution_count": 53,
      "outputs": [
        {
          "output_type": "execute_result",
          "data": {
            "text/plain": [
              "1.4142135623730951"
            ]
          },
          "metadata": {},
          "execution_count": 53
        }
      ]
    },
    {
      "cell_type": "code",
      "source": [
        "#몫만 도출\n",
        "12//5"
      ],
      "metadata": {
        "colab": {
          "base_uri": "https://localhost:8080/"
        },
        "id": "0n5-HLX7q2eF",
        "outputId": "cc8a4809-7f3f-4ed3-f3bc-01a4f9ceb699"
      },
      "execution_count": 35,
      "outputs": [
        {
          "output_type": "execute_result",
          "data": {
            "text/plain": [
              "2"
            ]
          },
          "metadata": {},
          "execution_count": 35
        }
      ]
    },
    {
      "cell_type": "code",
      "source": [
        "#반올림\n",
        "55//6"
      ],
      "metadata": {
        "colab": {
          "base_uri": "https://localhost:8080/"
        },
        "id": "deDrmiSRrFhe",
        "outputId": "af3ec4d5-f72e-4a8e-c1d5-01514713f3f7"
      },
      "execution_count": 36,
      "outputs": [
        {
          "output_type": "execute_result",
          "data": {
            "text/plain": [
              "9"
            ]
          },
          "metadata": {},
          "execution_count": 36
        }
      ]
    },
    {
      "cell_type": "code",
      "source": [
        "#Type\n",
        "a=1\n",
        "b=2.3\n",
        "c=-4"
      ],
      "metadata": {
        "id": "eCpXiLlDrh4u"
      },
      "execution_count": 37,
      "outputs": []
    },
    {
      "cell_type": "code",
      "source": [
        "#정수\n",
        "type(a)"
      ],
      "metadata": {
        "colab": {
          "base_uri": "https://localhost:8080/"
        },
        "id": "x4k3ed1AtP9e",
        "outputId": "801d45fc-c679-4761-d4ef-f32f5d6a2db0"
      },
      "execution_count": 38,
      "outputs": [
        {
          "output_type": "execute_result",
          "data": {
            "text/plain": [
              "int"
            ]
          },
          "metadata": {},
          "execution_count": 38
        }
      ]
    },
    {
      "cell_type": "code",
      "source": [
        "#실수\n",
        "type(b)"
      ],
      "metadata": {
        "colab": {
          "base_uri": "https://localhost:8080/"
        },
        "id": "r3sS4fd5tVOD",
        "outputId": "2f4c2d9b-1cd6-4e28-c157-761a237444a0"
      },
      "execution_count": 39,
      "outputs": [
        {
          "output_type": "execute_result",
          "data": {
            "text/plain": [
              "float"
            ]
          },
          "metadata": {},
          "execution_count": 39
        }
      ]
    },
    {
      "cell_type": "code",
      "source": [
        "d=a=b"
      ],
      "metadata": {
        "id": "8vCbUuAxtY-D"
      },
      "execution_count": 41,
      "outputs": []
    },
    {
      "cell_type": "code",
      "source": [
        "type(int(d))"
      ],
      "metadata": {
        "colab": {
          "base_uri": "https://localhost:8080/"
        },
        "id": "-ow-GbrwteA_",
        "outputId": "ad8c0c74-114a-4039-b0ff-4ef632e94b11"
      },
      "execution_count": 43,
      "outputs": [
        {
          "output_type": "execute_result",
          "data": {
            "text/plain": [
              "int"
            ]
          },
          "metadata": {},
          "execution_count": 43
        }
      ]
    },
    {
      "cell_type": "code",
      "source": [
        "F=\"chacha\""
      ],
      "metadata": {
        "id": "mwPrMXoMtwbo"
      },
      "execution_count": 44,
      "outputs": []
    },
    {
      "cell_type": "code",
      "source": [
        "#문자열\n",
        "type(F)"
      ],
      "metadata": {
        "colab": {
          "base_uri": "https://localhost:8080/"
        },
        "id": "gZ0NX9KCt4r6",
        "outputId": "b3a88881-5a0b-4f52-bab9-7e133ccb2d06"
      },
      "execution_count": 45,
      "outputs": [
        {
          "output_type": "execute_result",
          "data": {
            "text/plain": [
              "str"
            ]
          },
          "metadata": {},
          "execution_count": 45
        }
      ]
    },
    {
      "cell_type": "code",
      "source": [
        "#문장\n",
        "print(\"Ubion is the best\")"
      ],
      "metadata": {
        "colab": {
          "base_uri": "https://localhost:8080/"
        },
        "id": "RhNe_ml2t8Jm",
        "outputId": "b2c9ba70-0ff1-41b7-8744-c62b2747ebc0"
      },
      "execution_count": 54,
      "outputs": [
        {
          "output_type": "stream",
          "name": "stdout",
          "text": [
            "Ubion is the best\n"
          ]
        }
      ]
    },
    {
      "cell_type": "code",
      "source": [
        "print(\"Ubion isn't the best\")"
      ],
      "metadata": {
        "colab": {
          "base_uri": "https://localhost:8080/"
        },
        "id": "Iv4A1VOVuuPt",
        "outputId": "84ecf0b0-9652-49d4-ade8-bd93aa6d480f"
      },
      "execution_count": 55,
      "outputs": [
        {
          "output_type": "stream",
          "name": "stdout",
          "text": [
            "Ubion isn't the best\n"
          ]
        }
      ]
    },
    {
      "cell_type": "code",
      "source": [
        "#문장 ''를 쓸 때 문장에 에러가 뜰 수 있어서,어퍼스트로피 앞에 \\를 붙여준다.\n",
        "print('ubion isn\\'t the best.')"
      ],
      "metadata": {
        "colab": {
          "base_uri": "https://localhost:8080/"
        },
        "id": "-az6ueIfuxB3",
        "outputId": "5aa505ec-2cf8-4113-f61f-477f09067af3"
      },
      "execution_count": 68,
      "outputs": [
        {
          "output_type": "stream",
          "name": "stdout",
          "text": [
            "ubion isn't the best.\n"
          ]
        }
      ]
    },
    {
      "cell_type": "code",
      "source": [
        "#문장 줄바꿈 [\\n]\n",
        "print(\"ubion is the best. \\nubion isn't the best.\")"
      ],
      "metadata": {
        "colab": {
          "base_uri": "https://localhost:8080/"
        },
        "id": "gJACsAMCvSpA",
        "outputId": "eb03983a-ad6c-45bd-bb44-1ab306f78b31"
      },
      "execution_count": 57,
      "outputs": [
        {
          "output_type": "stream",
          "name": "stdout",
          "text": [
            "ubion is the best. \n",
            "ubion isn't the best.\n"
          ]
        }
      ]
    },
    {
      "cell_type": "code",
      "source": [
        "#문장활용\n",
        "a=\"ubion is the best.\""
      ],
      "metadata": {
        "id": "kQEYjOjPvdM1"
      },
      "execution_count": 58,
      "outputs": []
    },
    {
      "cell_type": "code",
      "source": [
        "b=\"Ubion isn't the best\""
      ],
      "metadata": {
        "id": "Ru_MpIdUvp3P"
      },
      "execution_count": 60,
      "outputs": []
    },
    {
      "cell_type": "code",
      "source": [
        "c=a+b"
      ],
      "metadata": {
        "id": "lU9XnXHFvsC2"
      },
      "execution_count": 61,
      "outputs": []
    },
    {
      "cell_type": "code",
      "source": [
        "print(c)"
      ],
      "metadata": {
        "colab": {
          "base_uri": "https://localhost:8080/"
        },
        "id": "RKauc6lsv160",
        "outputId": "4ae6d2df-1e8d-4246-f686-d0b6d3525ee6"
      },
      "execution_count": 62,
      "outputs": [
        {
          "output_type": "stream",
          "name": "stdout",
          "text": [
            "ubion is the best.Ubion isn't the best\n"
          ]
        }
      ]
    },
    {
      "cell_type": "code",
      "source": [
        "a*25"
      ],
      "metadata": {
        "colab": {
          "base_uri": "https://localhost:8080/",
          "height": 126
        },
        "id": "vE58qEl4v4ve",
        "outputId": "f7e7f70a-29fe-44ca-9e7a-e645bd3e9fbb"
      },
      "execution_count": 63,
      "outputs": [
        {
          "output_type": "execute_result",
          "data": {
            "text/plain": [
              "'ubion is the best.ubion is the best.ubion is the best.ubion is the best.ubion is the best.ubion is the best.ubion is the best.ubion is the best.ubion is the best.ubion is the best.ubion is the best.ubion is the best.ubion is the best.ubion is the best.ubion is the best.ubion is the best.ubion is the best.ubion is the best.ubion is the best.ubion is the best.ubion is the best.ubion is the best.ubion is the best.ubion is the best.ubion is the best.'"
            ],
            "application/vnd.google.colaboratory.intrinsic+json": {
              "type": "string"
            }
          },
          "metadata": {},
          "execution_count": 63
        }
      ]
    },
    {
      "cell_type": "code",
      "source": [
        "#문장 꾸미기.\n",
        "print(\"-\"*40)\n",
        "print(a*2)\n",
        "print(\"-\"*40)"
      ],
      "metadata": {
        "colab": {
          "base_uri": "https://localhost:8080/"
        },
        "id": "0CgdQkQqv8ck",
        "outputId": "0c5e8f3e-5ff1-46c2-b475-9ed1ee0afaec"
      },
      "execution_count": 64,
      "outputs": [
        {
          "output_type": "stream",
          "name": "stdout",
          "text": [
            "----------------------------------------\n",
            "ubion is the best.ubion is the best.\n",
            "----------------------------------------\n"
          ]
        }
      ]
    },
    {
      "cell_type": "code",
      "source": [
        "#파이썬은 0이 기준,R은 1이 기준\n",
        "# [a:b] : a<= x <b \n",
        "# a보다 크거나 같고, b보다 작은 인덱스를 꺼내온다\n",
        "\"유비온은 최고의 교육기관이다.\"[0:3]"
      ],
      "metadata": {
        "colab": {
          "base_uri": "https://localhost:8080/",
          "height": 35
        },
        "id": "vE8iI8JMwHPi",
        "outputId": "d979cb49-c06c-449d-b7e4-1b88769ea421"
      },
      "execution_count": 65,
      "outputs": [
        {
          "output_type": "execute_result",
          "data": {
            "text/plain": [
              "'유비온'"
            ],
            "application/vnd.google.colaboratory.intrinsic+json": {
              "type": "string"
            }
          },
          "metadata": {},
          "execution_count": 65
        }
      ]
    },
    {
      "cell_type": "code",
      "source": [
        "#[:]에서 0은 생략 가능, 음수도 가능\n",
        "first_name = \"HyeonseongCha\"[:10]\n",
        "print(first_name)"
      ],
      "metadata": {
        "colab": {
          "base_uri": "https://localhost:8080/"
        },
        "id": "FG2gAiRVwo2z",
        "outputId": "ae8c40e1-3980-4e7d-965d-617d8ca6b564"
      },
      "execution_count": 69,
      "outputs": [
        {
          "output_type": "stream",
          "name": "stdout",
          "text": [
            "Hyeonseong\n"
          ]
        }
      ]
    },
    {
      "cell_type": "code",
      "source": [
        "last_name= \"HyeonseongCha\"[10:]\n",
        "print(last_name)"
      ],
      "metadata": {
        "colab": {
          "base_uri": "https://localhost:8080/"
        },
        "id": "Kf9TbK3Ex84b",
        "outputId": "a6e0adc7-87b5-4e68-e6d0-29a294a3047a"
      },
      "execution_count": 70,
      "outputs": [
        {
          "output_type": "stream",
          "name": "stdout",
          "text": [
            "Cha\n"
          ]
        }
      ]
    },
    {
      "cell_type": "code",
      "source": [
        "last_name= \"HyeonseongCha\"[-3:]\n",
        "print(last_name)"
      ],
      "metadata": {
        "colab": {
          "base_uri": "https://localhost:8080/"
        },
        "id": "54hL5hxvyAVa",
        "outputId": "03e1ce1b-ce6e-4a68-ad48-2129574c43cd"
      },
      "execution_count": 74,
      "outputs": [
        {
          "output_type": "stream",
          "name": "stdout",
          "text": [
            "Cha\n"
          ]
        }
      ]
    },
    {
      "cell_type": "code",
      "source": [
        "#단어 길이\n",
        "name=\"hyeonseongcha\"\n",
        "len(name)"
      ],
      "metadata": {
        "colab": {
          "base_uri": "https://localhost:8080/"
        },
        "id": "A_rEsXcnyuTL",
        "outputId": "91185ef2-d3ba-4e0b-d6fa-621bfa668ea5"
      },
      "execution_count": 75,
      "outputs": [
        {
          "output_type": "execute_result",
          "data": {
            "text/plain": [
              "13"
            ]
          },
          "metadata": {},
          "execution_count": 75
        }
      ]
    },
    {
      "cell_type": "code",
      "source": [
        "#단어에서 알파벳 위치 찾기\n",
        "#중복시 첫번째 것만\n",
        "name.find(\"h\")"
      ],
      "metadata": {
        "colab": {
          "base_uri": "https://localhost:8080/"
        },
        "id": "qHRtKpzZy6eC",
        "outputId": "d0228295-78e9-46b0-d318-e038ebfff1df"
      },
      "execution_count": 78,
      "outputs": [
        {
          "output_type": "execute_result",
          "data": {
            "text/plain": [
              "0"
            ]
          },
          "metadata": {},
          "execution_count": 78
        }
      ]
    },
    {
      "cell_type": "code",
      "source": [
        "#단어에서 알파벳 개수 찾기\n",
        "name.count(\"o\")"
      ],
      "metadata": {
        "colab": {
          "base_uri": "https://localhost:8080/"
        },
        "id": "86B9fnGhzL2i",
        "outputId": "89cfa01a-9beb-4b43-b957-02934a7c14a0"
      },
      "execution_count": 80,
      "outputs": [
        {
          "output_type": "execute_result",
          "data": {
            "text/plain": [
              "2"
            ]
          },
          "metadata": {},
          "execution_count": 80
        }
      ]
    },
    {
      "cell_type": "code",
      "source": [],
      "metadata": {
        "id": "e--Cpi1YzjBz"
      },
      "execution_count": null,
      "outputs": []
    }
  ]
}