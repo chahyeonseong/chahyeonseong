{
  "nbformat": 4,
  "nbformat_minor": 0,
  "metadata": {
    "colab": {
      "provenance": [],
      "collapsed_sections": [
        "ti5d8jOvldH2",
        "h1fZBXJTln74",
        "8S6FduhVl0-u",
        "OBhHFOJll99J",
        "Y9W6EGLRmFhx",
        "vccpPslmmY-P",
        "Giya5jAvmzDk",
        "WDDmrt6pm_aI",
        "8_zAa1E2nH8U"
      ],
      "authorship_tag": "ABX9TyP9GLYRZ+SvIxFTQAAIYymB",
      "include_colab_link": true
    },
    "kernelspec": {
      "name": "python3",
      "display_name": "Python 3"
    },
    "language_info": {
      "name": "python"
    }
  },
  "cells": [
    {
      "cell_type": "markdown",
      "metadata": {
        "id": "view-in-github",
        "colab_type": "text"
      },
      "source": [
        "<a href=\"https://colab.research.google.com/github/chahyeonseong/chahyeonseong/blob/main/%EC%B0%A8%ED%98%84%EC%84%B1.ipynb\" target=\"_parent\"><img src=\"https://colab.research.google.com/assets/colab-badge.svg\" alt=\"Open In Colab\"/></a>"
      ]
    },
    {
      "cell_type": "markdown",
      "source": [
        "#빅데이터 마케팅\n",
        "#차현성\n",
        "#2022-2023"
      ],
      "metadata": {
        "id": "wuTefVXgm2YJ"
      }
    },
    {
      "cell_type": "markdown",
      "source": [
        "#시작"
      ],
      "metadata": {
        "id": "ti5d8jOvldH2"
      }
    },
    {
      "cell_type": "code",
      "source": [
        "print(\"Hollo World!\")"
      ],
      "metadata": {
        "colab": {
          "base_uri": "https://localhost:8080/"
        },
        "id": "VXWYrdg_nE9R",
        "outputId": "c8721e0a-b3f0-4429-d180-f7b23735ea82"
      },
      "execution_count": null,
      "outputs": [
        {
          "output_type": "stream",
          "name": "stdout",
          "text": [
            "Hollo World!\n"
          ]
        }
      ]
    },
    {
      "cell_type": "code",
      "source": [
        "#문자열에는 \"\"\n",
        "a=\"python\"\n",
        "a"
      ],
      "metadata": {
        "colab": {
          "base_uri": "https://localhost:8080/",
          "height": 35
        },
        "id": "H5ZUs8HJnNng",
        "outputId": "1208bdbb-55a5-4484-b29e-242b38bb880e"
      },
      "execution_count": null,
      "outputs": [
        {
          "output_type": "execute_result",
          "data": {
            "text/plain": [
              "'python'"
            ],
            "application/vnd.google.colaboratory.intrinsic+json": {
              "type": "string"
            }
          },
          "metadata": {},
          "execution_count": 230
        }
      ]
    },
    {
      "cell_type": "code",
      "source": [
        "#변수 지우기\n",
        "del (a)"
      ],
      "metadata": {
        "id": "VWiKx0s2nSUI"
      },
      "execution_count": null,
      "outputs": []
    },
    {
      "cell_type": "code",
      "source": [
        "#값 설정\n",
        "a=2\n",
        "b=3"
      ],
      "metadata": {
        "id": "EOKrg6_Pncua"
      },
      "execution_count": null,
      "outputs": []
    },
    {
      "cell_type": "code",
      "source": [
        "#값 도출\n",
        "print (a)"
      ],
      "metadata": {
        "colab": {
          "base_uri": "https://localhost:8080/"
        },
        "id": "i-SsPkZjnqBC",
        "outputId": "ca221427-1107-47b8-e059-950d8095809d"
      },
      "execution_count": null,
      "outputs": [
        {
          "output_type": "stream",
          "name": "stdout",
          "text": [
            "2\n"
          ]
        }
      ]
    },
    {
      "cell_type": "markdown",
      "source": [
        "#연산"
      ],
      "metadata": {
        "id": "h1fZBXJTln74"
      }
    },
    {
      "cell_type": "code",
      "source": [
        "a+b"
      ],
      "metadata": {
        "colab": {
          "base_uri": "https://localhost:8080/"
        },
        "id": "pJvqnogVqnfh",
        "outputId": "ba9284c9-e77f-41ab-d0ff-624d42e1c164"
      },
      "execution_count": null,
      "outputs": [
        {
          "output_type": "execute_result",
          "data": {
            "text/plain": [
              "5"
            ]
          },
          "metadata": {},
          "execution_count": 235
        }
      ]
    },
    {
      "cell_type": "code",
      "source": [
        "a-b"
      ],
      "metadata": {
        "colab": {
          "base_uri": "https://localhost:8080/"
        },
        "id": "QJx4qIHxqq9N",
        "outputId": "178b246e-cdcc-4dbd-d137-4daa6d99cfd9"
      },
      "execution_count": null,
      "outputs": [
        {
          "output_type": "execute_result",
          "data": {
            "text/plain": [
              "-1"
            ]
          },
          "metadata": {},
          "execution_count": 236
        }
      ]
    },
    {
      "cell_type": "code",
      "source": [
        "a*b"
      ],
      "metadata": {
        "colab": {
          "base_uri": "https://localhost:8080/"
        },
        "id": "IpvOHhRNqtko",
        "outputId": "9da062a9-4c3b-415e-c13a-6ec8ec6b4609"
      },
      "execution_count": null,
      "outputs": [
        {
          "output_type": "execute_result",
          "data": {
            "text/plain": [
              "6"
            ]
          },
          "metadata": {},
          "execution_count": 237
        }
      ]
    },
    {
      "cell_type": "code",
      "source": [
        "a/b"
      ],
      "metadata": {
        "colab": {
          "base_uri": "https://localhost:8080/"
        },
        "id": "TlgDyrfqqvVU",
        "outputId": "9121f699-19c2-4ac3-e990-9dd6b79bba6f"
      },
      "execution_count": null,
      "outputs": [
        {
          "output_type": "execute_result",
          "data": {
            "text/plain": [
              "0.6666666666666666"
            ]
          },
          "metadata": {},
          "execution_count": 238
        }
      ]
    },
    {
      "cell_type": "code",
      "source": [
        "#제곱\n",
        "a**a"
      ],
      "metadata": {
        "colab": {
          "base_uri": "https://localhost:8080/"
        },
        "id": "skEx4Uoeqxux",
        "outputId": "c29fae0b-052f-47f2-966d-6d66b2c87054"
      },
      "execution_count": null,
      "outputs": [
        {
          "output_type": "execute_result",
          "data": {
            "text/plain": [
              "4"
            ]
          },
          "metadata": {},
          "execution_count": 239
        }
      ]
    },
    {
      "cell_type": "code",
      "source": [
        "#루트값\n",
        "2**0.5"
      ],
      "metadata": {
        "colab": {
          "base_uri": "https://localhost:8080/"
        },
        "id": "NsLHe3gYt_oA",
        "outputId": "715d2447-adcc-4758-f675-bdc61aed773e"
      },
      "execution_count": null,
      "outputs": [
        {
          "output_type": "execute_result",
          "data": {
            "text/plain": [
              "1.4142135623730951"
            ]
          },
          "metadata": {},
          "execution_count": 240
        }
      ]
    },
    {
      "cell_type": "code",
      "source": [
        "#몫만 도출\n",
        "12//5"
      ],
      "metadata": {
        "colab": {
          "base_uri": "https://localhost:8080/"
        },
        "id": "0n5-HLX7q2eF",
        "outputId": "2dc236ed-11d9-4c76-a775-79952dacb979"
      },
      "execution_count": null,
      "outputs": [
        {
          "output_type": "execute_result",
          "data": {
            "text/plain": [
              "2"
            ]
          },
          "metadata": {},
          "execution_count": 241
        }
      ]
    },
    {
      "cell_type": "code",
      "source": [
        "#반올림\n",
        "55//6"
      ],
      "metadata": {
        "colab": {
          "base_uri": "https://localhost:8080/"
        },
        "id": "deDrmiSRrFhe",
        "outputId": "8da7573e-c402-4b86-d81a-af6b55f76508"
      },
      "execution_count": null,
      "outputs": [
        {
          "output_type": "execute_result",
          "data": {
            "text/plain": [
              "9"
            ]
          },
          "metadata": {},
          "execution_count": 242
        }
      ]
    },
    {
      "cell_type": "markdown",
      "source": [
        "#Type"
      ],
      "metadata": {
        "id": "8S6FduhVl0-u"
      }
    },
    {
      "cell_type": "code",
      "source": [
        "#Type\n",
        "a=1\n",
        "b=2.3\n",
        "c=-4"
      ],
      "metadata": {
        "id": "eCpXiLlDrh4u"
      },
      "execution_count": null,
      "outputs": []
    },
    {
      "cell_type": "code",
      "source": [
        "#정수\n",
        "type(a)"
      ],
      "metadata": {
        "colab": {
          "base_uri": "https://localhost:8080/"
        },
        "id": "x4k3ed1AtP9e",
        "outputId": "eabed4a4-da43-4db0-a630-08d4a6ea56a7"
      },
      "execution_count": null,
      "outputs": [
        {
          "output_type": "execute_result",
          "data": {
            "text/plain": [
              "int"
            ]
          },
          "metadata": {},
          "execution_count": 409
        }
      ]
    },
    {
      "cell_type": "code",
      "source": [
        "#실수\n",
        "type(b)"
      ],
      "metadata": {
        "colab": {
          "base_uri": "https://localhost:8080/"
        },
        "id": "r3sS4fd5tVOD",
        "outputId": "523100b4-0234-4af8-f65d-af8d92fa9323"
      },
      "execution_count": null,
      "outputs": [
        {
          "output_type": "execute_result",
          "data": {
            "text/plain": [
              "float"
            ]
          },
          "metadata": {},
          "execution_count": 410
        }
      ]
    },
    {
      "cell_type": "code",
      "source": [
        "#방정식\n",
        "d=a=b"
      ],
      "metadata": {
        "id": "8vCbUuAxtY-D"
      },
      "execution_count": null,
      "outputs": []
    },
    {
      "cell_type": "code",
      "source": [
        "type(int(d))"
      ],
      "metadata": {
        "colab": {
          "base_uri": "https://localhost:8080/"
        },
        "id": "-ow-GbrwteA_",
        "outputId": "b8c1a469-cd6e-4909-9533-f96661e0c8a8"
      },
      "execution_count": null,
      "outputs": [
        {
          "output_type": "execute_result",
          "data": {
            "text/plain": [
              "int"
            ]
          },
          "metadata": {},
          "execution_count": 406
        }
      ]
    },
    {
      "cell_type": "code",
      "source": [
        "F=\"chacha\""
      ],
      "metadata": {
        "id": "mwPrMXoMtwbo"
      },
      "execution_count": null,
      "outputs": []
    },
    {
      "cell_type": "markdown",
      "source": [
        "#문자열"
      ],
      "metadata": {
        "id": "OBhHFOJll99J"
      }
    },
    {
      "cell_type": "code",
      "source": [
        "#문자열\n",
        "type(F)"
      ],
      "metadata": {
        "colab": {
          "base_uri": "https://localhost:8080/"
        },
        "id": "gZ0NX9KCt4r6",
        "outputId": "a94ffcb4-3f73-4976-8383-1da4b9d10244"
      },
      "execution_count": null,
      "outputs": [
        {
          "output_type": "execute_result",
          "data": {
            "text/plain": [
              "str"
            ]
          },
          "metadata": {},
          "execution_count": 249
        }
      ]
    },
    {
      "cell_type": "code",
      "source": [
        "#문장\n",
        "print(\"Ubion is the best\")"
      ],
      "metadata": {
        "colab": {
          "base_uri": "https://localhost:8080/"
        },
        "id": "RhNe_ml2t8Jm",
        "outputId": "c4954628-0e72-4269-8688-63826e8f9bdd"
      },
      "execution_count": null,
      "outputs": [
        {
          "output_type": "stream",
          "name": "stdout",
          "text": [
            "Ubion is the best\n"
          ]
        }
      ]
    },
    {
      "cell_type": "code",
      "source": [
        "print(\"Ubion isn't the best\")"
      ],
      "metadata": {
        "colab": {
          "base_uri": "https://localhost:8080/"
        },
        "id": "Iv4A1VOVuuPt",
        "outputId": "b1c006b8-7f95-4b64-8ebd-ad95c9a3f852"
      },
      "execution_count": null,
      "outputs": [
        {
          "output_type": "stream",
          "name": "stdout",
          "text": [
            "Ubion isn't the best\n"
          ]
        }
      ]
    },
    {
      "cell_type": "code",
      "source": [
        "#문장 ''를 쓸 때 문장에 에러가 뜰 수 있어서,어퍼스트로피 앞에 \\를 붙여준다.\n",
        "print('ubion isn\\'t the best.')"
      ],
      "metadata": {
        "colab": {
          "base_uri": "https://localhost:8080/"
        },
        "id": "-az6ueIfuxB3",
        "outputId": "5d77e386-85ef-457a-a435-3c64b3ed2706"
      },
      "execution_count": null,
      "outputs": [
        {
          "output_type": "stream",
          "name": "stdout",
          "text": [
            "ubion isn't the best.\n"
          ]
        }
      ]
    },
    {
      "cell_type": "code",
      "source": [
        "#문장 줄바꿈 [\\n]\n",
        "print(\"ubion is the best. \\nubion isn't the best.\")"
      ],
      "metadata": {
        "colab": {
          "base_uri": "https://localhost:8080/"
        },
        "id": "gJACsAMCvSpA",
        "outputId": "eb031077-a9a8-4336-8d22-91cb4bb104b0"
      },
      "execution_count": null,
      "outputs": [
        {
          "output_type": "stream",
          "name": "stdout",
          "text": [
            "ubion is the best. \n",
            "ubion isn't the best.\n"
          ]
        }
      ]
    },
    {
      "cell_type": "code",
      "source": [
        "#문장활용\n",
        "a=\"ubion is the best.\""
      ],
      "metadata": {
        "id": "kQEYjOjPvdM1"
      },
      "execution_count": null,
      "outputs": []
    },
    {
      "cell_type": "code",
      "source": [
        "b=\"Ubion isn't the best\""
      ],
      "metadata": {
        "id": "Ru_MpIdUvp3P"
      },
      "execution_count": null,
      "outputs": []
    },
    {
      "cell_type": "code",
      "source": [
        "c=a+b"
      ],
      "metadata": {
        "id": "lU9XnXHFvsC2"
      },
      "execution_count": null,
      "outputs": []
    },
    {
      "cell_type": "code",
      "source": [
        "print(c)"
      ],
      "metadata": {
        "colab": {
          "base_uri": "https://localhost:8080/"
        },
        "id": "RKauc6lsv160",
        "outputId": "9d120f0b-5343-4b08-f9d4-6249f725215e"
      },
      "execution_count": null,
      "outputs": [
        {
          "output_type": "stream",
          "name": "stdout",
          "text": [
            "ubion is the best.Ubion isn't the best\n"
          ]
        }
      ]
    },
    {
      "cell_type": "code",
      "source": [
        "a*25"
      ],
      "metadata": {
        "colab": {
          "base_uri": "https://localhost:8080/",
          "height": 126
        },
        "id": "vE58qEl4v4ve",
        "outputId": "7058adcf-98dc-467c-ea00-7dbd1e8ef1f1"
      },
      "execution_count": null,
      "outputs": [
        {
          "output_type": "execute_result",
          "data": {
            "text/plain": [
              "'ubion is the best.ubion is the best.ubion is the best.ubion is the best.ubion is the best.ubion is the best.ubion is the best.ubion is the best.ubion is the best.ubion is the best.ubion is the best.ubion is the best.ubion is the best.ubion is the best.ubion is the best.ubion is the best.ubion is the best.ubion is the best.ubion is the best.ubion is the best.ubion is the best.ubion is the best.ubion is the best.ubion is the best.ubion is the best.'"
            ],
            "application/vnd.google.colaboratory.intrinsic+json": {
              "type": "string"
            }
          },
          "metadata": {},
          "execution_count": 258
        }
      ]
    },
    {
      "cell_type": "code",
      "source": [
        "#문장 꾸미기.\n",
        "print(\"-\"*40)\n",
        "print(a*2)\n",
        "print(\"-\"*40)"
      ],
      "metadata": {
        "colab": {
          "base_uri": "https://localhost:8080/"
        },
        "id": "0CgdQkQqv8ck",
        "outputId": "0714ceb8-fd74-449a-b76d-a542e02a23da"
      },
      "execution_count": null,
      "outputs": [
        {
          "output_type": "stream",
          "name": "stdout",
          "text": [
            "----------------------------------------\n",
            "ubion is the best.ubion is the best.\n",
            "----------------------------------------\n"
          ]
        }
      ]
    },
    {
      "cell_type": "code",
      "source": [
        "#파이썬은 0이 기준,R은 1이 기준\n",
        "# [a:b] : a<= x <b \n",
        "# a보다 크거나 같고, b보다 작은 인덱스를 꺼내온다\n",
        "\"유비온은 최고의 교육기관이다.\"[0:3]"
      ],
      "metadata": {
        "colab": {
          "base_uri": "https://localhost:8080/",
          "height": 35
        },
        "id": "vE8iI8JMwHPi",
        "outputId": "be388a7f-5fef-416f-8fba-e72c74cb840f"
      },
      "execution_count": null,
      "outputs": [
        {
          "output_type": "execute_result",
          "data": {
            "text/plain": [
              "'유비온'"
            ],
            "application/vnd.google.colaboratory.intrinsic+json": {
              "type": "string"
            }
          },
          "metadata": {},
          "execution_count": 260
        }
      ]
    },
    {
      "cell_type": "code",
      "source": [
        "#[:]에서 0은 생략 가능, 음수도 가능\n",
        "first_name = \"HyeonseongCha\"[:10]\n",
        "print(first_name)"
      ],
      "metadata": {
        "colab": {
          "base_uri": "https://localhost:8080/"
        },
        "id": "FG2gAiRVwo2z",
        "outputId": "fddcf225-3671-473b-d2bf-fb3d9036fd55"
      },
      "execution_count": null,
      "outputs": [
        {
          "output_type": "stream",
          "name": "stdout",
          "text": [
            "Hyeonseong\n"
          ]
        }
      ]
    },
    {
      "cell_type": "code",
      "source": [
        "last_name= \"HyeonseongCha\"[10:]\n",
        "print(last_name)"
      ],
      "metadata": {
        "colab": {
          "base_uri": "https://localhost:8080/"
        },
        "id": "Kf9TbK3Ex84b",
        "outputId": "436bb942-c946-43d0-bf8c-b748308cef2c"
      },
      "execution_count": null,
      "outputs": [
        {
          "output_type": "stream",
          "name": "stdout",
          "text": [
            "Cha\n"
          ]
        }
      ]
    },
    {
      "cell_type": "code",
      "source": [
        "last_name= \"HyeonseongCha\"[-3:]\n",
        "print(last_name)"
      ],
      "metadata": {
        "colab": {
          "base_uri": "https://localhost:8080/"
        },
        "id": "54hL5hxvyAVa",
        "outputId": "43cf502e-11d1-4cc1-e1d5-8bac805f2c80"
      },
      "execution_count": null,
      "outputs": [
        {
          "output_type": "stream",
          "name": "stdout",
          "text": [
            "Cha\n"
          ]
        }
      ]
    },
    {
      "cell_type": "code",
      "source": [
        "#단어 길이\n",
        "name=\"hyeonseongcha\"\n",
        "len(name)"
      ],
      "metadata": {
        "colab": {
          "base_uri": "https://localhost:8080/"
        },
        "id": "A_rEsXcnyuTL",
        "outputId": "c924c143-d4c1-42df-d06e-8f05845fb807"
      },
      "execution_count": null,
      "outputs": [
        {
          "output_type": "execute_result",
          "data": {
            "text/plain": [
              "13"
            ]
          },
          "metadata": {},
          "execution_count": 264
        }
      ]
    },
    {
      "cell_type": "code",
      "source": [
        "#단어에서 알파벳 위치 찾기\n",
        "#중복시 첫번째 것만\n",
        "name.find(\"h\")"
      ],
      "metadata": {
        "colab": {
          "base_uri": "https://localhost:8080/"
        },
        "id": "qHRtKpzZy6eC",
        "outputId": "5a2ef99c-2939-4be1-a5e0-d32ba4a84a51"
      },
      "execution_count": null,
      "outputs": [
        {
          "output_type": "execute_result",
          "data": {
            "text/plain": [
              "0"
            ]
          },
          "metadata": {},
          "execution_count": 265
        }
      ]
    },
    {
      "cell_type": "code",
      "source": [
        "#단어에서 알파벳 개수 찾기\n",
        "name.count(\"o\")"
      ],
      "metadata": {
        "colab": {
          "base_uri": "https://localhost:8080/"
        },
        "id": "86B9fnGhzL2i",
        "outputId": "d5332eae-729b-4814-a3a1-082af9049885"
      },
      "execution_count": null,
      "outputs": [
        {
          "output_type": "execute_result",
          "data": {
            "text/plain": [
              "2"
            ]
          },
          "metadata": {},
          "execution_count": 266
        }
      ]
    },
    {
      "cell_type": "code",
      "source": [
        "#음절별 띄어쓰기\n",
        "a=\" \"\n",
        "a.join(\"HyeonseongCha\")"
      ],
      "metadata": {
        "id": "YzqZ7_awFO3S",
        "colab": {
          "base_uri": "https://localhost:8080/",
          "height": 35
        },
        "outputId": "fc5b8662-b98e-470e-f8c4-25d212da4b18"
      },
      "execution_count": null,
      "outputs": [
        {
          "output_type": "execute_result",
          "data": {
            "text/plain": [
              "'H y e o n s e o n g C h a'"
            ],
            "application/vnd.google.colaboratory.intrinsic+json": {
              "type": "string"
            }
          },
          "metadata": {},
          "execution_count": 267
        }
      ]
    },
    {
      "cell_type": "code",
      "source": [
        "#단어 전체 대문자\n",
        "name.upper()"
      ],
      "metadata": {
        "id": "jMOP822BFXs4",
        "colab": {
          "base_uri": "https://localhost:8080/",
          "height": 35
        },
        "outputId": "2f2c2cd0-e919-4093-8dab-648cddbf28f5"
      },
      "execution_count": null,
      "outputs": [
        {
          "output_type": "execute_result",
          "data": {
            "text/plain": [
              "'HYEONSEONGCHA'"
            ],
            "application/vnd.google.colaboratory.intrinsic+json": {
              "type": "string"
            }
          },
          "metadata": {},
          "execution_count": 268
        }
      ]
    },
    {
      "cell_type": "code",
      "source": [
        "#단어 전체 소문자\n",
        "name.lower()"
      ],
      "metadata": {
        "id": "YPmc8ImeERWj",
        "colab": {
          "base_uri": "https://localhost:8080/",
          "height": 35
        },
        "outputId": "070b47e5-9de3-44ca-b988-da7456709487"
      },
      "execution_count": null,
      "outputs": [
        {
          "output_type": "execute_result",
          "data": {
            "text/plain": [
              "'hyeonseongcha'"
            ],
            "application/vnd.google.colaboratory.intrinsic+json": {
              "type": "string"
            }
          },
          "metadata": {},
          "execution_count": 269
        }
      ]
    },
    {
      "cell_type": "code",
      "source": [
        "name"
      ],
      "metadata": {
        "colab": {
          "base_uri": "https://localhost:8080/",
          "height": 35
        },
        "id": "-Nkp56KQVJBs",
        "outputId": "501b7f9f-2eee-4ef9-af13-3aedc0c6dd75"
      },
      "execution_count": null,
      "outputs": [
        {
          "output_type": "execute_result",
          "data": {
            "text/plain": [
              "'hyeonseongcha'"
            ],
            "application/vnd.google.colaboratory.intrinsic+json": {
              "type": "string"
            }
          },
          "metadata": {},
          "execution_count": 270
        }
      ]
    },
    {
      "cell_type": "code",
      "source": [
        "name=\" hyeonseong cha \""
      ],
      "metadata": {
        "id": "tViffsfALp1k"
      },
      "execution_count": null,
      "outputs": []
    },
    {
      "cell_type": "code",
      "source": [
        "#단어 side에 띄어쓰기 없애기\n",
        "name.strip(a)"
      ],
      "metadata": {
        "colab": {
          "base_uri": "https://localhost:8080/",
          "height": 35
        },
        "id": "LKhxSRjMJjne",
        "outputId": "eb8ca0f0-651c-4827-ea21-c26608232c36"
      },
      "execution_count": null,
      "outputs": [
        {
          "output_type": "execute_result",
          "data": {
            "text/plain": [
              "'hyeonseong cha'"
            ],
            "application/vnd.google.colaboratory.intrinsic+json": {
              "type": "string"
            }
          },
          "metadata": {},
          "execution_count": 272
        }
      ]
    },
    {
      "cell_type": "code",
      "source": [
        "#strip앞에 r또는l 삽입하여 위치설정 가능\n",
        "name.rstrip(a)"
      ],
      "metadata": {
        "colab": {
          "base_uri": "https://localhost:8080/",
          "height": 35
        },
        "id": "e1zrRGeUJ5Pp",
        "outputId": "1dd4eae3-e012-481b-ff09-3b177aad2296"
      },
      "execution_count": null,
      "outputs": [
        {
          "output_type": "execute_result",
          "data": {
            "text/plain": [
              "' hyeonseong cha'"
            ],
            "application/vnd.google.colaboratory.intrinsic+json": {
              "type": "string"
            }
          },
          "metadata": {},
          "execution_count": 273
        }
      ]
    },
    {
      "cell_type": "code",
      "source": [
        "#문장에서 특정 단어 바꾸기\n",
        "#(\"x\",\"y\") x를 y로!\n",
        "name.replace(\"cha\",\"song\")"
      ],
      "metadata": {
        "colab": {
          "base_uri": "https://localhost:8080/",
          "height": 35
        },
        "id": "6Kq-on0bMMP6",
        "outputId": "741b34d0-b04c-4161-9394-0d4494bae6ba"
      },
      "execution_count": null,
      "outputs": [
        {
          "output_type": "execute_result",
          "data": {
            "text/plain": [
              "' hyeonseong song '"
            ],
            "application/vnd.google.colaboratory.intrinsic+json": {
              "type": "string"
            }
          },
          "metadata": {},
          "execution_count": 274
        }
      ]
    },
    {
      "cell_type": "code",
      "source": [
        "#띄어쓰기를 기준으로 나누기\n",
        "name.split()"
      ],
      "metadata": {
        "colab": {
          "base_uri": "https://localhost:8080/"
        },
        "id": "OdvNDiblMepv",
        "outputId": "79009731-87bf-4a8a-f978-9090e251f9b7"
      },
      "execution_count": null,
      "outputs": [
        {
          "output_type": "execute_result",
          "data": {
            "text/plain": [
              "['hyeonseong', 'cha']"
            ]
          },
          "metadata": {},
          "execution_count": 275
        }
      ]
    },
    {
      "cell_type": "code",
      "source": [
        "#문장 삽입\n",
        "article1=\"저는 바로 그달 말에 이사할 예정이었습니다. 두말할 것도 없이 새 집의 첫째 조건은 ‘지상에 있을 것’이었어요. 그런데 이 집이 빠지기는 할까, 과연 나 말고 누가 이런 곳에 살고 싶어 할까 전전긍긍했습니다. 누군가 이사를 와야 제가 그 집을 나갈 수 있었으니까요. 새 계약자는 예상보다 훨씬 빠르게 나타나 주었습니다. 그런 집이나마 누군가는 여전히 필요로 하더군요. 제가 그랬듯이요\""
      ],
      "metadata": {
        "id": "ilPohnHONG-I"
      },
      "execution_count": null,
      "outputs": []
    },
    {
      "cell_type": "code",
      "source": [
        "#문장을 음절로 나누기 /영어에서는 단어별\n",
        "article1.split()"
      ],
      "metadata": {
        "colab": {
          "base_uri": "https://localhost:8080/"
        },
        "id": "Ho8-8vvoUMFd",
        "outputId": "36c77764-d36f-4369-af3f-0017c26d228a"
      },
      "execution_count": null,
      "outputs": [
        {
          "output_type": "execute_result",
          "data": {
            "text/plain": [
              "['저는',\n",
              " '바로',\n",
              " '그달',\n",
              " '말에',\n",
              " '이사할',\n",
              " '예정이었습니다.',\n",
              " '두말할',\n",
              " '것도',\n",
              " '없이',\n",
              " '새',\n",
              " '집의',\n",
              " '첫째',\n",
              " '조건은',\n",
              " '‘지상에',\n",
              " '있을',\n",
              " '것’이었어요.',\n",
              " '그런데',\n",
              " '이',\n",
              " '집이',\n",
              " '빠지기는',\n",
              " '할까,',\n",
              " '과연',\n",
              " '나',\n",
              " '말고',\n",
              " '누가',\n",
              " '이런',\n",
              " '곳에',\n",
              " '살고',\n",
              " '싶어',\n",
              " '할까',\n",
              " '전전긍긍했습니다.',\n",
              " '누군가',\n",
              " '이사를',\n",
              " '와야',\n",
              " '제가',\n",
              " '그',\n",
              " '집을',\n",
              " '나갈',\n",
              " '수',\n",
              " '있었으니까요.',\n",
              " '새',\n",
              " '계약자는',\n",
              " '예상보다',\n",
              " '훨씬',\n",
              " '빠르게',\n",
              " '나타나',\n",
              " '주었습니다.',\n",
              " '그런',\n",
              " '집이나마',\n",
              " '누군가는',\n",
              " '여전히',\n",
              " '필요로',\n",
              " '하더군요.',\n",
              " '제가',\n",
              " '그랬듯이요']"
            ]
          },
          "metadata": {},
          "execution_count": 277
        }
      ]
    },
    {
      "cell_type": "code",
      "source": [
        "#문단을 .을 기준으로 나누기 // 문장으로 나누기\n",
        "article1.split(\".\")"
      ],
      "metadata": {
        "colab": {
          "base_uri": "https://localhost:8080/"
        },
        "id": "t7EbyWeUiO-J",
        "outputId": "7d987501-af65-4354-96af-777131116830"
      },
      "execution_count": null,
      "outputs": [
        {
          "output_type": "execute_result",
          "data": {
            "text/plain": [
              "['저는 바로 그달 말에 이사할 예정이었습니다',\n",
              " ' 두말할 것도 없이 새 집의 첫째 조건은 ‘지상에 있을 것’이었어요',\n",
              " ' 그런데 이 집이 빠지기는 할까, 과연 나 말고 누가 이런 곳에 살고 싶어 할까 전전긍긍했습니다',\n",
              " ' 누군가 이사를 와야 제가 그 집을 나갈 수 있었으니까요',\n",
              " ' 새 계약자는 예상보다 훨씬 빠르게 나타나 주었습니다',\n",
              " ' 그런 집이나마 누군가는 여전히 필요로 하더군요',\n",
              " ' 제가 그랬듯이요']"
            ]
          },
          "metadata": {},
          "execution_count": 305
        }
      ]
    },
    {
      "cell_type": "markdown",
      "source": [
        "#List & Tuple"
      ],
      "metadata": {
        "id": "Y9W6EGLRmFhx"
      }
    },
    {
      "cell_type": "code",
      "source": [
        "a=[1,2,3,4,5]\n",
        "a"
      ],
      "metadata": {
        "colab": {
          "base_uri": "https://localhost:8080/"
        },
        "id": "RmcgcpgFUjPI",
        "outputId": "55e775cf-5de4-4661-86f2-2ab80ecdb939"
      },
      "execution_count": null,
      "outputs": [
        {
          "output_type": "execute_result",
          "data": {
            "text/plain": [
              "[1, 2, 3, 4, 5]"
            ]
          },
          "metadata": {},
          "execution_count": 306
        }
      ]
    },
    {
      "cell_type": "code",
      "source": [
        "type(a)"
      ],
      "metadata": {
        "colab": {
          "base_uri": "https://localhost:8080/"
        },
        "id": "I6AH83qDUm9T",
        "outputId": "39adbb3a-80d6-454d-a649-76996e195693"
      },
      "execution_count": null,
      "outputs": [
        {
          "output_type": "execute_result",
          "data": {
            "text/plain": [
              "list"
            ]
          },
          "metadata": {},
          "execution_count": 280
        }
      ]
    },
    {
      "cell_type": "code",
      "source": [
        "b=(1,2,3,4,5)\n",
        "b"
      ],
      "metadata": {
        "colab": {
          "base_uri": "https://localhost:8080/"
        },
        "id": "pssN5xNjUpoS",
        "outputId": "13e126ce-9c9a-450e-dc79-a019f880d334"
      },
      "execution_count": null,
      "outputs": [
        {
          "output_type": "execute_result",
          "data": {
            "text/plain": [
              "(1, 2, 3, 4, 5)"
            ]
          },
          "metadata": {},
          "execution_count": 281
        }
      ]
    },
    {
      "cell_type": "code",
      "source": [
        "type(b)"
      ],
      "metadata": {
        "colab": {
          "base_uri": "https://localhost:8080/"
        },
        "id": "Jhagb1RtUsCE",
        "outputId": "b9d708d0-b10b-44d4-9e63-77dd113c1e91"
      },
      "execution_count": null,
      "outputs": [
        {
          "output_type": "execute_result",
          "data": {
            "text/plain": [
              "tuple"
            ]
          },
          "metadata": {},
          "execution_count": 282
        }
      ]
    },
    {
      "cell_type": "code",
      "source": [
        "a[3] = 4\n",
        "a"
      ],
      "metadata": {
        "colab": {
          "base_uri": "https://localhost:8080/"
        },
        "id": "vckam1SlUtRk",
        "outputId": "caaa8547-20bd-4bcb-a640-d89385cc2fa7"
      },
      "execution_count": null,
      "outputs": [
        {
          "output_type": "execute_result",
          "data": {
            "text/plain": [
              "[1, 2, 3, 4, 5]"
            ]
          },
          "metadata": {},
          "execution_count": 292
        }
      ]
    },
    {
      "cell_type": "code",
      "source": [
        "a.replace(3,4)\n",
        "a"
      ],
      "metadata": {
        "colab": {
          "base_uri": "https://localhost:8080/",
          "height": 190
        },
        "id": "V93_egnFmR33",
        "outputId": "04d2ff8b-260a-4b57-b55a-f36e18cc1c8f"
      },
      "execution_count": null,
      "outputs": [
        {
          "output_type": "error",
          "ename": "AttributeError",
          "evalue": "ignored",
          "traceback": [
            "\u001b[0;31m---------------------------------------------------------------------------\u001b[0m",
            "\u001b[0;31mAttributeError\u001b[0m                            Traceback (most recent call last)",
            "\u001b[0;32m<ipython-input-391-c64051c435cf>\u001b[0m in \u001b[0;36m<module>\u001b[0;34m\u001b[0m\n\u001b[0;32m----> 1\u001b[0;31m \u001b[0ma\u001b[0m\u001b[0;34m.\u001b[0m\u001b[0mreplace\u001b[0m\u001b[0;34m(\u001b[0m\u001b[0;36m3\u001b[0m\u001b[0;34m,\u001b[0m\u001b[0;36m4\u001b[0m\u001b[0;34m)\u001b[0m\u001b[0;34m\u001b[0m\u001b[0;34m\u001b[0m\u001b[0m\n\u001b[0m\u001b[1;32m      2\u001b[0m \u001b[0ma\u001b[0m\u001b[0;34m\u001b[0m\u001b[0;34m\u001b[0m\u001b[0m\n",
            "\u001b[0;31mAttributeError\u001b[0m: 'float' object has no attribute 'replace'"
          ]
        }
      ]
    },
    {
      "cell_type": "code",
      "source": [
        "b.replace(3,4)\n",
        "b"
      ],
      "metadata": {
        "id": "_-IOpGQ1Uvw9",
        "colab": {
          "base_uri": "https://localhost:8080/",
          "height": 190
        },
        "outputId": "126109fb-8bb3-4ad3-a955-7f97ade43449"
      },
      "execution_count": null,
      "outputs": [
        {
          "output_type": "error",
          "ename": "AttributeError",
          "evalue": "ignored",
          "traceback": [
            "\u001b[0;31m---------------------------------------------------------------------------\u001b[0m",
            "\u001b[0;31mAttributeError\u001b[0m                            Traceback (most recent call last)",
            "\u001b[0;32m<ipython-input-307-cad8f4fa7f61>\u001b[0m in \u001b[0;36m<module>\u001b[0;34m\u001b[0m\n\u001b[0;32m----> 1\u001b[0;31m \u001b[0mb\u001b[0m\u001b[0;34m.\u001b[0m\u001b[0mreplace\u001b[0m\u001b[0;34m(\u001b[0m\u001b[0;36m3\u001b[0m\u001b[0;34m,\u001b[0m\u001b[0;36m4\u001b[0m\u001b[0;34m)\u001b[0m\u001b[0;34m\u001b[0m\u001b[0;34m\u001b[0m\u001b[0m\n\u001b[0m\u001b[1;32m      2\u001b[0m \u001b[0mb\u001b[0m\u001b[0;34m\u001b[0m\u001b[0;34m\u001b[0m\u001b[0m\n",
            "\u001b[0;31mAttributeError\u001b[0m: 'tuple' object has no attribute 'replace'"
          ]
        }
      ]
    },
    {
      "cell_type": "code",
      "source": [
        "a = [1,2,3,4,5]\n",
        "b = [\"1\",\"2\",\"3\"]\n",
        "a+b"
      ],
      "metadata": {
        "colab": {
          "base_uri": "https://localhost:8080/"
        },
        "id": "tIESbKFeUxS6",
        "outputId": "90a8c475-2f24-4edb-8590-a64be96ca891"
      },
      "execution_count": null,
      "outputs": [
        {
          "output_type": "execute_result",
          "data": {
            "text/plain": [
              "[1, 2, 3, 4, 5, '1', '2', '3']"
            ]
          },
          "metadata": {},
          "execution_count": 308
        }
      ]
    },
    {
      "cell_type": "code",
      "source": [
        "a*2"
      ],
      "metadata": {
        "colab": {
          "base_uri": "https://localhost:8080/"
        },
        "id": "6EOHMsf4U0GY",
        "outputId": "dda90039-9d26-47b7-9143-8fab07f4e167"
      },
      "execution_count": null,
      "outputs": [
        {
          "output_type": "execute_result",
          "data": {
            "text/plain": [
              "[1, 2, 3, 4, 5, 1, 2, 3, 4, 5]"
            ]
          },
          "metadata": {},
          "execution_count": 309
        }
      ]
    },
    {
      "cell_type": "code",
      "source": [
        "c=b*2"
      ],
      "metadata": {
        "id": "0CeTr-oSU2VA"
      },
      "execution_count": null,
      "outputs": []
    },
    {
      "cell_type": "code",
      "source": [
        "c[1]=\"3\""
      ],
      "metadata": {
        "id": "6cCN2ZCyU9FJ"
      },
      "execution_count": null,
      "outputs": []
    },
    {
      "cell_type": "code",
      "source": [
        "c"
      ],
      "metadata": {
        "colab": {
          "base_uri": "https://localhost:8080/"
        },
        "id": "CiWMRPoHU-dI",
        "outputId": "4e50619f-2e53-422c-bc3e-35dcdd8ec675"
      },
      "execution_count": null,
      "outputs": [
        {
          "output_type": "execute_result",
          "data": {
            "text/plain": [
              "['1', '3', '3', '1', '2', '3']"
            ]
          },
          "metadata": {},
          "execution_count": 288
        }
      ]
    },
    {
      "cell_type": "code",
      "source": [
        "b = (\"1\",\"2\",\"3\")"
      ],
      "metadata": {
        "id": "hbZAowpsXX3n"
      },
      "execution_count": null,
      "outputs": []
    },
    {
      "cell_type": "code",
      "source": [
        "b[2]"
      ],
      "metadata": {
        "colab": {
          "base_uri": "https://localhost:8080/",
          "height": 35
        },
        "id": "MARwpgXEXjyn",
        "outputId": "5f23f9c8-0f83-48d6-cf9a-ada7afa2baea"
      },
      "execution_count": null,
      "outputs": [
        {
          "output_type": "execute_result",
          "data": {
            "text/plain": [
              "'3'"
            ],
            "application/vnd.google.colaboratory.intrinsic+json": {
              "type": "string"
            }
          },
          "metadata": {},
          "execution_count": 290
        }
      ]
    },
    {
      "cell_type": "code",
      "source": [
        "len(a)"
      ],
      "metadata": {
        "colab": {
          "base_uri": "https://localhost:8080/"
        },
        "id": "hhBKQuVbdzj5",
        "outputId": "cd76ed12-17bb-498e-d685-30dc6adf4292"
      },
      "execution_count": null,
      "outputs": [
        {
          "output_type": "execute_result",
          "data": {
            "text/plain": [
              "5"
            ]
          },
          "metadata": {},
          "execution_count": 310
        }
      ]
    },
    {
      "cell_type": "markdown",
      "source": [
        "#행렬"
      ],
      "metadata": {
        "id": "vccpPslmmY-P"
      }
    },
    {
      "cell_type": "code",
      "source": [
        "import numpy as np"
      ],
      "metadata": {
        "id": "_BGpEoaFjCbw"
      },
      "execution_count": null,
      "outputs": []
    },
    {
      "cell_type": "code",
      "source": [
        "matrix=[[1,2,3,4],[5,6,7,8],[9,10,11,12]]\n",
        "matrix\n",
        "np.array(matrix,int).shape"
      ],
      "metadata": {
        "colab": {
          "base_uri": "https://localhost:8080/"
        },
        "id": "MdBwnvEhjC1R",
        "outputId": "f1771735-fc19-4844-db95-5186648dfbf4"
      },
      "execution_count": null,
      "outputs": [
        {
          "output_type": "execute_result",
          "data": {
            "text/plain": [
              "(3, 4)"
            ]
          },
          "metadata": {},
          "execution_count": 312
        }
      ]
    },
    {
      "cell_type": "code",
      "source": [
        "a=()"
      ],
      "metadata": {
        "id": "mDv3FB0AjEEZ"
      },
      "execution_count": null,
      "outputs": []
    },
    {
      "cell_type": "code",
      "source": [
        "b=(1,2,3)"
      ],
      "metadata": {
        "id": "pukq53ObjF1T"
      },
      "execution_count": null,
      "outputs": []
    },
    {
      "cell_type": "code",
      "source": [
        "c=(\"x\",\"y\",\"z\")"
      ],
      "metadata": {
        "id": "ZWwAm-YTjHRR"
      },
      "execution_count": null,
      "outputs": []
    },
    {
      "cell_type": "code",
      "source": [
        "d=b+c"
      ],
      "metadata": {
        "id": "S5qegUjTjIrU"
      },
      "execution_count": null,
      "outputs": []
    },
    {
      "cell_type": "code",
      "source": [
        "d"
      ],
      "metadata": {
        "colab": {
          "base_uri": "https://localhost:8080/"
        },
        "id": "gon6qPWZjJuI",
        "outputId": "8f9f3283-41ab-4473-dee3-08e3ccb52983"
      },
      "execution_count": null,
      "outputs": [
        {
          "output_type": "execute_result",
          "data": {
            "text/plain": [
              "(1, 2, 3, 'x', 'y', 'z')"
            ]
          },
          "metadata": {},
          "execution_count": 317
        }
      ]
    },
    {
      "cell_type": "code",
      "source": [
        "a,b,c=(1,),(2,3),(4,5)"
      ],
      "metadata": {
        "id": "S0zxo_9ijLGD"
      },
      "execution_count": null,
      "outputs": []
    },
    {
      "cell_type": "code",
      "source": [
        "print(a)"
      ],
      "metadata": {
        "colab": {
          "base_uri": "https://localhost:8080/"
        },
        "id": "bk36MQkJjMb9",
        "outputId": "72dff1d3-dcd4-4464-a8e7-a454b3aad9f0"
      },
      "execution_count": null,
      "outputs": [
        {
          "output_type": "stream",
          "name": "stdout",
          "text": [
            "(1,)\n"
          ]
        }
      ]
    },
    {
      "cell_type": "code",
      "source": [
        "print(b)"
      ],
      "metadata": {
        "colab": {
          "base_uri": "https://localhost:8080/"
        },
        "id": "nKjEehYzjNqE",
        "outputId": "f9db193a-d396-4c14-84a4-2fbe1faa3b3d"
      },
      "execution_count": null,
      "outputs": [
        {
          "output_type": "stream",
          "name": "stdout",
          "text": [
            "(2, 3)\n"
          ]
        }
      ]
    },
    {
      "cell_type": "code",
      "source": [
        "print(c)"
      ],
      "metadata": {
        "colab": {
          "base_uri": "https://localhost:8080/"
        },
        "id": "ef8v27uzjO4s",
        "outputId": "161e5ddd-79ba-478f-e9ab-a46673a926d6"
      },
      "execution_count": null,
      "outputs": [
        {
          "output_type": "stream",
          "name": "stdout",
          "text": [
            "(4, 5)\n"
          ]
        }
      ]
    },
    {
      "cell_type": "code",
      "source": [
        "a=(1,2,3,4)"
      ],
      "metadata": {
        "id": "cES5NfQSjQVD"
      },
      "execution_count": null,
      "outputs": []
    },
    {
      "cell_type": "code",
      "source": [
        "del a[1]"
      ],
      "metadata": {
        "id": "iTFoPb-0jReY"
      },
      "execution_count": null,
      "outputs": []
    },
    {
      "cell_type": "code",
      "source": [
        "a=[11, 10, 9, 8, 7, 6, 5, 4, 3, 2, 1]"
      ],
      "metadata": {
        "id": "MYgT2aBrjTE9"
      },
      "execution_count": null,
      "outputs": []
    },
    {
      "cell_type": "code",
      "source": [
        "a.pop(1)\n",
        "a"
      ],
      "metadata": {
        "colab": {
          "base_uri": "https://localhost:8080/"
        },
        "id": "2A_34ilMjf_S",
        "outputId": "3b13ae33-d7df-403f-ae85-84fd4462ed3c"
      },
      "execution_count": null,
      "outputs": [
        {
          "output_type": "execute_result",
          "data": {
            "text/plain": [
              "[11, 9, 8, 7, 6, 5, 4, 3, 2, 1]"
            ]
          },
          "metadata": {},
          "execution_count": 329
        }
      ]
    },
    {
      "cell_type": "markdown",
      "source": [
        "#Dictionary"
      ],
      "metadata": {
        "id": "Giya5jAvmzDk"
      }
    },
    {
      "cell_type": "code",
      "source": [
        "a={\"달러\":1400,\"엔화\":100}\n",
        "a"
      ],
      "metadata": {
        "colab": {
          "base_uri": "https://localhost:8080/"
        },
        "id": "8owNecXojjLD",
        "outputId": "2cf26b6e-9911-4147-d3f8-1fab390d42ac"
      },
      "execution_count": null,
      "outputs": [
        {
          "output_type": "execute_result",
          "data": {
            "text/plain": [
              "{'달러': 1400, '엔화': 100}"
            ]
          },
          "metadata": {},
          "execution_count": 330
        }
      ]
    },
    {
      "cell_type": "code",
      "source": [
        "a[\"달러\"]"
      ],
      "metadata": {
        "colab": {
          "base_uri": "https://localhost:8080/"
        },
        "id": "-HaMj8JNjmoS",
        "outputId": "38d1d2ba-4314-4452-d494-cdd5c20f0a0c"
      },
      "execution_count": null,
      "outputs": [
        {
          "output_type": "execute_result",
          "data": {
            "text/plain": [
              "1400"
            ]
          },
          "metadata": {},
          "execution_count": 331
        }
      ]
    },
    {
      "cell_type": "code",
      "source": [
        "print(a.get(\"달러\"))"
      ],
      "metadata": {
        "colab": {
          "base_uri": "https://localhost:8080/"
        },
        "id": "_e579CaQjnrF",
        "outputId": "e13711ad-af15-486d-a9b5-1aed098b89be"
      },
      "execution_count": null,
      "outputs": [
        {
          "output_type": "stream",
          "name": "stdout",
          "text": [
            "1400\n"
          ]
        }
      ]
    },
    {
      "cell_type": "code",
      "source": [
        "a.get(\"위안\",\"부근아 진짜 바보냐?\")"
      ],
      "metadata": {
        "colab": {
          "base_uri": "https://localhost:8080/",
          "height": 35
        },
        "id": "ZQ34sm-gjo-O",
        "outputId": "2f4987ab-e747-48d4-b6e6-31aab3c56904"
      },
      "execution_count": null,
      "outputs": [
        {
          "output_type": "execute_result",
          "data": {
            "text/plain": [
              "'부근아 진짜 바보냐?'"
            ],
            "application/vnd.google.colaboratory.intrinsic+json": {
              "type": "string"
            }
          },
          "metadata": {},
          "execution_count": 333
        }
      ]
    },
    {
      "cell_type": "code",
      "source": [
        "a[\"위안\"]=300"
      ],
      "metadata": {
        "id": "qRqQddj_jqZb"
      },
      "execution_count": null,
      "outputs": []
    },
    {
      "cell_type": "code",
      "source": [
        "a"
      ],
      "metadata": {
        "colab": {
          "base_uri": "https://localhost:8080/"
        },
        "id": "S34uKTXTjrdf",
        "outputId": "51ba8c9d-ef1d-4091-d579-f7c9abf52b44"
      },
      "execution_count": null,
      "outputs": [
        {
          "output_type": "execute_result",
          "data": {
            "text/plain": [
              "{'달러': 1400, '엔화': 100, '위안': 300}"
            ]
          },
          "metadata": {},
          "execution_count": 335
        }
      ]
    },
    {
      "cell_type": "code",
      "source": [
        "del a[\"엔화\"]"
      ],
      "metadata": {
        "id": "InaDvdY1jshr"
      },
      "execution_count": null,
      "outputs": []
    },
    {
      "cell_type": "code",
      "source": [
        "a"
      ],
      "metadata": {
        "colab": {
          "base_uri": "https://localhost:8080/"
        },
        "id": "lDt-79ljjveI",
        "outputId": "3360610c-b7bc-4da4-c51d-5f5c2ae5e858"
      },
      "execution_count": null,
      "outputs": [
        {
          "output_type": "execute_result",
          "data": {
            "text/plain": [
              "{'달러': 1400, '위안': 300}"
            ]
          },
          "metadata": {},
          "execution_count": 337
        }
      ]
    },
    {
      "cell_type": "code",
      "source": [
        "a={\"달러\":1400,\"위안\":3000,\"위안\":500}"
      ],
      "metadata": {
        "id": "s1rbDt1VjzVB"
      },
      "execution_count": null,
      "outputs": []
    },
    {
      "cell_type": "code",
      "source": [
        "a"
      ],
      "metadata": {
        "colab": {
          "base_uri": "https://localhost:8080/"
        },
        "id": "LSm4sZ0zjzw7",
        "outputId": "94f80e24-a967-4e20-d97b-6b084c4b0b39"
      },
      "execution_count": null,
      "outputs": [
        {
          "output_type": "execute_result",
          "data": {
            "text/plain": [
              "{'달러': 1400, '위안': 500}"
            ]
          },
          "metadata": {},
          "execution_count": 339
        }
      ]
    },
    {
      "cell_type": "code",
      "source": [
        "a[\"달러\"]=1500"
      ],
      "metadata": {
        "id": "c2MRHcbcj3so"
      },
      "execution_count": null,
      "outputs": []
    },
    {
      "cell_type": "code",
      "source": [
        "a"
      ],
      "metadata": {
        "colab": {
          "base_uri": "https://localhost:8080/"
        },
        "id": "rVvj72kVj5We",
        "outputId": "48a0fc58-7d63-4c64-df7e-050a24a412e7"
      },
      "execution_count": null,
      "outputs": [
        {
          "output_type": "execute_result",
          "data": {
            "text/plain": [
              "{'달러': 1500, '위안': 500}"
            ]
          },
          "metadata": {},
          "execution_count": 341
        }
      ]
    },
    {
      "cell_type": "code",
      "source": [
        "a.keys()"
      ],
      "metadata": {
        "colab": {
          "base_uri": "https://localhost:8080/"
        },
        "id": "SU8TOSrUj7ba",
        "outputId": "d86a85e8-0757-4d2e-dd6d-67451c39eaa5"
      },
      "execution_count": null,
      "outputs": [
        {
          "output_type": "execute_result",
          "data": {
            "text/plain": [
              "dict_keys(['달러', '위안'])"
            ]
          },
          "metadata": {},
          "execution_count": 343
        }
      ]
    },
    {
      "cell_type": "code",
      "source": [
        "a.values()"
      ],
      "metadata": {
        "colab": {
          "base_uri": "https://localhost:8080/"
        },
        "id": "A3fL3xHEj8hq",
        "outputId": "6f83e270-22a0-4a56-8692-a4892a5f74e1"
      },
      "execution_count": null,
      "outputs": [
        {
          "output_type": "execute_result",
          "data": {
            "text/plain": [
              "dict_values([1500, 500])"
            ]
          },
          "metadata": {},
          "execution_count": 344
        }
      ]
    },
    {
      "cell_type": "code",
      "source": [
        "a=\"statistics\"\n",
        "s=set(a)\n",
        "s"
      ],
      "metadata": {
        "colab": {
          "base_uri": "https://localhost:8080/"
        },
        "id": "t6zQ-w8ukAHs",
        "outputId": "8e9131f7-7750-4928-a884-6db69a36329f"
      },
      "execution_count": null,
      "outputs": [
        {
          "output_type": "execute_result",
          "data": {
            "text/plain": [
              "{'a', 'c', 'i', 's', 't'}"
            ]
          },
          "metadata": {},
          "execution_count": 345
        }
      ]
    },
    {
      "cell_type": "code",
      "source": [
        "com=[\"사원\",\"대리\",\"과장\",\"팀장\",\"대리\",\"과장\"]"
      ],
      "metadata": {
        "id": "A1Kj5C5fkBjb"
      },
      "execution_count": null,
      "outputs": []
    },
    {
      "cell_type": "code",
      "source": [
        "s_com =set(com)"
      ],
      "metadata": {
        "id": "rysUVap2kDAN"
      },
      "execution_count": null,
      "outputs": []
    },
    {
      "cell_type": "code",
      "source": [
        "s_com"
      ],
      "metadata": {
        "colab": {
          "base_uri": "https://localhost:8080/"
        },
        "id": "0bmLqHy_kEa-",
        "outputId": "cad08d38-9598-4a2c-e1cf-39534c189ac6"
      },
      "execution_count": null,
      "outputs": [
        {
          "output_type": "execute_result",
          "data": {
            "text/plain": [
              "{'과장', '대리', '사원', '팀장'}"
            ]
          },
          "metadata": {},
          "execution_count": 348
        }
      ]
    },
    {
      "cell_type": "markdown",
      "source": [
        "#집합"
      ],
      "metadata": {
        "id": "WDDmrt6pm_aI"
      }
    },
    {
      "cell_type": "code",
      "source": [
        "a=set([1,2,3])\n",
        "b=set([2,3,4])"
      ],
      "metadata": {
        "id": "NjPAgYGWkFcy"
      },
      "execution_count": null,
      "outputs": []
    },
    {
      "cell_type": "code",
      "source": [
        "a"
      ],
      "metadata": {
        "colab": {
          "base_uri": "https://localhost:8080/"
        },
        "id": "4swYoW4GkGds",
        "outputId": "15ac6a6e-2d43-4c51-9a34-c05f8d0dfdd3"
      },
      "execution_count": null,
      "outputs": [
        {
          "output_type": "execute_result",
          "data": {
            "text/plain": [
              "{1, 2, 3}"
            ]
          },
          "metadata": {},
          "execution_count": 449
        }
      ]
    },
    {
      "cell_type": "code",
      "source": [
        "b"
      ],
      "metadata": {
        "colab": {
          "base_uri": "https://localhost:8080/"
        },
        "id": "LDjSVjIykHWz",
        "outputId": "d184c250-347c-4c55-edf3-fb1f2629ee6b"
      },
      "execution_count": null,
      "outputs": [
        {
          "output_type": "execute_result",
          "data": {
            "text/plain": [
              "{2, 3, 4}"
            ]
          },
          "metadata": {},
          "execution_count": 450
        }
      ]
    },
    {
      "cell_type": "code",
      "source": [
        "#교집합\n",
        "a&b"
      ],
      "metadata": {
        "colab": {
          "base_uri": "https://localhost:8080/"
        },
        "id": "UQzLmVewkHnz",
        "outputId": "49dbd980-73ac-48a9-9010-dc7ee4a5d0e3"
      },
      "execution_count": null,
      "outputs": [
        {
          "output_type": "execute_result",
          "data": {
            "text/plain": [
              "{2, 3}"
            ]
          },
          "metadata": {},
          "execution_count": 451
        }
      ]
    },
    {
      "cell_type": "code",
      "source": [
        "#합집합\n",
        "a|b"
      ],
      "metadata": {
        "colab": {
          "base_uri": "https://localhost:8080/"
        },
        "id": "zM15keUNkKMB",
        "outputId": "8297b5ec-140f-4c08-945e-6f40edc32808"
      },
      "execution_count": null,
      "outputs": [
        {
          "output_type": "execute_result",
          "data": {
            "text/plain": [
              "{1, 2, 3, 4}"
            ]
          },
          "metadata": {},
          "execution_count": 452
        }
      ]
    },
    {
      "cell_type": "code",
      "source": [
        "#차집합\n",
        "a-b"
      ],
      "metadata": {
        "colab": {
          "base_uri": "https://localhost:8080/"
        },
        "id": "be1VUVYFkLCz",
        "outputId": "a2f432b9-21c7-4f75-983d-b38193c1daf1"
      },
      "execution_count": null,
      "outputs": [
        {
          "output_type": "execute_result",
          "data": {
            "text/plain": [
              "{1}"
            ]
          },
          "metadata": {},
          "execution_count": 453
        }
      ]
    },
    {
      "cell_type": "code",
      "source": [
        "#집합 a에 개수 추가\n",
        "a.update([5,6,7])"
      ],
      "metadata": {
        "id": "dLjOT2RmkLmb"
      },
      "execution_count": null,
      "outputs": []
    },
    {
      "cell_type": "code",
      "source": [
        "a"
      ],
      "metadata": {
        "colab": {
          "base_uri": "https://localhost:8080/"
        },
        "id": "B5ffkX8jkOex",
        "outputId": "53487738-e4c4-49e6-dd77-81fc185eaa3d"
      },
      "execution_count": null,
      "outputs": [
        {
          "output_type": "execute_result",
          "data": {
            "text/plain": [
              "{1, 2, 3, 5, 6, 7}"
            ]
          },
          "metadata": {},
          "execution_count": 455
        }
      ]
    },
    {
      "cell_type": "code",
      "source": [
        "#집합 a에서 {3}제외\n",
        "a.remove(3)"
      ],
      "metadata": {
        "id": "6Ci8HiJMkPE3"
      },
      "execution_count": null,
      "outputs": []
    },
    {
      "cell_type": "code",
      "source": [
        "a"
      ],
      "metadata": {
        "colab": {
          "base_uri": "https://localhost:8080/"
        },
        "id": "KsjDMDBhkQ4X",
        "outputId": "3a669c3d-0d54-4362-c78e-70372d6815a3"
      },
      "execution_count": null,
      "outputs": [
        {
          "output_type": "execute_result",
          "data": {
            "text/plain": [
              "{1, 2, 5, 6, 7}"
            ]
          },
          "metadata": {},
          "execution_count": 457
        }
      ]
    },
    {
      "cell_type": "code",
      "source": [
        "#집합 a에서 {5}제외\n",
        "a.remove(5)"
      ],
      "metadata": {
        "id": "W45jlefskRV8"
      },
      "execution_count": null,
      "outputs": []
    },
    {
      "cell_type": "code",
      "source": [
        "#집합 a에서 {7}제외\n",
        "a.remove(7)"
      ],
      "metadata": {
        "id": "bqJXle0IkU-I"
      },
      "execution_count": null,
      "outputs": []
    },
    {
      "cell_type": "code",
      "source": [
        "a"
      ],
      "metadata": {
        "colab": {
          "base_uri": "https://localhost:8080/"
        },
        "id": "SjruYfoQkVmD",
        "outputId": "979d5035-bd58-46b2-d202-2a114ae7c1da"
      },
      "execution_count": null,
      "outputs": [
        {
          "output_type": "execute_result",
          "data": {
            "text/plain": [
              "{1, 2, 6}"
            ]
          },
          "metadata": {},
          "execution_count": 460
        }
      ]
    },
    {
      "cell_type": "markdown",
      "source": [
        "#가격\n"
      ],
      "metadata": {
        "id": "8_zAa1E2nH8U"
      }
    },
    {
      "cell_type": "code",
      "source": [
        "#%.2x : 소수점 아래 2자리 까지\n",
        "#음수도 활용가능\n",
        "#d :intager - 정수\n",
        "#f : float - 실수\n",
        "#s : string - 문자열\n",
        "\n",
        "a=-100.66\n",
        "b=150.88\n",
        "c=200.99"
      ],
      "metadata": {
        "id": "_slIKBVHkV0t"
      },
      "execution_count": null,
      "outputs": []
    },
    {
      "cell_type": "code",
      "source": [
        "print(\"사과 한개의 가격은 %f원 입니다.\"%a)"
      ],
      "metadata": {
        "colab": {
          "base_uri": "https://localhost:8080/"
        },
        "id": "4c-0-qZ3kXYX",
        "outputId": "acc336b3-0090-40db-c8d8-f2d37a10c5e3"
      },
      "execution_count": null,
      "outputs": [
        {
          "output_type": "stream",
          "name": "stdout",
          "text": [
            "사과 한개의 가격은 -100.660000원 입니다.\n"
          ]
        }
      ]
    },
    {
      "cell_type": "code",
      "source": [
        "print(\"사과 두개의 가격은 %f원 입니다.\"%b)"
      ],
      "metadata": {
        "colab": {
          "base_uri": "https://localhost:8080/"
        },
        "id": "Ps9zKWzDkZVE",
        "outputId": "daa7fe16-2fe3-482a-e900-7e5b8275d091"
      },
      "execution_count": null,
      "outputs": [
        {
          "output_type": "stream",
          "name": "stdout",
          "text": [
            "사과 두개의 가격은 150.880000원 입니다.\n"
          ]
        }
      ]
    },
    {
      "cell_type": "code",
      "source": [
        "print(\"사과 세개의 가격은 %d원 입니다.\"%c)"
      ],
      "metadata": {
        "colab": {
          "base_uri": "https://localhost:8080/"
        },
        "id": "4gJpXo3VkbK5",
        "outputId": "a5147f7c-e70e-4d4f-a2e2-0689bd5e7fea"
      },
      "execution_count": null,
      "outputs": [
        {
          "output_type": "stream",
          "name": "stdout",
          "text": [
            "사과 세개의 가격은 200원 입니다.\n"
          ]
        }
      ]
    },
    {
      "cell_type": "code",
      "source": [
        "print(\"사과 한개의 가격은 %d원 입니다.사과 두개의 가격은 %d원 입니다.\"%(a, b))"
      ],
      "metadata": {
        "colab": {
          "base_uri": "https://localhost:8080/"
        },
        "id": "NUFMqEKwkc07",
        "outputId": "e5b6abf3-6638-4ee5-853d-a65c8878785f"
      },
      "execution_count": null,
      "outputs": [
        {
          "output_type": "stream",
          "name": "stdout",
          "text": [
            "사과 한개의 가격은 -100원 입니다.사과 두개의 가격은 150원 입니다.\n"
          ]
        }
      ]
    },
    {
      "cell_type": "code",
      "source": [
        "d=\"차현성\"\n",
        "print(\"%s 고객님 안녕하세요\"%d)"
      ],
      "metadata": {
        "colab": {
          "base_uri": "https://localhost:8080/"
        },
        "id": "liOoWILPkeWO",
        "outputId": "9f9ddc08-4bc1-41a2-8065-a9a28652108c"
      },
      "execution_count": null,
      "outputs": [
        {
          "output_type": "stream",
          "name": "stdout",
          "text": [
            "차현성 고객님 안녕하세요\n"
          ]
        }
      ]
    },
    {
      "cell_type": "code",
      "source": [
        "f=\"송부근\"\n",
        "print(\"%s님아 집중하세요\"%f)\n",
        "print(\"그러다가 %d대 맞아요\"%c)"
      ],
      "metadata": {
        "colab": {
          "base_uri": "https://localhost:8080/"
        },
        "id": "WksnPWYTkfmH",
        "outputId": "f55cd8a6-920c-4c36-a162-acbea818d56d"
      },
      "execution_count": null,
      "outputs": [
        {
          "output_type": "stream",
          "name": "stdout",
          "text": [
            "송부근님아 집중하세요\n",
            "그러다가 200대 맞아요\n"
          ]
        }
      ]
    },
    {
      "cell_type": "markdown",
      "source": [
        "#functions"
      ],
      "metadata": {
        "id": "-Y21EO6TnZJz"
      }
    },
    {
      "cell_type": "code",
      "source": [
        "#True & False\n",
        "1 >2"
      ],
      "metadata": {
        "colab": {
          "base_uri": "https://localhost:8080/"
        },
        "id": "t47ldroQkg2Y",
        "outputId": "99d25146-c44c-42e5-9ea5-7f0a44598d45"
      },
      "execution_count": null,
      "outputs": [
        {
          "output_type": "execute_result",
          "data": {
            "text/plain": [
              "False"
            ]
          },
          "metadata": {},
          "execution_count": 463
        }
      ]
    },
    {
      "cell_type": "code",
      "source": [
        "1<2"
      ],
      "metadata": {
        "colab": {
          "base_uri": "https://localhost:8080/"
        },
        "id": "ERTzxp9Tkii9",
        "outputId": "18753d61-2051-47ca-aca6-5da8ee1ac2e5"
      },
      "execution_count": null,
      "outputs": [
        {
          "output_type": "execute_result",
          "data": {
            "text/plain": [
              "True"
            ]
          },
          "metadata": {},
          "execution_count": 464
        }
      ]
    },
    {
      "cell_type": "code",
      "source": [
        "1<-1"
      ],
      "metadata": {
        "colab": {
          "base_uri": "https://localhost:8080/"
        },
        "id": "n9buwMCUkkF6",
        "outputId": "cf85f66e-637e-4269-e625-fa33599c3877"
      },
      "execution_count": null,
      "outputs": [
        {
          "output_type": "execute_result",
          "data": {
            "text/plain": [
              "False"
            ]
          },
          "metadata": {},
          "execution_count": 465
        }
      ]
    },
    {
      "cell_type": "code",
      "source": [
        "#1은 True\n",
        "#0은 False\n",
        "#1/0은 오류입니다"
      ],
      "metadata": {
        "id": "wWmJUWIquRuD"
      },
      "execution_count": null,
      "outputs": []
    },
    {
      "cell_type": "code",
      "source": [
        "1 and 0"
      ],
      "metadata": {
        "colab": {
          "base_uri": "https://localhost:8080/"
        },
        "id": "I5ZFANTtklOp",
        "outputId": "9dd7b32e-7157-415a-cfbd-e243743a3f25"
      },
      "execution_count": null,
      "outputs": [
        {
          "output_type": "execute_result",
          "data": {
            "text/plain": [
              "0"
            ]
          },
          "metadata": {},
          "execution_count": 466
        }
      ]
    },
    {
      "cell_type": "code",
      "source": [
        "1 or 0"
      ],
      "metadata": {
        "colab": {
          "base_uri": "https://localhost:8080/"
        },
        "id": "qqBL6JwokmsL",
        "outputId": "b4a2d1b4-98fd-4ce2-9445-7593d5c67b3b"
      },
      "execution_count": null,
      "outputs": [
        {
          "output_type": "execute_result",
          "data": {
            "text/plain": [
              "1"
            ]
          },
          "metadata": {},
          "execution_count": 467
        }
      ]
    },
    {
      "cell_type": "code",
      "source": [
        "not 1"
      ],
      "metadata": {
        "colab": {
          "base_uri": "https://localhost:8080/"
        },
        "id": "OkUaNidbkpQY",
        "outputId": "2e27152a-e170-4040-a53b-cd92df219436"
      },
      "execution_count": null,
      "outputs": [
        {
          "output_type": "execute_result",
          "data": {
            "text/plain": [
              "False"
            ]
          },
          "metadata": {},
          "execution_count": 468
        }
      ]
    },
    {
      "cell_type": "code",
      "source": [
        "not 0"
      ],
      "metadata": {
        "colab": {
          "base_uri": "https://localhost:8080/"
        },
        "id": "kaaswWOwkqWK",
        "outputId": "178a0543-92ab-4b3f-d0d2-37863060294b"
      },
      "execution_count": null,
      "outputs": [
        {
          "output_type": "execute_result",
          "data": {
            "text/plain": [
              "True"
            ]
          },
          "metadata": {},
          "execution_count": 469
        }
      ]
    },
    {
      "cell_type": "code",
      "source": [
        "#True\n",
        "#List에 존재하기 때문에 참이다.\n",
        "1 in [0,1,2,3,4]"
      ],
      "metadata": {
        "colab": {
          "base_uri": "https://localhost:8080/"
        },
        "id": "N_kZit04C03q",
        "outputId": "0b1b199f-b412-49fc-e1b1-cbfc80e58c3e"
      },
      "execution_count": 1,
      "outputs": [
        {
          "output_type": "execute_result",
          "data": {
            "text/plain": [
              "True"
            ]
          },
          "metadata": {},
          "execution_count": 1
        }
      ]
    },
    {
      "cell_type": "code",
      "source": [
        "\"a\" in \"abc\""
      ],
      "metadata": {
        "colab": {
          "base_uri": "https://localhost:8080/"
        },
        "id": "1NAzAsy7krOQ",
        "outputId": "19e373b4-51a3-446d-aa8b-089fbb690ac6"
      },
      "execution_count": 3,
      "outputs": [
        {
          "output_type": "execute_result",
          "data": {
            "text/plain": [
              "True"
            ]
          },
          "metadata": {},
          "execution_count": 3
        }
      ]
    },
    {
      "cell_type": "code",
      "source": [
        "#List에 존재하지 않기 때문에 참\n",
        "0 not in [1,2,3,4,5,6]"
      ],
      "metadata": {
        "colab": {
          "base_uri": "https://localhost:8080/"
        },
        "id": "wC-MaS4tDgzn",
        "outputId": "e6ada8cb-9a47-4811-e43d-99d9ddc3924f"
      },
      "execution_count": 4,
      "outputs": [
        {
          "output_type": "execute_result",
          "data": {
            "text/plain": [
              "True"
            ]
          },
          "metadata": {},
          "execution_count": 4
        }
      ]
    },
    {
      "cell_type": "code",
      "source": [
        "#False\n",
        "#List에 존재하지 않기 때문에 거짓이다.\n",
        "6 in [1,2,3,4,5]"
      ],
      "metadata": {
        "colab": {
          "base_uri": "https://localhost:8080/"
        },
        "id": "ia8ccALBDNe5",
        "outputId": "e6626acf-0bea-4684-9053-8657e4d3eaac"
      },
      "execution_count": 2,
      "outputs": [
        {
          "output_type": "execute_result",
          "data": {
            "text/plain": [
              "False"
            ]
          },
          "metadata": {},
          "execution_count": 2
        }
      ]
    },
    {
      "cell_type": "code",
      "source": [
        "\"a\" in \"gf\""
      ],
      "metadata": {
        "colab": {
          "base_uri": "https://localhost:8080/"
        },
        "id": "RALBmW78kvSq",
        "outputId": "d299d509-318a-40d3-f6df-fa5f5992ce29"
      },
      "execution_count": 5,
      "outputs": [
        {
          "output_type": "execute_result",
          "data": {
            "text/plain": [
              "False"
            ]
          },
          "metadata": {},
          "execution_count": 5
        }
      ]
    },
    {
      "cell_type": "code",
      "source": [
        "#List에 존재하기 때문에 거짓\n",
        "1 not in [1,2,3,4,5]"
      ],
      "metadata": {
        "colab": {
          "base_uri": "https://localhost:8080/"
        },
        "id": "N6AnLtSMDv0J",
        "outputId": "447762c0-aa3a-4d9d-d17a-8540c594d8b7"
      },
      "execution_count": 6,
      "outputs": [
        {
          "output_type": "execute_result",
          "data": {
            "text/plain": [
              "False"
            ]
          },
          "metadata": {},
          "execution_count": 6
        }
      ]
    },
    {
      "cell_type": "code",
      "source": [
        "#if 함수\n",
        "#4칸씩 띄우는 것은 위의 조건에 들어가있다는 뜻!\n",
        "score = 60\n",
        "\n",
        "if  score>90:\n",
        "    print(\"A\")\n",
        "else: \n",
        "    if score>80:\n",
        "        print(\"B\")\n",
        "    else:\n",
        "        if score>70:\n",
        "          print(\"C\")\n",
        "        else:\n",
        "            if score>60:\n",
        "                print(\"D\")\n",
        "            else :\n",
        "                print(\"F\")"
      ],
      "metadata": {
        "colab": {
          "base_uri": "https://localhost:8080/"
        },
        "id": "Ap-5Pp4Hk6T2",
        "outputId": "82e1cec7-bdb5-436f-8b9c-84c4bb263704"
      },
      "execution_count": null,
      "outputs": [
        {
          "output_type": "stream",
          "name": "stdout",
          "text": [
            "F\n"
          ]
        }
      ]
    },
    {
      "cell_type": "code",
      "source": [
        "#else: if를 줄여서 -> elif\n",
        "score=75\n",
        "\n",
        "if  score>90:\n",
        "    print(\"A\")\n",
        "elif score>80:\n",
        "    print(\"B\")\n",
        "elif score>70:\n",
        "    print(\"C\")\n",
        "elif score>60:\n",
        "    print(\"D\")\n",
        "else :\n",
        "    print(\"F\")"
      ],
      "metadata": {
        "colab": {
          "base_uri": "https://localhost:8080/"
        },
        "id": "DkDyODIck76g",
        "outputId": "693617d9-e8aa-4806-ab1b-bb2e42d849fb"
      },
      "execution_count": null,
      "outputs": [
        {
          "output_type": "stream",
          "name": "stdout",
          "text": [
            "C\n"
          ]
        }
      ]
    },
    {
      "cell_type": "code",
      "source": [
        "#try함수\n",
        "#\n",
        "try:\n",
        "    1/0\n",
        "except:\n",
        "    print(\"분모가 0이 나왔음\")\n",
        "else:\n",
        "    print(\"분모 이상 없음\")"
      ],
      "metadata": {
        "colab": {
          "base_uri": "https://localhost:8080/"
        },
        "id": "Uasi9xo7lDx3",
        "outputId": "cfe44a5c-227b-457f-8660-4a6f763fd50c"
      },
      "execution_count": null,
      "outputs": [
        {
          "output_type": "stream",
          "name": "stdout",
          "text": [
            "분모가 0이 나왔음\n"
          ]
        }
      ]
    },
    {
      "cell_type": "code",
      "source": [
        "#While함수\n",
        "#\n",
        "\n",
        "i=0\n",
        "while i<10:\n",
        "    i+=1\n",
        "    print(i)"
      ],
      "metadata": {
        "colab": {
          "base_uri": "https://localhost:8080/"
        },
        "id": "9TGNkMxflFcu",
        "outputId": "fcfc0621-df5c-4eb6-a0f0-8ff8071205a9"
      },
      "execution_count": null,
      "outputs": [
        {
          "output_type": "stream",
          "name": "stdout",
          "text": [
            "1\n",
            "2\n",
            "3\n",
            "4\n",
            "5\n",
            "6\n",
            "7\n",
            "8\n",
            "9\n",
            "10\n"
          ]
        }
      ]
    },
    {
      "cell_type": "code",
      "source": [
        "#For함수\n",
        "#\n",
        "for i in range(10):\n",
        "    print(i)"
      ],
      "metadata": {
        "colab": {
          "base_uri": "https://localhost:8080/"
        },
        "id": "VaX0ZNaNlKXb",
        "outputId": "df4336f0-dff2-4f02-ca57-1bf33843aebb"
      },
      "execution_count": null,
      "outputs": [
        {
          "output_type": "stream",
          "name": "stdout",
          "text": [
            "0\n",
            "1\n",
            "2\n",
            "3\n",
            "4\n",
            "5\n",
            "6\n",
            "7\n",
            "8\n",
            "9\n"
          ]
        }
      ]
    },
    {
      "cell_type": "code",
      "source": [
        "j=0\n",
        "for i in range(10):\n",
        "    j+=i\n",
        "    print(j)"
      ],
      "metadata": {
        "colab": {
          "base_uri": "https://localhost:8080/"
        },
        "id": "1CF67Y7LlLz_",
        "outputId": "d745cde6-a2f4-4032-9366-d0ad3cac0f18"
      },
      "execution_count": null,
      "outputs": [
        {
          "output_type": "stream",
          "name": "stdout",
          "text": [
            "0\n",
            "1\n",
            "3\n",
            "6\n",
            "10\n",
            "15\n",
            "21\n",
            "28\n",
            "36\n",
            "45\n"
          ]
        }
      ]
    },
    {
      "cell_type": "code",
      "source": [
        "for i in range(5,10,):\n",
        "    print(i,end=\" \")"
      ],
      "metadata": {
        "colab": {
          "base_uri": "https://localhost:8080/"
        },
        "id": "xdEPvtlRlOET",
        "outputId": "f72d06c5-1470-4404-8df7-d8a18670babd"
      },
      "execution_count": null,
      "outputs": [
        {
          "output_type": "stream",
          "name": "stdout",
          "text": [
            "5 6 7 8 9 "
          ]
        }
      ]
    },
    {
      "cell_type": "code",
      "source": [
        "for i in range(5,10,2):\n",
        "    print(i,end=\" \")"
      ],
      "metadata": {
        "colab": {
          "base_uri": "https://localhost:8080/"
        },
        "id": "MHoHAZD9lQFJ",
        "outputId": "62862eec-3f3a-4f33-df8e-a89ca790ab9c"
      },
      "execution_count": null,
      "outputs": [
        {
          "output_type": "stream",
          "name": "stdout",
          "text": [
            "5 7 9 "
          ]
        }
      ]
    },
    {
      "cell_type": "code",
      "source": [
        "def f(a):\n",
        "    out =a/3\n",
        "    return out"
      ],
      "metadata": {
        "id": "RVZIEUoqlS6g"
      },
      "execution_count": null,
      "outputs": []
    },
    {
      "cell_type": "code",
      "source": [
        "f(30)"
      ],
      "metadata": {
        "colab": {
          "base_uri": "https://localhost:8080/"
        },
        "id": "vutGaeYylUqQ",
        "outputId": "d6f5d25e-ff7a-4e50-a24e-4ba8282bebb6"
      },
      "execution_count": null,
      "outputs": [
        {
          "output_type": "execute_result",
          "data": {
            "text/plain": [
              "10.0"
            ]
          },
          "metadata": {},
          "execution_count": 398
        }
      ]
    },
    {
      "cell_type": "code",
      "source": [
        "def div3(a):\n",
        "    out =a/5\n",
        "    return out"
      ],
      "metadata": {
        "id": "NHvpeS63lWKD"
      },
      "execution_count": null,
      "outputs": []
    },
    {
      "cell_type": "code",
      "source": [
        "div3(60)"
      ],
      "metadata": {
        "colab": {
          "base_uri": "https://localhost:8080/"
        },
        "id": "iZjhAySGlXbg",
        "outputId": "d407031c-5045-48e1-8761-464c6486e6e7"
      },
      "execution_count": null,
      "outputs": [
        {
          "output_type": "execute_result",
          "data": {
            "text/plain": [
              "12.0"
            ]
          },
          "metadata": {},
          "execution_count": 400
        }
      ]
    },
    {
      "cell_type": "code",
      "source": [],
      "metadata": {
        "id": "V0FlY5oKlYxo"
      },
      "execution_count": null,
      "outputs": []
    }
  ]
}