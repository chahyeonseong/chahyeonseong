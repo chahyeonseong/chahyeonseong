{
  "nbformat": 4,
  "nbformat_minor": 0,
  "metadata": {
    "colab": {
      "provenance": [],
      "authorship_tag": "ABX9TyOZVzkelLz6lvjvjSkjny0v",
      "include_colab_link": true
    },
    "kernelspec": {
      "name": "python3",
      "display_name": "Python 3"
    },
    "language_info": {
      "name": "python"
    }
  },
  "cells": [
    {
      "cell_type": "markdown",
      "metadata": {
        "id": "view-in-github",
        "colab_type": "text"
      },
      "source": [
        "<a href=\"https://colab.research.google.com/github/chahyeonseong/chahyeonseong/blob/main/%EC%B0%A8%ED%98%84%EC%84%B1.ipynb\" target=\"_parent\"><img src=\"https://colab.research.google.com/assets/colab-badge.svg\" alt=\"Open In Colab\"/></a>"
      ]
    },
    {
      "cell_type": "markdown",
      "source": [
        "#빅데이터 마케팅\n",
        "#차현성\n",
        "#2022-2023"
      ],
      "metadata": {
        "id": "wuTefVXgm2YJ"
      }
    },
    {
      "cell_type": "markdown",
      "source": [
        "#시작"
      ],
      "metadata": {
        "id": "ti5d8jOvldH2"
      }
    },
    {
      "cell_type": "code",
      "source": [
        "print(\"Hollo World!\")"
      ],
      "metadata": {
        "colab": {
          "base_uri": "https://localhost:8080/"
        },
        "id": "VXWYrdg_nE9R",
        "outputId": "62e5ea70-1b90-49b3-b68a-4ddd6aa38ba9"
      },
      "execution_count": 27,
      "outputs": [
        {
          "output_type": "stream",
          "name": "stdout",
          "text": [
            "Hollo World!\n"
          ]
        }
      ]
    },
    {
      "cell_type": "code",
      "source": [
        "#문자열에는 \"\"\n",
        "a=\"python\"\n",
        "a"
      ],
      "metadata": {
        "colab": {
          "base_uri": "https://localhost:8080/",
          "height": 35
        },
        "id": "H5ZUs8HJnNng",
        "outputId": "b67e5746-cc82-44bb-ae40-f930cc4839e0"
      },
      "execution_count": 28,
      "outputs": [
        {
          "output_type": "execute_result",
          "data": {
            "text/plain": [
              "'python'"
            ],
            "application/vnd.google.colaboratory.intrinsic+json": {
              "type": "string"
            }
          },
          "metadata": {},
          "execution_count": 28
        }
      ]
    },
    {
      "cell_type": "code",
      "source": [
        "#변수 지우기\n",
        "del (a)"
      ],
      "metadata": {
        "id": "VWiKx0s2nSUI"
      },
      "execution_count": 29,
      "outputs": []
    },
    {
      "cell_type": "code",
      "source": [
        "#값 설정\n",
        "a=2\n",
        "b=3"
      ],
      "metadata": {
        "id": "EOKrg6_Pncua"
      },
      "execution_count": 30,
      "outputs": []
    },
    {
      "cell_type": "code",
      "source": [
        "#값 도출\n",
        "print (a)"
      ],
      "metadata": {
        "colab": {
          "base_uri": "https://localhost:8080/"
        },
        "id": "i-SsPkZjnqBC",
        "outputId": "03a88ee7-dda9-4348-ac8a-f667ae81b3d0"
      },
      "execution_count": 31,
      "outputs": [
        {
          "output_type": "stream",
          "name": "stdout",
          "text": [
            "2\n"
          ]
        }
      ]
    },
    {
      "cell_type": "markdown",
      "source": [
        "#연산"
      ],
      "metadata": {
        "id": "h1fZBXJTln74"
      }
    },
    {
      "cell_type": "code",
      "source": [
        "a+b"
      ],
      "metadata": {
        "colab": {
          "base_uri": "https://localhost:8080/"
        },
        "id": "pJvqnogVqnfh",
        "outputId": "aaa9449d-f961-409d-db5d-803fa5d7b0a1"
      },
      "execution_count": 33,
      "outputs": [
        {
          "output_type": "execute_result",
          "data": {
            "text/plain": [
              "5"
            ]
          },
          "metadata": {},
          "execution_count": 33
        }
      ]
    },
    {
      "cell_type": "code",
      "source": [
        "a-b"
      ],
      "metadata": {
        "colab": {
          "base_uri": "https://localhost:8080/"
        },
        "id": "QJx4qIHxqq9N",
        "outputId": "0bf68028-637c-4869-8a4a-a22f77e9bd65"
      },
      "execution_count": 34,
      "outputs": [
        {
          "output_type": "execute_result",
          "data": {
            "text/plain": [
              "-1"
            ]
          },
          "metadata": {},
          "execution_count": 34
        }
      ]
    },
    {
      "cell_type": "code",
      "source": [
        "a*b"
      ],
      "metadata": {
        "colab": {
          "base_uri": "https://localhost:8080/"
        },
        "id": "IpvOHhRNqtko",
        "outputId": "9f332b6b-de34-4ff1-ccde-03b4b32b8a18"
      },
      "execution_count": 35,
      "outputs": [
        {
          "output_type": "execute_result",
          "data": {
            "text/plain": [
              "6"
            ]
          },
          "metadata": {},
          "execution_count": 35
        }
      ]
    },
    {
      "cell_type": "code",
      "source": [
        "a/b"
      ],
      "metadata": {
        "colab": {
          "base_uri": "https://localhost:8080/"
        },
        "id": "TlgDyrfqqvVU",
        "outputId": "cc767d05-fd25-4e43-eac2-03595dbad244"
      },
      "execution_count": 36,
      "outputs": [
        {
          "output_type": "execute_result",
          "data": {
            "text/plain": [
              "0.6666666666666666"
            ]
          },
          "metadata": {},
          "execution_count": 36
        }
      ]
    },
    {
      "cell_type": "code",
      "source": [
        "#제곱\n",
        "a**a"
      ],
      "metadata": {
        "colab": {
          "base_uri": "https://localhost:8080/"
        },
        "id": "skEx4Uoeqxux",
        "outputId": "e9bf21eb-847d-441f-f968-7b589b8fb791"
      },
      "execution_count": 37,
      "outputs": [
        {
          "output_type": "execute_result",
          "data": {
            "text/plain": [
              "4"
            ]
          },
          "metadata": {},
          "execution_count": 37
        }
      ]
    },
    {
      "cell_type": "code",
      "source": [
        "#루트값\n",
        "2**0.5"
      ],
      "metadata": {
        "colab": {
          "base_uri": "https://localhost:8080/"
        },
        "id": "NsLHe3gYt_oA",
        "outputId": "0826acf0-f859-47d5-ccfb-f13a7f50f323"
      },
      "execution_count": 38,
      "outputs": [
        {
          "output_type": "execute_result",
          "data": {
            "text/plain": [
              "1.4142135623730951"
            ]
          },
          "metadata": {},
          "execution_count": 38
        }
      ]
    },
    {
      "cell_type": "code",
      "source": [
        "#몫만 도출\n",
        "12//5"
      ],
      "metadata": {
        "colab": {
          "base_uri": "https://localhost:8080/"
        },
        "id": "0n5-HLX7q2eF",
        "outputId": "18056cb3-7c43-4456-a0da-6b86537f46d5"
      },
      "execution_count": 39,
      "outputs": [
        {
          "output_type": "execute_result",
          "data": {
            "text/plain": [
              "2"
            ]
          },
          "metadata": {},
          "execution_count": 39
        }
      ]
    },
    {
      "cell_type": "code",
      "source": [
        "#반올림\n",
        "55//6"
      ],
      "metadata": {
        "colab": {
          "base_uri": "https://localhost:8080/"
        },
        "id": "deDrmiSRrFhe",
        "outputId": "03fcdb33-f8f8-4bc8-ba2e-780981f45bd7"
      },
      "execution_count": 40,
      "outputs": [
        {
          "output_type": "execute_result",
          "data": {
            "text/plain": [
              "9"
            ]
          },
          "metadata": {},
          "execution_count": 40
        }
      ]
    },
    {
      "cell_type": "markdown",
      "source": [
        "#Type"
      ],
      "metadata": {
        "id": "8S6FduhVl0-u"
      }
    },
    {
      "cell_type": "code",
      "source": [
        "#Type\n",
        "a=1\n",
        "b=2.3\n",
        "c=-4"
      ],
      "metadata": {
        "id": "eCpXiLlDrh4u"
      },
      "execution_count": 44,
      "outputs": []
    },
    {
      "cell_type": "code",
      "source": [
        "#정수\n",
        "type(a)"
      ],
      "metadata": {
        "colab": {
          "base_uri": "https://localhost:8080/"
        },
        "id": "x4k3ed1AtP9e",
        "outputId": "2036d06c-8303-40c7-9f42-7926bfca0228"
      },
      "execution_count": 45,
      "outputs": [
        {
          "output_type": "execute_result",
          "data": {
            "text/plain": [
              "int"
            ]
          },
          "metadata": {},
          "execution_count": 45
        }
      ]
    },
    {
      "cell_type": "code",
      "source": [
        "#실수\n",
        "type(b)"
      ],
      "metadata": {
        "colab": {
          "base_uri": "https://localhost:8080/"
        },
        "id": "r3sS4fd5tVOD",
        "outputId": "ad5380ac-cdbe-4dc8-e237-888faac52269"
      },
      "execution_count": 46,
      "outputs": [
        {
          "output_type": "execute_result",
          "data": {
            "text/plain": [
              "float"
            ]
          },
          "metadata": {},
          "execution_count": 46
        }
      ]
    },
    {
      "cell_type": "code",
      "source": [
        "#방정식\n",
        "d=a=b"
      ],
      "metadata": {
        "id": "8vCbUuAxtY-D"
      },
      "execution_count": 47,
      "outputs": []
    },
    {
      "cell_type": "code",
      "source": [
        "type(int(d))"
      ],
      "metadata": {
        "colab": {
          "base_uri": "https://localhost:8080/"
        },
        "id": "-ow-GbrwteA_",
        "outputId": "92ddfb40-491b-4b39-d024-8cf627eb824b"
      },
      "execution_count": 48,
      "outputs": [
        {
          "output_type": "execute_result",
          "data": {
            "text/plain": [
              "int"
            ]
          },
          "metadata": {},
          "execution_count": 48
        }
      ]
    },
    {
      "cell_type": "markdown",
      "source": [
        "#문자열"
      ],
      "metadata": {
        "id": "OBhHFOJll99J"
      }
    },
    {
      "cell_type": "code",
      "source": [
        "#문자열\n",
        "type(F)"
      ],
      "metadata": {
        "colab": {
          "base_uri": "https://localhost:8080/"
        },
        "id": "gZ0NX9KCt4r6",
        "outputId": "684ee351-13af-4152-c515-c85103bdfa37"
      },
      "execution_count": 57,
      "outputs": [
        {
          "output_type": "execute_result",
          "data": {
            "text/plain": [
              "str"
            ]
          },
          "metadata": {},
          "execution_count": 57
        }
      ]
    },
    {
      "cell_type": "code",
      "source": [
        "#문장\n",
        "print(\"Ubion is the best\")"
      ],
      "metadata": {
        "colab": {
          "base_uri": "https://localhost:8080/"
        },
        "id": "RhNe_ml2t8Jm",
        "outputId": "f3c15e4d-719d-45d1-9a92-247deea447d5"
      },
      "execution_count": 58,
      "outputs": [
        {
          "output_type": "stream",
          "name": "stdout",
          "text": [
            "Ubion is the best\n"
          ]
        }
      ]
    },
    {
      "cell_type": "code",
      "source": [
        "print(\"Ubion isn't the best\")"
      ],
      "metadata": {
        "colab": {
          "base_uri": "https://localhost:8080/"
        },
        "id": "Iv4A1VOVuuPt",
        "outputId": "cd658464-7463-4a3c-92cb-ee97ee273c4c"
      },
      "execution_count": 59,
      "outputs": [
        {
          "output_type": "stream",
          "name": "stdout",
          "text": [
            "Ubion isn't the best\n"
          ]
        }
      ]
    },
    {
      "cell_type": "code",
      "source": [
        "#문장 ''를 쓸 때 문장에 에러가 뜰 수 있어서,어퍼스트로피 앞에 \\를 붙여준다.\n",
        "print('ubion isn\\'t the best.')"
      ],
      "metadata": {
        "colab": {
          "base_uri": "https://localhost:8080/"
        },
        "id": "-az6ueIfuxB3",
        "outputId": "7dc72e1f-7424-43ae-99a2-425f929e5ff8"
      },
      "execution_count": 60,
      "outputs": [
        {
          "output_type": "stream",
          "name": "stdout",
          "text": [
            "ubion isn't the best.\n"
          ]
        }
      ]
    },
    {
      "cell_type": "code",
      "source": [
        "#문장 줄바꿈 [\\n]\n",
        "print(\"ubion is the best. \\nubion isn't the best.\")"
      ],
      "metadata": {
        "colab": {
          "base_uri": "https://localhost:8080/"
        },
        "id": "gJACsAMCvSpA",
        "outputId": "b82ede86-35c0-4b41-b16d-653fba913597"
      },
      "execution_count": 61,
      "outputs": [
        {
          "output_type": "stream",
          "name": "stdout",
          "text": [
            "ubion is the best. \n",
            "ubion isn't the best.\n"
          ]
        }
      ]
    },
    {
      "cell_type": "code",
      "source": [
        "#문장활용\n",
        "a=\"ubion is the best.\""
      ],
      "metadata": {
        "id": "kQEYjOjPvdM1"
      },
      "execution_count": 62,
      "outputs": []
    },
    {
      "cell_type": "code",
      "source": [
        "b=\"Ubion isn't the best\""
      ],
      "metadata": {
        "id": "Ru_MpIdUvp3P"
      },
      "execution_count": 63,
      "outputs": []
    },
    {
      "cell_type": "code",
      "source": [
        "c=a+b"
      ],
      "metadata": {
        "id": "lU9XnXHFvsC2"
      },
      "execution_count": 64,
      "outputs": []
    },
    {
      "cell_type": "code",
      "source": [
        "#위에서 만든 방정식으로 두가지문장을 붙일 수 있음\n",
        "print(c)"
      ],
      "metadata": {
        "colab": {
          "base_uri": "https://localhost:8080/"
        },
        "id": "RKauc6lsv160",
        "outputId": "3b319b1a-3eb8-4ba7-c6da-282502f126f8"
      },
      "execution_count": 88,
      "outputs": [
        {
          "output_type": "stream",
          "name": "stdout",
          "text": [
            "ubion is the best.Ubion isn't the best\n"
          ]
        }
      ]
    },
    {
      "cell_type": "code",
      "source": [
        "#a가 정수x만큼 반복 됨.\n",
        "a*25"
      ],
      "metadata": {
        "colab": {
          "base_uri": "https://localhost:8080/",
          "height": 126
        },
        "id": "vE58qEl4v4ve",
        "outputId": "0a0d68ad-c439-4775-ed7f-0e5d7ad1780e"
      },
      "execution_count": 66,
      "outputs": [
        {
          "output_type": "execute_result",
          "data": {
            "text/plain": [
              "'ubion is the best.ubion is the best.ubion is the best.ubion is the best.ubion is the best.ubion is the best.ubion is the best.ubion is the best.ubion is the best.ubion is the best.ubion is the best.ubion is the best.ubion is the best.ubion is the best.ubion is the best.ubion is the best.ubion is the best.ubion is the best.ubion is the best.ubion is the best.ubion is the best.ubion is the best.ubion is the best.ubion is the best.ubion is the best.'"
            ],
            "application/vnd.google.colaboratory.intrinsic+json": {
              "type": "string"
            }
          },
          "metadata": {},
          "execution_count": 66
        }
      ]
    },
    {
      "cell_type": "code",
      "source": [
        "#문장 꾸미기.\n",
        "#위의 코드 응용\n",
        "print(\"-\"*40)\n",
        "print(a*2)\n",
        "print(\"-\"*40)"
      ],
      "metadata": {
        "colab": {
          "base_uri": "https://localhost:8080/"
        },
        "id": "0CgdQkQqv8ck",
        "outputId": "b06a876c-f735-4e1b-be16-4f796e1f5f04"
      },
      "execution_count": 89,
      "outputs": [
        {
          "output_type": "stream",
          "name": "stdout",
          "text": [
            "----------------------------------------\n",
            "  \n",
            "----------------------------------------\n"
          ]
        }
      ]
    },
    {
      "cell_type": "code",
      "source": [
        "#파이썬은 0이 기준,R은 1이 기준\n",
        "# [a:b] : a<= x <b \n",
        "# a보다 크거나 같고, b보다 작은 인덱스를 꺼내온다\n",
        "\"유비온은 최고의 교육기관이다.\"[0:3]"
      ],
      "metadata": {
        "colab": {
          "base_uri": "https://localhost:8080/",
          "height": 35
        },
        "id": "vE8iI8JMwHPi",
        "outputId": "5d331a1d-2f61-4165-c0e6-21184aa78e05"
      },
      "execution_count": 68,
      "outputs": [
        {
          "output_type": "execute_result",
          "data": {
            "text/plain": [
              "'유비온'"
            ],
            "application/vnd.google.colaboratory.intrinsic+json": {
              "type": "string"
            }
          },
          "metadata": {},
          "execution_count": 68
        }
      ]
    },
    {
      "cell_type": "code",
      "source": [
        "#[:]에서 0은 생략 가능, 음수도 가능\n",
        "first_name = \"HyeonseongCha\"[:10]\n",
        "print(first_name)"
      ],
      "metadata": {
        "colab": {
          "base_uri": "https://localhost:8080/"
        },
        "id": "FG2gAiRVwo2z",
        "outputId": "defa693b-0c34-4f31-b28b-b1801d6ec8a5"
      },
      "execution_count": 69,
      "outputs": [
        {
          "output_type": "stream",
          "name": "stdout",
          "text": [
            "Hyeonseong\n"
          ]
        }
      ]
    },
    {
      "cell_type": "code",
      "source": [
        "last_name= \"HyeonseongCha\"[10:]\n",
        "print(last_name)"
      ],
      "metadata": {
        "colab": {
          "base_uri": "https://localhost:8080/"
        },
        "id": "Kf9TbK3Ex84b",
        "outputId": "59165d42-7eb7-4e9c-bb90-f63b74fafd68"
      },
      "execution_count": 70,
      "outputs": [
        {
          "output_type": "stream",
          "name": "stdout",
          "text": [
            "Cha\n"
          ]
        }
      ]
    },
    {
      "cell_type": "code",
      "source": [
        "last_name= \"HyeonseongCha\"[-3:]\n",
        "print(last_name)"
      ],
      "metadata": {
        "colab": {
          "base_uri": "https://localhost:8080/"
        },
        "id": "54hL5hxvyAVa",
        "outputId": "92e4ce94-741f-40a1-9f89-7342f97370fe"
      },
      "execution_count": 71,
      "outputs": [
        {
          "output_type": "stream",
          "name": "stdout",
          "text": [
            "Cha\n"
          ]
        }
      ]
    },
    {
      "cell_type": "code",
      "source": [
        "#단어 길이\n",
        "name=\"hyeonseongcha\"\n",
        "len(name)"
      ],
      "metadata": {
        "colab": {
          "base_uri": "https://localhost:8080/"
        },
        "id": "A_rEsXcnyuTL",
        "outputId": "c1027235-d6a5-454c-a593-5738876e1085"
      },
      "execution_count": 72,
      "outputs": [
        {
          "output_type": "execute_result",
          "data": {
            "text/plain": [
              "13"
            ]
          },
          "metadata": {},
          "execution_count": 72
        }
      ]
    },
    {
      "cell_type": "code",
      "source": [
        "#단어에서 알파벳 위치 찾기\n",
        "#중복시 첫번째 것의 위치값만 도출됨.\n",
        "#찾는문자가 없는 경우 -1이 도출됨.\n",
        "#find는 문자열에만 사용 가능 -> 그 외 에러\n",
        "name.find(\"s\")"
      ],
      "metadata": {
        "colab": {
          "base_uri": "https://localhost:8080/"
        },
        "id": "qHRtKpzZy6eC",
        "outputId": "fedb84cd-38ca-406b-9e28-c9fa1ebe3175"
      },
      "execution_count": 94,
      "outputs": [
        {
          "output_type": "execute_result",
          "data": {
            "text/plain": [
              "6"
            ]
          },
          "metadata": {},
          "execution_count": 94
        }
      ]
    },
    {
      "cell_type": "code",
      "source": [
        "#index는 찾는문자가 없는 경우 value error 발생한다.\n",
        "#index는 문자열 리스트 튜플 자료에 사용 가능\n",
        "name.index(\"c\")"
      ],
      "metadata": {
        "colab": {
          "base_uri": "https://localhost:8080/"
        },
        "id": "onBzzxzKcL5i",
        "outputId": "831ad2f6-98d9-4a65-d099-27136034298a"
      },
      "execution_count": 95,
      "outputs": [
        {
          "output_type": "execute_result",
          "data": {
            "text/plain": [
              "12"
            ]
          },
          "metadata": {},
          "execution_count": 95
        }
      ]
    },
    {
      "cell_type": "code",
      "source": [
        "#단어에서 알파벳 개수 찾기\n",
        "name.count(\"o\")"
      ],
      "metadata": {
        "colab": {
          "base_uri": "https://localhost:8080/"
        },
        "id": "86B9fnGhzL2i",
        "outputId": "4fe39c73-3b6a-4654-f461-3eb8a3c4f986"
      },
      "execution_count": 74,
      "outputs": [
        {
          "output_type": "execute_result",
          "data": {
            "text/plain": [
              "2"
            ]
          },
          "metadata": {},
          "execution_count": 74
        }
      ]
    },
    {
      "cell_type": "code",
      "source": [
        "#음절별 띄어쓰기\n",
        "a=\" \"\n",
        "a.join(\"HyeonseongCha\")"
      ],
      "metadata": {
        "id": "YzqZ7_awFO3S",
        "colab": {
          "base_uri": "https://localhost:8080/",
          "height": 35
        },
        "outputId": "1de83fe3-11da-4a04-fdc4-7bdc4f9c109c"
      },
      "execution_count": 75,
      "outputs": [
        {
          "output_type": "execute_result",
          "data": {
            "text/plain": [
              "'H y e o n s e o n g C h a'"
            ],
            "application/vnd.google.colaboratory.intrinsic+json": {
              "type": "string"
            }
          },
          "metadata": {},
          "execution_count": 75
        }
      ]
    },
    {
      "cell_type": "code",
      "source": [
        "#단어 전체 대문자\n",
        "name.upper()"
      ],
      "metadata": {
        "id": "jMOP822BFXs4",
        "colab": {
          "base_uri": "https://localhost:8080/",
          "height": 35
        },
        "outputId": "663bb8ed-33d6-45da-9bf0-a558ce13a563"
      },
      "execution_count": 76,
      "outputs": [
        {
          "output_type": "execute_result",
          "data": {
            "text/plain": [
              "'HYEONSEONGCHA'"
            ],
            "application/vnd.google.colaboratory.intrinsic+json": {
              "type": "string"
            }
          },
          "metadata": {},
          "execution_count": 76
        }
      ]
    },
    {
      "cell_type": "code",
      "source": [
        "#단어 전체 소문자\n",
        "name.lower()"
      ],
      "metadata": {
        "id": "YPmc8ImeERWj",
        "colab": {
          "base_uri": "https://localhost:8080/",
          "height": 35
        },
        "outputId": "6a1a1739-5d79-444e-9b0d-12251fbdb59c"
      },
      "execution_count": 77,
      "outputs": [
        {
          "output_type": "execute_result",
          "data": {
            "text/plain": [
              "'hyeonseongcha'"
            ],
            "application/vnd.google.colaboratory.intrinsic+json": {
              "type": "string"
            }
          },
          "metadata": {},
          "execution_count": 77
        }
      ]
    },
    {
      "cell_type": "code",
      "source": [
        "name"
      ],
      "metadata": {
        "colab": {
          "base_uri": "https://localhost:8080/",
          "height": 35
        },
        "id": "-Nkp56KQVJBs",
        "outputId": "8bbf043d-22a3-4c47-d68e-619463e823b4"
      },
      "execution_count": 78,
      "outputs": [
        {
          "output_type": "execute_result",
          "data": {
            "text/plain": [
              "'hyeonseongcha'"
            ],
            "application/vnd.google.colaboratory.intrinsic+json": {
              "type": "string"
            }
          },
          "metadata": {},
          "execution_count": 78
        }
      ]
    },
    {
      "cell_type": "code",
      "source": [
        "name=\" hyeonseong cha \""
      ],
      "metadata": {
        "id": "tViffsfALp1k"
      },
      "execution_count": 79,
      "outputs": []
    },
    {
      "cell_type": "code",
      "source": [
        "#단어 side에 띄어쓰기 없애기\n",
        "name.strip(a)"
      ],
      "metadata": {
        "colab": {
          "base_uri": "https://localhost:8080/",
          "height": 35
        },
        "id": "LKhxSRjMJjne",
        "outputId": "3a18a4c8-a189-4d0b-8d54-f60d0951fba1"
      },
      "execution_count": 80,
      "outputs": [
        {
          "output_type": "execute_result",
          "data": {
            "text/plain": [
              "'hyeonseong cha'"
            ],
            "application/vnd.google.colaboratory.intrinsic+json": {
              "type": "string"
            }
          },
          "metadata": {},
          "execution_count": 80
        }
      ]
    },
    {
      "cell_type": "code",
      "source": [
        "#strip앞에 r또는l 삽입하여 위치설정 가능\n",
        "name.rstrip(a)"
      ],
      "metadata": {
        "colab": {
          "base_uri": "https://localhost:8080/",
          "height": 35
        },
        "id": "e1zrRGeUJ5Pp",
        "outputId": "70493dda-9810-49aa-c002-83437265596e"
      },
      "execution_count": 81,
      "outputs": [
        {
          "output_type": "execute_result",
          "data": {
            "text/plain": [
              "' hyeonseong cha'"
            ],
            "application/vnd.google.colaboratory.intrinsic+json": {
              "type": "string"
            }
          },
          "metadata": {},
          "execution_count": 81
        }
      ]
    },
    {
      "cell_type": "code",
      "source": [
        "#문장에서 특정 단어 바꾸기\n",
        "#(\"x\",\"y\") x를 y로!\n",
        "name.replace(\"cha\",\"song\")"
      ],
      "metadata": {
        "colab": {
          "base_uri": "https://localhost:8080/",
          "height": 35
        },
        "id": "6Kq-on0bMMP6",
        "outputId": "33deed94-17e3-471a-c8ea-2cc5b35a221d"
      },
      "execution_count": 82,
      "outputs": [
        {
          "output_type": "execute_result",
          "data": {
            "text/plain": [
              "' hyeonseong song '"
            ],
            "application/vnd.google.colaboratory.intrinsic+json": {
              "type": "string"
            }
          },
          "metadata": {},
          "execution_count": 82
        }
      ]
    },
    {
      "cell_type": "code",
      "source": [
        "#띄어쓰기를 기준으로 나누기\n",
        "name.split()"
      ],
      "metadata": {
        "colab": {
          "base_uri": "https://localhost:8080/"
        },
        "id": "OdvNDiblMepv",
        "outputId": "ccd7b7d0-7618-44b0-f639-e4b3c0536ef8"
      },
      "execution_count": 83,
      "outputs": [
        {
          "output_type": "execute_result",
          "data": {
            "text/plain": [
              "['hyeonseong', 'cha']"
            ]
          },
          "metadata": {},
          "execution_count": 83
        }
      ]
    },
    {
      "cell_type": "code",
      "source": [
        "#문장 삽입\n",
        "article1=\"저는 바로 그달 말에 이사할 예정이었습니다. 두말할 것도 없이 새 집의 첫째 조건은 ‘지상에 있을 것’이었어요. 그런데 이 집이 빠지기는 할까, 과연 나 말고 누가 이런 곳에 살고 싶어 할까 전전긍긍했습니다. 누군가 이사를 와야 제가 그 집을 나갈 수 있었으니까요. 새 계약자는 예상보다 훨씬 빠르게 나타나 주었습니다. 그런 집이나마 누군가는 여전히 필요로 하더군요. 제가 그랬듯이요\""
      ],
      "metadata": {
        "id": "ilPohnHONG-I"
      },
      "execution_count": 84,
      "outputs": []
    },
    {
      "cell_type": "code",
      "source": [
        "#문장을 음절로 나누기 /영어에서는 단어별\n",
        "article1.split()"
      ],
      "metadata": {
        "colab": {
          "base_uri": "https://localhost:8080/"
        },
        "id": "Ho8-8vvoUMFd",
        "outputId": "364b5b5d-c729-438a-9ba6-59d29426fa3e"
      },
      "execution_count": 85,
      "outputs": [
        {
          "output_type": "execute_result",
          "data": {
            "text/plain": [
              "['저는',\n",
              " '바로',\n",
              " '그달',\n",
              " '말에',\n",
              " '이사할',\n",
              " '예정이었습니다.',\n",
              " '두말할',\n",
              " '것도',\n",
              " '없이',\n",
              " '새',\n",
              " '집의',\n",
              " '첫째',\n",
              " '조건은',\n",
              " '‘지상에',\n",
              " '있을',\n",
              " '것’이었어요.',\n",
              " '그런데',\n",
              " '이',\n",
              " '집이',\n",
              " '빠지기는',\n",
              " '할까,',\n",
              " '과연',\n",
              " '나',\n",
              " '말고',\n",
              " '누가',\n",
              " '이런',\n",
              " '곳에',\n",
              " '살고',\n",
              " '싶어',\n",
              " '할까',\n",
              " '전전긍긍했습니다.',\n",
              " '누군가',\n",
              " '이사를',\n",
              " '와야',\n",
              " '제가',\n",
              " '그',\n",
              " '집을',\n",
              " '나갈',\n",
              " '수',\n",
              " '있었으니까요.',\n",
              " '새',\n",
              " '계약자는',\n",
              " '예상보다',\n",
              " '훨씬',\n",
              " '빠르게',\n",
              " '나타나',\n",
              " '주었습니다.',\n",
              " '그런',\n",
              " '집이나마',\n",
              " '누군가는',\n",
              " '여전히',\n",
              " '필요로',\n",
              " '하더군요.',\n",
              " '제가',\n",
              " '그랬듯이요']"
            ]
          },
          "metadata": {},
          "execution_count": 85
        }
      ]
    },
    {
      "cell_type": "code",
      "source": [
        "#문단을 .을 기준으로 나누기 // 문장으로 나누기\n",
        "article1.split(\".\")"
      ],
      "metadata": {
        "colab": {
          "base_uri": "https://localhost:8080/"
        },
        "id": "t7EbyWeUiO-J",
        "outputId": "1f7bf9a4-c785-4195-bc56-a5d9237f4892"
      },
      "execution_count": 86,
      "outputs": [
        {
          "output_type": "execute_result",
          "data": {
            "text/plain": [
              "['저는 바로 그달 말에 이사할 예정이었습니다',\n",
              " ' 두말할 것도 없이 새 집의 첫째 조건은 ‘지상에 있을 것’이었어요',\n",
              " ' 그런데 이 집이 빠지기는 할까, 과연 나 말고 누가 이런 곳에 살고 싶어 할까 전전긍긍했습니다',\n",
              " ' 누군가 이사를 와야 제가 그 집을 나갈 수 있었으니까요',\n",
              " ' 새 계약자는 예상보다 훨씬 빠르게 나타나 주었습니다',\n",
              " ' 그런 집이나마 누군가는 여전히 필요로 하더군요',\n",
              " ' 제가 그랬듯이요']"
            ]
          },
          "metadata": {},
          "execution_count": 86
        }
      ]
    },
    {
      "cell_type": "code",
      "source": [
        "F=\"chacha\""
      ],
      "metadata": {
        "id": "mwPrMXoMtwbo"
      },
      "execution_count": 87,
      "outputs": []
    },
    {
      "cell_type": "markdown",
      "source": [
        "#List & Tuple"
      ],
      "metadata": {
        "id": "Y9W6EGLRmFhx"
      }
    },
    {
      "cell_type": "code",
      "source": [
        "#값을 []에 넣으면 a의 type은 List\n",
        "a=[1,2,3,4,5]\n",
        "a"
      ],
      "metadata": {
        "colab": {
          "base_uri": "https://localhost:8080/"
        },
        "id": "RmcgcpgFUjPI",
        "outputId": "2f3a7c40-d9aa-4fec-8322-bbbc1f93d68e"
      },
      "execution_count": 97,
      "outputs": [
        {
          "output_type": "execute_result",
          "data": {
            "text/plain": [
              "[1, 2, 3, 4, 5]"
            ]
          },
          "metadata": {},
          "execution_count": 97
        }
      ]
    },
    {
      "cell_type": "code",
      "source": [
        "type(a)"
      ],
      "metadata": {
        "colab": {
          "base_uri": "https://localhost:8080/"
        },
        "id": "I6AH83qDUm9T",
        "outputId": "0b3a2df6-d480-4f23-8a87-ebaf9c4948a9"
      },
      "execution_count": 98,
      "outputs": [
        {
          "output_type": "execute_result",
          "data": {
            "text/plain": [
              "list"
            ]
          },
          "metadata": {},
          "execution_count": 98
        }
      ]
    },
    {
      "cell_type": "code",
      "source": [
        "#값을 ()에 넣으면 a의 type은 tuple\n",
        "#tuple은 이후에 내재된 수(또는 str)들을 바꿀 수 없음.\n",
        "b=(1,2,3,4,5)\n",
        "b"
      ],
      "metadata": {
        "colab": {
          "base_uri": "https://localhost:8080/"
        },
        "id": "pssN5xNjUpoS",
        "outputId": "9230a514-0c87-45f2-ffbb-d2196aa660fb"
      },
      "execution_count": 52,
      "outputs": [
        {
          "output_type": "execute_result",
          "data": {
            "text/plain": [
              "(1, 2, 3, 4, 5)"
            ]
          },
          "metadata": {},
          "execution_count": 52
        }
      ]
    },
    {
      "cell_type": "code",
      "source": [
        "type(b)"
      ],
      "metadata": {
        "colab": {
          "base_uri": "https://localhost:8080/"
        },
        "id": "Jhagb1RtUsCE",
        "outputId": "a094a0fa-7932-45a1-96e9-a971f9a8f74e"
      },
      "execution_count": 53,
      "outputs": [
        {
          "output_type": "execute_result",
          "data": {
            "text/plain": [
              "tuple"
            ]
          },
          "metadata": {},
          "execution_count": 53
        }
      ]
    },
    {
      "cell_type": "code",
      "source": [
        "a[3] = 4\n",
        "a"
      ],
      "metadata": {
        "colab": {
          "base_uri": "https://localhost:8080/"
        },
        "id": "vckam1SlUtRk",
        "outputId": "3055f011-635c-4b3a-b8b6-dbdeabcf09c3"
      },
      "execution_count": 54,
      "outputs": [
        {
          "output_type": "execute_result",
          "data": {
            "text/plain": [
              "[1, 2, 3, 4, 5]"
            ]
          },
          "metadata": {},
          "execution_count": 54
        }
      ]
    },
    {
      "cell_type": "code",
      "source": [
        "a.replace(3,4)\n",
        "a"
      ],
      "metadata": {
        "colab": {
          "base_uri": "https://localhost:8080/",
          "height": 190
        },
        "id": "V93_egnFmR33",
        "outputId": "1f121629-cf90-4e0f-a2f7-38f67bee3c32"
      },
      "execution_count": 55,
      "outputs": [
        {
          "output_type": "error",
          "ename": "AttributeError",
          "evalue": "ignored",
          "traceback": [
            "\u001b[0;31m---------------------------------------------------------------------------\u001b[0m",
            "\u001b[0;31mAttributeError\u001b[0m                            Traceback (most recent call last)",
            "\u001b[0;32m<ipython-input-55-c64051c435cf>\u001b[0m in \u001b[0;36m<module>\u001b[0;34m\u001b[0m\n\u001b[0;32m----> 1\u001b[0;31m \u001b[0ma\u001b[0m\u001b[0;34m.\u001b[0m\u001b[0mreplace\u001b[0m\u001b[0;34m(\u001b[0m\u001b[0;36m3\u001b[0m\u001b[0;34m,\u001b[0m\u001b[0;36m4\u001b[0m\u001b[0;34m)\u001b[0m\u001b[0;34m\u001b[0m\u001b[0;34m\u001b[0m\u001b[0m\n\u001b[0m\u001b[1;32m      2\u001b[0m \u001b[0ma\u001b[0m\u001b[0;34m\u001b[0m\u001b[0;34m\u001b[0m\u001b[0m\n",
            "\u001b[0;31mAttributeError\u001b[0m: 'list' object has no attribute 'replace'"
          ]
        }
      ]
    },
    {
      "cell_type": "code",
      "source": [
        "b.replace(3,4)\n",
        "b"
      ],
      "metadata": {
        "id": "_-IOpGQ1Uvw9"
      },
      "execution_count": null,
      "outputs": []
    },
    {
      "cell_type": "code",
      "source": [
        "a = [1,2,3,4,5]\n",
        "b = [\"1\",\"2\",\"3\"]\n",
        "a+b"
      ],
      "metadata": {
        "colab": {
          "base_uri": "https://localhost:8080/"
        },
        "id": "tIESbKFeUxS6",
        "outputId": "ecd09f8d-aa00-41d7-b278-f2dc6e627afc"
      },
      "execution_count": 130,
      "outputs": [
        {
          "output_type": "execute_result",
          "data": {
            "text/plain": [
              "[1, 2, 3, 4, 5, '1', '2', '3']"
            ]
          },
          "metadata": {},
          "execution_count": 130
        }
      ]
    },
    {
      "cell_type": "code",
      "source": [
        "a*2"
      ],
      "metadata": {
        "colab": {
          "base_uri": "https://localhost:8080/"
        },
        "id": "6EOHMsf4U0GY",
        "outputId": "a65af061-0cc5-45c3-d6c6-067b9debd406"
      },
      "execution_count": 131,
      "outputs": [
        {
          "output_type": "execute_result",
          "data": {
            "text/plain": [
              "[1, 2, 3, 4, 5, 1, 2, 3, 4, 5]"
            ]
          },
          "metadata": {},
          "execution_count": 131
        }
      ]
    },
    {
      "cell_type": "code",
      "source": [
        "c=b*2"
      ],
      "metadata": {
        "id": "0CeTr-oSU2VA"
      },
      "execution_count": 132,
      "outputs": []
    },
    {
      "cell_type": "code",
      "source": [
        "c"
      ],
      "metadata": {
        "colab": {
          "base_uri": "https://localhost:8080/"
        },
        "id": "oKVw0rRLfgHN",
        "outputId": "e90552bd-d385-497d-8f6d-6421ed5bd97e"
      },
      "execution_count": 133,
      "outputs": [
        {
          "output_type": "execute_result",
          "data": {
            "text/plain": [
              "['1', '2', '3', '1', '2', '3']"
            ]
          },
          "metadata": {},
          "execution_count": 133
        }
      ]
    },
    {
      "cell_type": "code",
      "source": [
        "#c의 n(n+1) 값을 x로 바꾸고 싶을 때,\n",
        "c[1]=\"3\""
      ],
      "metadata": {
        "id": "6cCN2ZCyU9FJ"
      },
      "execution_count": 136,
      "outputs": []
    },
    {
      "cell_type": "code",
      "source": [
        "c"
      ],
      "metadata": {
        "colab": {
          "base_uri": "https://localhost:8080/"
        },
        "id": "CiWMRPoHU-dI",
        "outputId": "cf0b8d14-49b9-4bdb-9a36-870c7c9a1c82"
      },
      "execution_count": 137,
      "outputs": [
        {
          "output_type": "execute_result",
          "data": {
            "text/plain": [
              "['1', '3', '3', '1', '2', '3']"
            ]
          },
          "metadata": {},
          "execution_count": 137
        }
      ]
    },
    {
      "cell_type": "code",
      "source": [
        "b = (\"1\",\"2\",\"3\")"
      ],
      "metadata": {
        "id": "hbZAowpsXX3n"
      },
      "execution_count": 138,
      "outputs": []
    },
    {
      "cell_type": "code",
      "source": [
        "b[2]"
      ],
      "metadata": {
        "colab": {
          "base_uri": "https://localhost:8080/",
          "height": 35
        },
        "id": "MARwpgXEXjyn",
        "outputId": "4f9a3fdb-95f3-434f-8dae-daf92e4830e3"
      },
      "execution_count": 139,
      "outputs": [
        {
          "output_type": "execute_result",
          "data": {
            "text/plain": [
              "'3'"
            ],
            "application/vnd.google.colaboratory.intrinsic+json": {
              "type": "string"
            }
          },
          "metadata": {},
          "execution_count": 139
        }
      ]
    },
    {
      "cell_type": "code",
      "source": [
        "len(a)"
      ],
      "metadata": {
        "colab": {
          "base_uri": "https://localhost:8080/"
        },
        "id": "hhBKQuVbdzj5",
        "outputId": "dc2e8051-a017-4c46-8639-80b6e11f7226"
      },
      "execution_count": 111,
      "outputs": [
        {
          "output_type": "execute_result",
          "data": {
            "text/plain": [
              "5"
            ]
          },
          "metadata": {},
          "execution_count": 111
        }
      ]
    },
    {
      "cell_type": "markdown",
      "source": [
        "#행렬"
      ],
      "metadata": {
        "id": "vccpPslmmY-P"
      }
    },
    {
      "cell_type": "code",
      "source": [
        "#np라는 이름의 표를 넣을 때,\n",
        "import numpy as np"
      ],
      "metadata": {
        "id": "_BGpEoaFjCbw"
      },
      "execution_count": 143,
      "outputs": []
    },
    {
      "cell_type": "code",
      "source": [
        "#행렬값을 넣어주고, 행렬의 배열 모양을 물어본다.\n",
        "matrix=[[1,2,3,4],[5,6,7,8],[9,10,11,12]]\n",
        "matrix\n",
        "np.array(matrix,int).shape"
      ],
      "metadata": {
        "colab": {
          "base_uri": "https://localhost:8080/"
        },
        "id": "MdBwnvEhjC1R",
        "outputId": "fd355671-9f00-4914-9007-f8409cb8f461"
      },
      "execution_count": 145,
      "outputs": [
        {
          "output_type": "execute_result",
          "data": {
            "text/plain": [
              "(3, 4)"
            ]
          },
          "metadata": {},
          "execution_count": 145
        }
      ]
    },
    {
      "cell_type": "code",
      "source": [
        "a=()"
      ],
      "metadata": {
        "id": "mDv3FB0AjEEZ"
      },
      "execution_count": 146,
      "outputs": []
    },
    {
      "cell_type": "code",
      "source": [
        "b=(1,2,3)"
      ],
      "metadata": {
        "id": "pukq53ObjF1T"
      },
      "execution_count": 147,
      "outputs": []
    },
    {
      "cell_type": "code",
      "source": [
        "c=(\"x\",\"y\",\"z\")"
      ],
      "metadata": {
        "id": "ZWwAm-YTjHRR"
      },
      "execution_count": 148,
      "outputs": []
    },
    {
      "cell_type": "code",
      "source": [
        "d=b+c"
      ],
      "metadata": {
        "id": "S5qegUjTjIrU"
      },
      "execution_count": 149,
      "outputs": []
    },
    {
      "cell_type": "code",
      "source": [
        "d"
      ],
      "metadata": {
        "colab": {
          "base_uri": "https://localhost:8080/"
        },
        "id": "gon6qPWZjJuI",
        "outputId": "a97ab6e9-265e-4103-c3da-5aedd51ed802"
      },
      "execution_count": 150,
      "outputs": [
        {
          "output_type": "execute_result",
          "data": {
            "text/plain": [
              "(1, 2, 3, 'x', 'y', 'z')"
            ]
          },
          "metadata": {},
          "execution_count": 150
        }
      ]
    },
    {
      "cell_type": "code",
      "source": [
        "a,b,c=(1,),(2,3),(4,5)"
      ],
      "metadata": {
        "id": "S0zxo_9ijLGD"
      },
      "execution_count": 151,
      "outputs": []
    },
    {
      "cell_type": "code",
      "source": [
        "print(a)"
      ],
      "metadata": {
        "colab": {
          "base_uri": "https://localhost:8080/"
        },
        "id": "bk36MQkJjMb9",
        "outputId": "a21f302d-ebba-495d-eaca-7e3aadac5b19"
      },
      "execution_count": 152,
      "outputs": [
        {
          "output_type": "stream",
          "name": "stdout",
          "text": [
            "(1,)\n"
          ]
        }
      ]
    },
    {
      "cell_type": "code",
      "source": [
        "print(b)"
      ],
      "metadata": {
        "colab": {
          "base_uri": "https://localhost:8080/"
        },
        "id": "nKjEehYzjNqE",
        "outputId": "f4fb5664-d54f-46ee-8239-077011f40ee7"
      },
      "execution_count": 153,
      "outputs": [
        {
          "output_type": "stream",
          "name": "stdout",
          "text": [
            "(2, 3)\n"
          ]
        }
      ]
    },
    {
      "cell_type": "code",
      "source": [
        "print(c)"
      ],
      "metadata": {
        "colab": {
          "base_uri": "https://localhost:8080/"
        },
        "id": "ef8v27uzjO4s",
        "outputId": "a299d208-88a0-4e55-8a2f-5e7a17762828"
      },
      "execution_count": 154,
      "outputs": [
        {
          "output_type": "stream",
          "name": "stdout",
          "text": [
            "(4, 5)\n"
          ]
        }
      ]
    },
    {
      "cell_type": "code",
      "source": [
        "a=(1,2,3,4)"
      ],
      "metadata": {
        "id": "cES5NfQSjQVD"
      },
      "execution_count": 155,
      "outputs": []
    },
    {
      "cell_type": "code",
      "source": [
        "a=[11, 10, 9, 8, 7, 6, 5, 4, 3, 2, 1]"
      ],
      "metadata": {
        "id": "MYgT2aBrjTE9"
      },
      "execution_count": 159,
      "outputs": []
    },
    {
      "cell_type": "code",
      "source": [
        "#pop은 (x+1)의 값을 제거해줌.\n",
        "a.pop(1)\n",
        "a"
      ],
      "metadata": {
        "colab": {
          "base_uri": "https://localhost:8080/"
        },
        "id": "2A_34ilMjf_S",
        "outputId": "af60977c-a513-4b18-ff62-2f6649f48820"
      },
      "execution_count": 160,
      "outputs": [
        {
          "output_type": "execute_result",
          "data": {
            "text/plain": [
              "[11, 9, 8, 7, 6, 5, 4, 3, 2, 1]"
            ]
          },
          "metadata": {},
          "execution_count": 160
        }
      ]
    },
    {
      "cell_type": "markdown",
      "source": [
        "#Dictionary"
      ],
      "metadata": {
        "id": "Giya5jAvmzDk"
      }
    },
    {
      "cell_type": "code",
      "source": [
        "#Key:values\n",
        "a={\"달러\":1400,\"엔화\":100}\n",
        "a"
      ],
      "metadata": {
        "colab": {
          "base_uri": "https://localhost:8080/"
        },
        "id": "8owNecXojjLD",
        "outputId": "9003b7a4-51a0-4905-fcba-d7cec6c41502"
      },
      "execution_count": 246,
      "outputs": [
        {
          "output_type": "execute_result",
          "data": {
            "text/plain": [
              "{'달러': 1400, '엔화': 100}"
            ]
          },
          "metadata": {},
          "execution_count": 246
        }
      ]
    },
    {
      "cell_type": "code",
      "source": [
        "#a라는 집합에 있는 원소(key)를 삽입하여 그에 응하는 value값을 도출해 냄\n",
        "a[\"달러\"]"
      ],
      "metadata": {
        "colab": {
          "base_uri": "https://localhost:8080/"
        },
        "id": "-HaMj8JNjmoS",
        "outputId": "afa25778-5bd0-40f5-97e4-708487a5c882"
      },
      "execution_count": 247,
      "outputs": [
        {
          "output_type": "execute_result",
          "data": {
            "text/plain": [
              "1400"
            ]
          },
          "metadata": {},
          "execution_count": 247
        }
      ]
    },
    {
      "cell_type": "code",
      "source": [
        "#\"달러\"라는 Key가 a에 있으면 value값을 구해달라는 뜻\n",
        "print(a.get(\"달러\"))"
      ],
      "metadata": {
        "colab": {
          "base_uri": "https://localhost:8080/"
        },
        "id": "_e579CaQjnrF",
        "outputId": "2ff1cfd5-8ee7-4939-ffc7-57691454629d"
      },
      "execution_count": 248,
      "outputs": [
        {
          "output_type": "stream",
          "name": "stdout",
          "text": [
            "1400\n"
          ]
        }
      ]
    },
    {
      "cell_type": "code",
      "source": [
        "#집합 a의 원소 중 \"달려\"는 존재하지 않기 때문에\n",
        "print(a.get(\"달려\"))"
      ],
      "metadata": {
        "colab": {
          "base_uri": "https://localhost:8080/"
        },
        "id": "AZOdMWBDlzly",
        "outputId": "9cdb01d9-4638-4122-f69a-f38473ec9539"
      },
      "execution_count": 249,
      "outputs": [
        {
          "output_type": "stream",
          "name": "stdout",
          "text": [
            "None\n"
          ]
        }
      ]
    },
    {
      "cell_type": "code",
      "source": [
        "#집합a에 \"위안\"이라는 Key가 있으면, \"부근아 진짜 바보냐?\"말해달라는 요청 \n",
        "a.get(\"위안\",\"부근아 진짜 바보냐?\")"
      ],
      "metadata": {
        "colab": {
          "base_uri": "https://localhost:8080/",
          "height": 35
        },
        "id": "ZQ34sm-gjo-O",
        "outputId": "a114c481-42cd-487d-d1b3-ba7fd7d5adec"
      },
      "execution_count": 250,
      "outputs": [
        {
          "output_type": "execute_result",
          "data": {
            "text/plain": [
              "'부근아 진짜 바보냐?'"
            ],
            "application/vnd.google.colaboratory.intrinsic+json": {
              "type": "string"
            }
          },
          "metadata": {},
          "execution_count": 250
        }
      ]
    },
    {
      "cell_type": "code",
      "source": [
        "#a에 \"위안\":300을 새로 추가하는 과정\n",
        "a[\"위안\"]=300"
      ],
      "metadata": {
        "id": "qRqQddj_jqZb"
      },
      "execution_count": 251,
      "outputs": []
    },
    {
      "cell_type": "code",
      "source": [
        "#반영됨\n",
        "a"
      ],
      "metadata": {
        "colab": {
          "base_uri": "https://localhost:8080/"
        },
        "id": "S34uKTXTjrdf",
        "outputId": "f66c14f2-5ad8-4c4c-9728-342bbe127ab1"
      },
      "execution_count": 252,
      "outputs": [
        {
          "output_type": "execute_result",
          "data": {
            "text/plain": [
              "{'달러': 1400, '엔화': 100, '위안': 300}"
            ]
          },
          "metadata": {},
          "execution_count": 252
        }
      ]
    },
    {
      "cell_type": "code",
      "source": [
        "#원소 중 \"엔화\"를 제외해달라는 요청\n",
        "del a[\"엔화\"]"
      ],
      "metadata": {
        "id": "InaDvdY1jshr"
      },
      "execution_count": 253,
      "outputs": []
    },
    {
      "cell_type": "code",
      "source": [
        "a"
      ],
      "metadata": {
        "colab": {
          "base_uri": "https://localhost:8080/"
        },
        "id": "lDt-79ljjveI",
        "outputId": "8528a727-7c3b-4e31-f657-9e299ecccb44"
      },
      "execution_count": 254,
      "outputs": [
        {
          "output_type": "execute_result",
          "data": {
            "text/plain": [
              "{'달러': 1400, '위안': 300}"
            ]
          },
          "metadata": {},
          "execution_count": 254
        }
      ]
    },
    {
      "cell_type": "code",
      "source": [
        "a={\"달러\":1400,\"위안\":3000,\"위안\":500}"
      ],
      "metadata": {
        "id": "s1rbDt1VjzVB"
      },
      "execution_count": 255,
      "outputs": []
    },
    {
      "cell_type": "code",
      "source": [
        "#중복되는 Key가 발생하면 최근 값\n",
        "a"
      ],
      "metadata": {
        "colab": {
          "base_uri": "https://localhost:8080/"
        },
        "id": "LSm4sZ0zjzw7",
        "outputId": "4c2fb5ba-57cd-4618-fdfd-3e7907c10705"
      },
      "execution_count": 256,
      "outputs": [
        {
          "output_type": "execute_result",
          "data": {
            "text/plain": [
              "{'달러': 1400, '위안': 500}"
            ]
          },
          "metadata": {},
          "execution_count": 256
        }
      ]
    },
    {
      "cell_type": "code",
      "source": [
        "a[\"달러\"]=1500"
      ],
      "metadata": {
        "id": "c2MRHcbcj3so"
      },
      "execution_count": 257,
      "outputs": []
    },
    {
      "cell_type": "code",
      "source": [
        "a"
      ],
      "metadata": {
        "colab": {
          "base_uri": "https://localhost:8080/"
        },
        "id": "rVvj72kVj5We",
        "outputId": "9b44b6c6-957f-4ce7-d951-65454148b11d"
      },
      "execution_count": 258,
      "outputs": [
        {
          "output_type": "execute_result",
          "data": {
            "text/plain": [
              "{'달러': 1500, '위안': 500}"
            ]
          },
          "metadata": {},
          "execution_count": 258
        }
      ]
    },
    {
      "cell_type": "code",
      "source": [
        "a.keys()"
      ],
      "metadata": {
        "colab": {
          "base_uri": "https://localhost:8080/"
        },
        "id": "SU8TOSrUj7ba",
        "outputId": "721c1c8c-7ccb-480e-cc8c-641e3e8f198a"
      },
      "execution_count": 259,
      "outputs": [
        {
          "output_type": "execute_result",
          "data": {
            "text/plain": [
              "dict_keys(['달러', '위안'])"
            ]
          },
          "metadata": {},
          "execution_count": 259
        }
      ]
    },
    {
      "cell_type": "code",
      "source": [
        "a.values()"
      ],
      "metadata": {
        "colab": {
          "base_uri": "https://localhost:8080/"
        },
        "id": "A3fL3xHEj8hq",
        "outputId": "20e7c767-a6ae-4f16-f6f0-25191bc6fa28"
      },
      "execution_count": 260,
      "outputs": [
        {
          "output_type": "execute_result",
          "data": {
            "text/plain": [
              "dict_values([1500, 500])"
            ]
          },
          "metadata": {},
          "execution_count": 260
        }
      ]
    },
    {
      "cell_type": "code",
      "source": [
        "#문자열에서 같은 알파벳을 묶어서 집합의 형태로 도충\n",
        "a=\"statistics\"\n",
        "s=set(a)\n",
        "s"
      ],
      "metadata": {
        "colab": {
          "base_uri": "https://localhost:8080/"
        },
        "id": "t6zQ-w8ukAHs",
        "outputId": "80b17ae2-ad8e-4a3a-804d-5e1dbc230fc8"
      },
      "execution_count": 262,
      "outputs": [
        {
          "output_type": "execute_result",
          "data": {
            "text/plain": [
              "{'a', 'c', 'i', 's', 't'}"
            ]
          },
          "metadata": {},
          "execution_count": 262
        }
      ]
    },
    {
      "cell_type": "code",
      "source": [
        "#회사로 예\n",
        "com=[\"사원\",\"대리\",\"과장\",\"팀장\",\"대리\",\"과장\"]"
      ],
      "metadata": {
        "id": "A1Kj5C5fkBjb"
      },
      "execution_count": 264,
      "outputs": []
    },
    {
      "cell_type": "code",
      "source": [
        "#s_com = com의 변수들을 set의 형태로 바꿔줘\n",
        "#중복 값은 지워진다.\n",
        "s_com =set(com)"
      ],
      "metadata": {
        "id": "rysUVap2kDAN"
      },
      "execution_count": 269,
      "outputs": []
    },
    {
      "cell_type": "code",
      "source": [
        "s_com"
      ],
      "metadata": {
        "colab": {
          "base_uri": "https://localhost:8080/"
        },
        "id": "0bmLqHy_kEa-",
        "outputId": "8ed08ab4-acea-4ed3-dc6e-47daf3aa3b55"
      },
      "execution_count": 270,
      "outputs": [
        {
          "output_type": "execute_result",
          "data": {
            "text/plain": [
              "{'과장', '대리', '사원', '팀장'}"
            ]
          },
          "metadata": {},
          "execution_count": 270
        }
      ]
    },
    {
      "cell_type": "markdown",
      "source": [
        "#집합"
      ],
      "metadata": {
        "id": "WDDmrt6pm_aI"
      }
    },
    {
      "cell_type": "code",
      "source": [
        "a=set([1,2,3])\n",
        "b=set([2,3,4])"
      ],
      "metadata": {
        "id": "NjPAgYGWkFcy"
      },
      "execution_count": 271,
      "outputs": []
    },
    {
      "cell_type": "code",
      "source": [
        "a"
      ],
      "metadata": {
        "colab": {
          "base_uri": "https://localhost:8080/"
        },
        "id": "4swYoW4GkGds",
        "outputId": "da1aba1c-428f-4f70-f821-3f5cd455d42f"
      },
      "execution_count": 272,
      "outputs": [
        {
          "output_type": "execute_result",
          "data": {
            "text/plain": [
              "{1, 2, 3}"
            ]
          },
          "metadata": {},
          "execution_count": 272
        }
      ]
    },
    {
      "cell_type": "code",
      "source": [
        "b"
      ],
      "metadata": {
        "colab": {
          "base_uri": "https://localhost:8080/"
        },
        "id": "LDjSVjIykHWz",
        "outputId": "9d931caa-55b9-4bd9-959d-b185319eb331"
      },
      "execution_count": 273,
      "outputs": [
        {
          "output_type": "execute_result",
          "data": {
            "text/plain": [
              "{2, 3, 4}"
            ]
          },
          "metadata": {},
          "execution_count": 273
        }
      ]
    },
    {
      "cell_type": "code",
      "source": [
        "#교집합\n",
        "a&b"
      ],
      "metadata": {
        "colab": {
          "base_uri": "https://localhost:8080/"
        },
        "id": "UQzLmVewkHnz",
        "outputId": "0fa1a9be-08a1-4d8c-d208-b02ee3fa1c9b"
      },
      "execution_count": 274,
      "outputs": [
        {
          "output_type": "execute_result",
          "data": {
            "text/plain": [
              "{2, 3}"
            ]
          },
          "metadata": {},
          "execution_count": 274
        }
      ]
    },
    {
      "cell_type": "code",
      "source": [
        "#합집합\n",
        "a|b"
      ],
      "metadata": {
        "colab": {
          "base_uri": "https://localhost:8080/"
        },
        "id": "zM15keUNkKMB",
        "outputId": "936c04c5-7e4c-4e7f-878c-4c3f106ab817"
      },
      "execution_count": 275,
      "outputs": [
        {
          "output_type": "execute_result",
          "data": {
            "text/plain": [
              "{1, 2, 3, 4}"
            ]
          },
          "metadata": {},
          "execution_count": 275
        }
      ]
    },
    {
      "cell_type": "code",
      "source": [
        "#차집합\n",
        "a-b"
      ],
      "metadata": {
        "colab": {
          "base_uri": "https://localhost:8080/"
        },
        "id": "be1VUVYFkLCz",
        "outputId": "acd5e38e-4b84-49e8-b4bf-ff742844d215"
      },
      "execution_count": 276,
      "outputs": [
        {
          "output_type": "execute_result",
          "data": {
            "text/plain": [
              "{1}"
            ]
          },
          "metadata": {},
          "execution_count": 276
        }
      ]
    },
    {
      "cell_type": "code",
      "source": [
        "#집합 a에 개수 추가\n",
        "a.update([5,6,7])"
      ],
      "metadata": {
        "id": "dLjOT2RmkLmb"
      },
      "execution_count": 277,
      "outputs": []
    },
    {
      "cell_type": "code",
      "source": [
        "a"
      ],
      "metadata": {
        "colab": {
          "base_uri": "https://localhost:8080/"
        },
        "id": "B5ffkX8jkOex",
        "outputId": "d7de953c-905a-4dbf-b539-1bd37ff6878d"
      },
      "execution_count": 278,
      "outputs": [
        {
          "output_type": "execute_result",
          "data": {
            "text/plain": [
              "{1, 2, 3, 5, 6, 7}"
            ]
          },
          "metadata": {},
          "execution_count": 278
        }
      ]
    },
    {
      "cell_type": "code",
      "source": [
        "#집합 a에서 {3}제외\n",
        "a.remove(3)"
      ],
      "metadata": {
        "id": "6Ci8HiJMkPE3"
      },
      "execution_count": 279,
      "outputs": []
    },
    {
      "cell_type": "code",
      "source": [
        "a"
      ],
      "metadata": {
        "colab": {
          "base_uri": "https://localhost:8080/"
        },
        "id": "KsjDMDBhkQ4X",
        "outputId": "431a80e3-ece8-4ea7-9d25-131bb23bff3d"
      },
      "execution_count": 280,
      "outputs": [
        {
          "output_type": "execute_result",
          "data": {
            "text/plain": [
              "{1, 2, 5, 6, 7}"
            ]
          },
          "metadata": {},
          "execution_count": 280
        }
      ]
    },
    {
      "cell_type": "code",
      "source": [
        "#집합 a에서 {5}제외\n",
        "a.remove(5)"
      ],
      "metadata": {
        "id": "W45jlefskRV8"
      },
      "execution_count": 281,
      "outputs": []
    },
    {
      "cell_type": "code",
      "source": [
        "#집합 a에서 {7}제외\n",
        "a.remove(7)"
      ],
      "metadata": {
        "id": "bqJXle0IkU-I"
      },
      "execution_count": 282,
      "outputs": []
    },
    {
      "cell_type": "code",
      "source": [
        "a"
      ],
      "metadata": {
        "colab": {
          "base_uri": "https://localhost:8080/"
        },
        "id": "SjruYfoQkVmD",
        "outputId": "26b890f9-67cf-4d9c-bf70-3301e63694f0"
      },
      "execution_count": 283,
      "outputs": [
        {
          "output_type": "execute_result",
          "data": {
            "text/plain": [
              "{1, 2, 6}"
            ]
          },
          "metadata": {},
          "execution_count": 283
        }
      ]
    },
    {
      "cell_type": "markdown",
      "source": [
        "#가격\n"
      ],
      "metadata": {
        "id": "8_zAa1E2nH8U"
      }
    },
    {
      "cell_type": "code",
      "source": [
        "#%.2x : 소수점 아래 2자리 까지\n",
        "#음수도 활용가능\n",
        "#%d :intager - 정수\n",
        "#%f : float - 실수\n",
        "#%s : string - 문자열\n",
        "\n",
        "a=-100.66\n",
        "b=150.88\n",
        "c=200.99"
      ],
      "metadata": {
        "id": "_slIKBVHkV0t"
      },
      "execution_count": 291,
      "outputs": []
    },
    {
      "cell_type": "code",
      "source": [
        "print(\"사과 한개의 가격은 %f원 입니다.\"%a)"
      ],
      "metadata": {
        "colab": {
          "base_uri": "https://localhost:8080/"
        },
        "id": "4c-0-qZ3kXYX",
        "outputId": "c6e08a33-257d-4eca-f68d-1138f6cfe98b"
      },
      "execution_count": 292,
      "outputs": [
        {
          "output_type": "stream",
          "name": "stdout",
          "text": [
            "사과 한개의 가격은 -100.660000원 입니다.\n"
          ]
        }
      ]
    },
    {
      "cell_type": "code",
      "source": [
        "print(\"사과 두개의 가격은 %f원 입니다.\"%b)"
      ],
      "metadata": {
        "colab": {
          "base_uri": "https://localhost:8080/"
        },
        "id": "Ps9zKWzDkZVE",
        "outputId": "31639ff0-514d-41e8-e1e7-7e1c2879455d"
      },
      "execution_count": 293,
      "outputs": [
        {
          "output_type": "stream",
          "name": "stdout",
          "text": [
            "사과 두개의 가격은 150.880000원 입니다.\n"
          ]
        }
      ]
    },
    {
      "cell_type": "code",
      "source": [
        "print(\"사과 세개의 가격은 %d원 입니다.\"%c)"
      ],
      "metadata": {
        "colab": {
          "base_uri": "https://localhost:8080/"
        },
        "id": "4gJpXo3VkbK5",
        "outputId": "3aa26814-e356-4656-f973-cb90751706f8"
      },
      "execution_count": 294,
      "outputs": [
        {
          "output_type": "stream",
          "name": "stdout",
          "text": [
            "사과 세개의 가격은 200원 입니다.\n"
          ]
        }
      ]
    },
    {
      "cell_type": "code",
      "source": [
        "# %d자리에 차례대로 %(x,y)의 값을 넣어주세요.\n",
        "print(\"사과 한개의 가격은 %d원 입니다.사과 두개의 가격은 %d원 입니다.\"%(a, b))"
      ],
      "metadata": {
        "colab": {
          "base_uri": "https://localhost:8080/"
        },
        "id": "NUFMqEKwkc07",
        "outputId": "e2f01584-4255-4f08-8367-04d3c2f53df3"
      },
      "execution_count": 298,
      "outputs": [
        {
          "output_type": "stream",
          "name": "stdout",
          "text": [
            "사과 한개의 가격은 -100원 입니다.사과 두개의 가격은 150원 입니다.\n"
          ]
        }
      ]
    },
    {
      "cell_type": "code",
      "source": [
        "#문자도 가능합니당\n",
        "d=\"차현성\"\n",
        "print(\"%s 고객님 안녕하세요\"%d)"
      ],
      "metadata": {
        "colab": {
          "base_uri": "https://localhost:8080/"
        },
        "id": "liOoWILPkeWO",
        "outputId": "31c01f8d-9c79-4224-91fc-894f2c26a1d8"
      },
      "execution_count": 299,
      "outputs": [
        {
          "output_type": "stream",
          "name": "stdout",
          "text": [
            "차현성 고객님 안녕하세요\n"
          ]
        }
      ]
    },
    {
      "cell_type": "code",
      "source": [
        "f=\"송부근\"\n",
        "print(\"%s님아 집중하세요\"%f)\n",
        "print(\"그러다가 %d대 맞아요\"%c)"
      ],
      "metadata": {
        "colab": {
          "base_uri": "https://localhost:8080/"
        },
        "id": "WksnPWYTkfmH",
        "outputId": "f447e8d5-53c1-413e-a93e-8552279ea729"
      },
      "execution_count": 300,
      "outputs": [
        {
          "output_type": "stream",
          "name": "stdout",
          "text": [
            "송부근님아 집중하세요\n",
            "그러다가 200대 맞아요\n"
          ]
        }
      ]
    },
    {
      "cell_type": "markdown",
      "source": [
        "#functions"
      ],
      "metadata": {
        "id": "-Y21EO6TnZJz"
      }
    },
    {
      "cell_type": "code",
      "source": [
        "#True & False\n",
        "1 >2"
      ],
      "metadata": {
        "colab": {
          "base_uri": "https://localhost:8080/"
        },
        "id": "t47ldroQkg2Y",
        "outputId": "373f0c79-f48d-489e-efc0-fd39faba1238"
      },
      "execution_count": 301,
      "outputs": [
        {
          "output_type": "execute_result",
          "data": {
            "text/plain": [
              "False"
            ]
          },
          "metadata": {},
          "execution_count": 301
        }
      ]
    },
    {
      "cell_type": "code",
      "source": [
        "1<2"
      ],
      "metadata": {
        "colab": {
          "base_uri": "https://localhost:8080/"
        },
        "id": "ERTzxp9Tkii9",
        "outputId": "886869a2-51b3-49c4-dc34-f3600f15d0c0"
      },
      "execution_count": 302,
      "outputs": [
        {
          "output_type": "execute_result",
          "data": {
            "text/plain": [
              "True"
            ]
          },
          "metadata": {},
          "execution_count": 302
        }
      ]
    },
    {
      "cell_type": "code",
      "source": [
        "1<-1"
      ],
      "metadata": {
        "colab": {
          "base_uri": "https://localhost:8080/"
        },
        "id": "n9buwMCUkkF6",
        "outputId": "7ba0cd22-5bd7-465e-9c04-c7693459f8c7"
      },
      "execution_count": 303,
      "outputs": [
        {
          "output_type": "execute_result",
          "data": {
            "text/plain": [
              "False"
            ]
          },
          "metadata": {},
          "execution_count": 303
        }
      ]
    },
    {
      "cell_type": "code",
      "source": [
        "#1은 True\n",
        "#0은 False\n",
        "#1/0은 오류입니다"
      ],
      "metadata": {
        "id": "wWmJUWIquRuD"
      },
      "execution_count": 304,
      "outputs": []
    },
    {
      "cell_type": "code",
      "source": [
        "#and는 교집합이기 때문에 0이다.\n",
        "#0과 1은 교집합이 존재하지 않음.\n",
        "#공집합은 아니다.\n",
        "1 and 0"
      ],
      "metadata": {
        "colab": {
          "base_uri": "https://localhost:8080/"
        },
        "id": "I5ZFANTtklOp",
        "outputId": "bfd73971-c092-4d19-8bec-8f1f21ba1611"
      },
      "execution_count": 305,
      "outputs": [
        {
          "output_type": "execute_result",
          "data": {
            "text/plain": [
              "0"
            ]
          },
          "metadata": {},
          "execution_count": 305
        }
      ]
    },
    {
      "cell_type": "code",
      "source": [
        "#or은 합집합이다.\n",
        "#수학에서 <또는>은 '최소한 한쪽에 속함'\n",
        "#즉, +의 개념\n",
        "1 or 0"
      ],
      "metadata": {
        "colab": {
          "base_uri": "https://localhost:8080/"
        },
        "id": "qqBL6JwokmsL",
        "outputId": "04fd6bf7-a5e0-4cbd-c095-758d863b9fcb"
      },
      "execution_count": 306,
      "outputs": [
        {
          "output_type": "execute_result",
          "data": {
            "text/plain": [
              "1"
            ]
          },
          "metadata": {},
          "execution_count": 306
        }
      ]
    },
    {
      "cell_type": "code",
      "source": [
        "not 1"
      ],
      "metadata": {
        "colab": {
          "base_uri": "https://localhost:8080/"
        },
        "id": "OkUaNidbkpQY",
        "outputId": "38c02510-c6ac-4faa-dab5-1da8655f7b8a"
      },
      "execution_count": 307,
      "outputs": [
        {
          "output_type": "execute_result",
          "data": {
            "text/plain": [
              "False"
            ]
          },
          "metadata": {},
          "execution_count": 307
        }
      ]
    },
    {
      "cell_type": "code",
      "source": [
        "not 0"
      ],
      "metadata": {
        "colab": {
          "base_uri": "https://localhost:8080/"
        },
        "id": "kaaswWOwkqWK",
        "outputId": "5e107fea-f09b-4367-92ce-3da516e5dd83"
      },
      "execution_count": 308,
      "outputs": [
        {
          "output_type": "execute_result",
          "data": {
            "text/plain": [
              "True"
            ]
          },
          "metadata": {},
          "execution_count": 308
        }
      ]
    },
    {
      "cell_type": "code",
      "source": [
        "#True\n",
        "#List에 존재하기 때문에 참이다.\n",
        "1 in [0,1,2,3,4]"
      ],
      "metadata": {
        "colab": {
          "base_uri": "https://localhost:8080/"
        },
        "id": "N_kZit04C03q",
        "outputId": "ecc50c9d-885a-4da5-9051-56f0e85e349a"
      },
      "execution_count": 309,
      "outputs": [
        {
          "output_type": "execute_result",
          "data": {
            "text/plain": [
              "True"
            ]
          },
          "metadata": {},
          "execution_count": 309
        }
      ]
    },
    {
      "cell_type": "code",
      "source": [
        "\"a\" in \"abc\""
      ],
      "metadata": {
        "colab": {
          "base_uri": "https://localhost:8080/"
        },
        "id": "1NAzAsy7krOQ",
        "outputId": "6fa18412-2590-4d31-8e24-14a629fb295a"
      },
      "execution_count": 310,
      "outputs": [
        {
          "output_type": "execute_result",
          "data": {
            "text/plain": [
              "True"
            ]
          },
          "metadata": {},
          "execution_count": 310
        }
      ]
    },
    {
      "cell_type": "code",
      "source": [
        "#List에 존재하지 않기 때문에 참\n",
        "0 not in [1,2,3,4,5,6]"
      ],
      "metadata": {
        "colab": {
          "base_uri": "https://localhost:8080/"
        },
        "id": "wC-MaS4tDgzn",
        "outputId": "a2e0a3e9-6707-4b5e-944b-71175696587f"
      },
      "execution_count": 311,
      "outputs": [
        {
          "output_type": "execute_result",
          "data": {
            "text/plain": [
              "True"
            ]
          },
          "metadata": {},
          "execution_count": 311
        }
      ]
    },
    {
      "cell_type": "code",
      "source": [
        "#False\n",
        "#List에 존재하지 않기 때문에 거짓이다.\n",
        "6 in [1,2,3,4,5]"
      ],
      "metadata": {
        "colab": {
          "base_uri": "https://localhost:8080/"
        },
        "id": "ia8ccALBDNe5",
        "outputId": "36aab226-6783-453a-849c-fed02a982828"
      },
      "execution_count": 312,
      "outputs": [
        {
          "output_type": "execute_result",
          "data": {
            "text/plain": [
              "False"
            ]
          },
          "metadata": {},
          "execution_count": 312
        }
      ]
    },
    {
      "cell_type": "code",
      "source": [
        "\"a\" in \"gf\""
      ],
      "metadata": {
        "colab": {
          "base_uri": "https://localhost:8080/"
        },
        "id": "RALBmW78kvSq",
        "outputId": "cef58f06-8fe2-4471-86b9-829618b06f7e"
      },
      "execution_count": 313,
      "outputs": [
        {
          "output_type": "execute_result",
          "data": {
            "text/plain": [
              "False"
            ]
          },
          "metadata": {},
          "execution_count": 313
        }
      ]
    },
    {
      "cell_type": "code",
      "source": [
        "#List에 존재하기 때문에 거짓\n",
        "1 not in [1,2,3,4,5]"
      ],
      "metadata": {
        "colab": {
          "base_uri": "https://localhost:8080/"
        },
        "id": "N6AnLtSMDv0J",
        "outputId": "9ea8ecba-83c7-4d72-96f0-2193dc1cd861"
      },
      "execution_count": 314,
      "outputs": [
        {
          "output_type": "execute_result",
          "data": {
            "text/plain": [
              "False"
            ]
          },
          "metadata": {},
          "execution_count": 314
        }
      ]
    },
    {
      "cell_type": "code",
      "source": [
        "#if 함수\n",
        "#4칸씩 띄우는 것은 위의 조건에 종속되어있다는 뜻!\n",
        "score = 60\n",
        "\n",
        "if  score>90:\n",
        "    print(\"A\")\n",
        "else: \n",
        "    if score>80:\n",
        "        print(\"B\")\n",
        "    else:\n",
        "        if score>70:\n",
        "          print(\"C\")\n",
        "        else:\n",
        "            if score>60:\n",
        "                print(\"D\")\n",
        "            else :\n",
        "                print(\"F\")"
      ],
      "metadata": {
        "colab": {
          "base_uri": "https://localhost:8080/"
        },
        "id": "Ap-5Pp4Hk6T2",
        "outputId": "5def9d2e-e93a-4b10-97ac-8cdf8e301dbf"
      },
      "execution_count": 315,
      "outputs": [
        {
          "output_type": "stream",
          "name": "stdout",
          "text": [
            "F\n"
          ]
        }
      ]
    },
    {
      "cell_type": "code",
      "source": [
        "#else: if를 줄여서 -> elif\n",
        "\n",
        "score=75\n",
        "\n",
        "if  score>90:\n",
        "    print(\"A\")\n",
        "elif score>80:\n",
        "    print(\"B\")\n",
        "elif score>70:\n",
        "    print(\"C\")\n",
        "elif score>60:\n",
        "    print(\"D\")\n",
        "else :\n",
        "    print(\"F\")"
      ],
      "metadata": {
        "colab": {
          "base_uri": "https://localhost:8080/"
        },
        "id": "DkDyODIck76g",
        "outputId": "7ce633b6-11ce-43cf-a724-3f9a93db5aaa"
      },
      "execution_count": 316,
      "outputs": [
        {
          "output_type": "stream",
          "name": "stdout",
          "text": [
            "C\n"
          ]
        }
      ]
    },
    {
      "cell_type": "code",
      "source": [
        "#try함수\n",
        "#1/0은 오류임.(얼레벌레 수학적인 이유)\n",
        "#그래도 시도(try)를 하고 싶어서\n",
        "#1x0/0 = 1x0 = 0이라는 가정을 해보았음.\n",
        "#수학적인 오류(분모가 0인 상황이 발생함.)\n",
        "try:\n",
        "    1/0\n",
        "except:\n",
        "    print(\"분모가 0이 나왔음\")\n",
        "else:\n",
        "    print(\"분모 이상 없음\")"
      ],
      "metadata": {
        "colab": {
          "base_uri": "https://localhost:8080/"
        },
        "id": "Uasi9xo7lDx3",
        "outputId": "579e4f9b-ee1e-45fb-9cac-96f246f9e992"
      },
      "execution_count": 333,
      "outputs": [
        {
          "output_type": "stream",
          "name": "stdout",
          "text": [
            "분모가 0이 나왔음\n"
          ]
        }
      ]
    },
    {
      "cell_type": "code",
      "source": [
        "#While함수\n",
        "#0<=i<10\n",
        "#i+=1이라면, +1씩 모든 곳에 더해준 수를 구할 수 있음\n",
        "\n",
        "i=0\n",
        "while i<10:\n",
        "    i+=1\n",
        "    print(i)"
      ],
      "metadata": {
        "colab": {
          "base_uri": "https://localhost:8080/"
        },
        "id": "9TGNkMxflFcu",
        "outputId": "4797c8fa-7715-4d60-8c0b-739b13579b30"
      },
      "execution_count": 334,
      "outputs": [
        {
          "output_type": "stream",
          "name": "stdout",
          "text": [
            "1\n",
            "2\n",
            "3\n",
            "4\n",
            "5\n",
            "6\n",
            "7\n",
            "8\n",
            "9\n",
            "10\n"
          ]
        }
      ]
    },
    {
      "cell_type": "code",
      "source": [
        "#For함수\n",
        "#최종값 10안에 들어갈 수 있는 i의 값들\n",
        "#최솟값을 음수로 지정하면 음수부터 도출 가능  \n",
        "for i in range(10):\n",
        "    print(i)"
      ],
      "metadata": {
        "colab": {
          "base_uri": "https://localhost:8080/"
        },
        "id": "VaX0ZNaNlKXb",
        "outputId": "03c2975b-ebc9-418e-9393-9284f2e88646"
      },
      "execution_count": 350,
      "outputs": [
        {
          "output_type": "stream",
          "name": "stdout",
          "text": [
            "0\n",
            "1\n",
            "2\n",
            "3\n",
            "4\n",
            "5\n",
            "6\n",
            "7\n",
            "8\n",
            "9\n"
          ]
        }
      ]
    },
    {
      "cell_type": "code",
      "source": [
        "j=0\n",
        "for i in range(10):\n",
        "    j+=i\n",
        "    print(j)"
      ],
      "metadata": {
        "colab": {
          "base_uri": "https://localhost:8080/"
        },
        "id": "1CF67Y7LlLz_",
        "outputId": "0988ef18-bc07-441a-b53c-0a41af9f5b75"
      },
      "execution_count": 336,
      "outputs": [
        {
          "output_type": "stream",
          "name": "stdout",
          "text": [
            "0\n",
            "1\n",
            "3\n",
            "6\n",
            "10\n",
            "15\n",
            "21\n",
            "28\n",
            "36\n",
            "45\n"
          ]
        }
      ]
    },
    {
      "cell_type": "code",
      "source": [
        "# range(초기값, 최종값, 증감값)\n",
        "# i의 값을 도출할 때,최종값까지\" \"를 넣어달라 요청\n",
        "for i in range(5,10,):\n",
        "    print(i,end=\" \")"
      ],
      "metadata": {
        "colab": {
          "base_uri": "https://localhost:8080/"
        },
        "id": "xdEPvtlRlOET",
        "outputId": "a4ae2c63-7c55-4762-e4d6-dc4522157c96"
      },
      "execution_count": 337,
      "outputs": [
        {
          "output_type": "stream",
          "name": "stdout",
          "text": [
            "5 6 7 8 9 "
          ]
        }
      ]
    },
    {
      "cell_type": "code",
      "source": [
        "for i in range(5,10,2):\n",
        "    print(i,end=\" \")"
      ],
      "metadata": {
        "colab": {
          "base_uri": "https://localhost:8080/"
        },
        "id": "MHoHAZD9lQFJ",
        "outputId": "acdb9004-1a10-4fea-8359-76babed3e760"
      },
      "execution_count": 351,
      "outputs": [
        {
          "output_type": "stream",
          "name": "stdout",
          "text": [
            "5 7 9 "
          ]
        }
      ]
    },
    {
      "cell_type": "code",
      "source": [
        "#역순으로도 가능\n",
        "for i in range(20,0,-2):\n",
        "    print(i,end=\" \")"
      ],
      "metadata": {
        "colab": {
          "base_uri": "https://localhost:8080/"
        },
        "id": "LydZgMaqsqkL",
        "outputId": "f8b4dd7e-efab-41a1-d228-0d88734c81bf"
      },
      "execution_count": 347,
      "outputs": [
        {
          "output_type": "stream",
          "name": "stdout",
          "text": [
            "20 18 16 14 12 10 8 6 4 2 "
          ]
        }
      ]
    },
    {
      "cell_type": "code",
      "source": [
        "#f(a)에 대해 정의 함\n",
        "def f(a):\n",
        "    out =a/3\n",
        "    return out"
      ],
      "metadata": {
        "id": "RVZIEUoqlS6g"
      },
      "execution_count": 352,
      "outputs": []
    },
    {
      "cell_type": "code",
      "source": [
        "f(30)"
      ],
      "metadata": {
        "colab": {
          "base_uri": "https://localhost:8080/"
        },
        "id": "vutGaeYylUqQ",
        "outputId": "5b8df2dd-0cb6-4f85-9ef3-f8746a53f467"
      },
      "execution_count": 353,
      "outputs": [
        {
          "output_type": "execute_result",
          "data": {
            "text/plain": [
              "10.0"
            ]
          },
          "metadata": {},
          "execution_count": 353
        }
      ]
    },
    {
      "cell_type": "code",
      "source": [
        "#div3(a)에 대한 정의\n",
        "def div3(a):\n",
        "    out =a/5\n",
        "    return out"
      ],
      "metadata": {
        "id": "NHvpeS63lWKD"
      },
      "execution_count": 325,
      "outputs": []
    },
    {
      "cell_type": "code",
      "source": [
        "div3(60)"
      ],
      "metadata": {
        "colab": {
          "base_uri": "https://localhost:8080/"
        },
        "id": "iZjhAySGlXbg",
        "outputId": "ff74366f-a1ac-488e-ee16-4fbdd005e680"
      },
      "execution_count": 326,
      "outputs": [
        {
          "output_type": "execute_result",
          "data": {
            "text/plain": [
              "12.0"
            ]
          },
          "metadata": {},
          "execution_count": 326
        }
      ]
    },
    {
      "cell_type": "code",
      "source": [
        "#위의 함수들을 쉽게 설명하자면\n",
        "def f(x):\n",
        "    out =x/7\n",
        "    return out"
      ],
      "metadata": {
        "id": "Fk8NmuGlXGo0"
      },
      "execution_count": 354,
      "outputs": []
    },
    {
      "cell_type": "code",
      "source": [
        "f(6)"
      ],
      "metadata": {
        "colab": {
          "base_uri": "https://localhost:8080/"
        },
        "id": "obbBE6xkuvR-",
        "outputId": "0e652b29-c539-4268-d238-b24d5cd19b05"
      },
      "execution_count": 355,
      "outputs": [
        {
          "output_type": "execute_result",
          "data": {
            "text/plain": [
              "0.8571428571428571"
            ]
          },
          "metadata": {},
          "execution_count": 355
        }
      ]
    },
    {
      "cell_type": "code",
      "source": [],
      "metadata": {
        "id": "v1dbCdgLuzbW"
      },
      "execution_count": null,
      "outputs": []
    }
  ]
}